{
 "cells": [
  {
   "cell_type": "markdown",
   "metadata": {},
   "source": [
    "# Exploratory Data Analysis in Action"
   ]
  },
  {
   "cell_type": "markdown",
   "metadata": {},
   "source": [
    "**Import statements**\n",
    "\n"
   ]
  },
  {
   "cell_type": "code",
   "execution_count": 1,
   "metadata": {},
   "outputs": [],
   "source": [
    "import numpy as np\n",
    "import pandas as pd\n",
    "import matplotlib.pyplot as plt\n",
    "%matplotlib inline"
   ]
  },
  {
   "cell_type": "markdown",
   "metadata": {},
   "source": [
    "**Global settings**"
   ]
  },
  {
   "cell_type": "code",
   "execution_count": 2,
   "metadata": {},
   "outputs": [],
   "source": [
    "pd.options.display.max_rows = 999\n",
    "pd.options.display.max_columns = 100\n",
    "#pd.set_option('display.max_colwidth', -1)\n",
    "plt.rcParams[\"figure.figsize\"] = [15,6]"
   ]
  },
  {
   "cell_type": "markdown",
   "metadata": {},
   "source": [
    "## Inspect the raw data set\n",
    "\n",
    "It is good practice to inspect the data set before loading into Python. If we are dealing with text-like data we may inspect the data set using our favorite text editor or simply using the shell. \n",
    "\n",
    "When working with Jupyter notebooks we may use the notebook magic command `!` to execute shell commands form within a code cell.\n",
    "\n",
    "The data set is found in the `datasets` folder:\n",
    "\n",
    "    ../datasets/operations.csv\n",
    "\n",
    "\n",
    "In order to look at the first 20 lines of the text file we use the bash command `head -20 PATH_TO_FILE/FILENAME`."
   ]
  },
  {
   "cell_type": "code",
   "execution_count": 15,
   "metadata": {},
   "outputs": [
    {
     "name": "stdout",
     "output_type": "stream",
     "text": [
      "Mission ID,Mission Date,Theater of Operations,Country,Air Force,Unit ID,Aircraft Series,Callsign,Mission Type,Takeoff Base,Takeoff Location,Takeoff Latitude,Takeoff Longitude,Target ID,Target Country,Target City,Target Type,Target Industry,Target Priority,Target Latitude,Target Longitude,Altitude (Hundreds of Feet),Airborne Aircraft,Attacking Aircraft,Bombing Aircraft,Aircraft Returned,Aircraft Failed,Aircraft Damaged,Aircraft Lost,High Explosives,High Explosives Type,High Explosives Weight (Pounds),High Explosives Weight (Tons),Incendiary Devices,Incendiary Devices Type,Incendiary Devices Weight (Pounds),Incendiary Devices Weight (Tons),Fragmentation Devices,Fragmentation Devices Type,Fragmentation Devices Weight (Pounds),Fragmentation Devices Weight (Tons),Total Weight (Pounds),Total Weight (Tons),Time Over Target,Bomb Damage Assessment,Source ID\n",
      "1,8/15/1943,MTO,USA,12 AF,27 FBG/86 FBG,A36,,,PONTE OLIVO AIRFIELD,SICILY,37.131022,14.321464,40675,ITALY,SPADAFORA,,,,38.22,15.37,,20,,20,,,,,40,500 LB GP (GP-M43/M64),,10,,,,,,,,,,10,,,\n",
      "2,8/15/1943,PTO,USA,5 AF,400 BS,B24,,1,,,,,,NEW GUINEA,KOMIATUM,RIDGE,,1,-7.166666667,147,44,,6,,,,,,40,1000 LB GP (GP-M44/M65),,20,,,,,,,,,,20,,,9366\n",
      "3,8/15/1943,MTO,USA,12 AF,27 FBG/86 FBG,A36,,,PONTE OLIVO AIRFIELD,SICILY,37.131022,14.321464,9630,ITALY,COSENZA,,,,39.27,16.25,,18,,36,,,,,36,500 LB GP (GP-M43/M64),,9,,,,,,,,,,9,,,\n",
      "4,8/15/1943,MTO,USA,12 AF,27 FBG/86 FBG,A36,,,PONTE OLIVO AIRFIELD,SICILY,37.131022,14.321464,16140,ITALY,GIOJA TAURO,,,,38.43,15.9,,15,,15,,1,,,30,500 LB GP (GP-M43/M64),,7.5,,,,,,,,,,7.5,,,\n",
      "5,8/15/1943,PTO,USA,5 AF,321 BS,B24,,1,,,,,,SUMATRA,KILA,VILLAGE,,1,-1.116666667,103.8833333,60,,6,,,,,,16,1000 LB GP (GP-M44/M65),,8,,,,,,,,,,8,,,22585\n",
      "6,8/15/1943,PTO,USA,5 AF,319 BS,B24,,1,,,,,,NEW GUINEA,KDMIATUM,UNIDENTIFIED TARGET,,1,-7.166666667,147,35,,6,,,,,,8,1000 LB GP (GP-M44/M65),,4,,,,,,,,,,4,,,9349\n",
      "7,8/15/1943,PTO,USA,5 AF,400 BS,B24,,12,,,,,,NEW GUINEA,SALAMAUA,UNIDENTIFIED TARGET,,1,-7.016666667,147.1166667,70,,1,,,,,,4,500 LB GP (GP-M43/M64),,1,,,,,,,,,,1,,,11287\n",
      "8,8/15/1943,PTO,USA,5 AF,65 BS,B17,,1,,,,,,NEW GUINEA,SALAMAUA,AIRDROME,,1,-7.016666667,147.1166667,40,,8,,,,,,4,1000 LB GP (GP-M44/M65),,2,,,,,,,,,,2,,,11326\n",
      "9,8/15/1943,MTO,USA,12 AF,27 FBG/86 FBG,A36,,,PONTE OLIVO AIRFIELD,SICILY,37.131022,14.321464,39469,ITALY,SCILLA,,,,38.23,15.72,,0,,,,,,,0,500 LB GP (GP-M43/M64),,0,,,,,,,,,,0,,,\n",
      "10,8/15/1943,MTO,USA,12 AF,27 FBG/86 FBG,A36,,,PONTE OLIVO AIRFIELD,SICILY,37.131022,14.321464,16140,ITALY,GIOJA TAURO,,ARMAMENT AND ORDNANCE PLANTS,,38.43,15.9,,0,,,,,,,0,500 LB GP (GP-M43/M64),,0,,,,,,,,,,0,,,\n",
      "11,8/15/1943,CBI,USA,10 AF,436 BS,B24,,2,,,,,,BURMA,PORT BLAIR,UNIDENTIFIED TARGET,,1,11.68333333,92.71666667,83,,6,,,,,,0,500 LB GP (GP-M43/M64),,,,,,,,,,,,,,,37192\n",
      "12,8/15/1943,ETO,GREAT BRITAIN,RAF,,LGT,,,,,,,3735,GERMANY,BERLIN,CITY AREA,CITIES TOWNS AND URBAN AREAS,,52.53,13.42,250,,,,,,,,,,,1,,,,,,,,,,1,,,292817\n",
      "13,8/15/1943,ETO,GREAT BRITAIN,RAF,,LGT,,,,,,,3735,GERMANY,BERLIN,CITY AREA,CITIES TOWNS AND URBAN AREAS,,52.53,13.42,250,5,5,5,,,,,,,,4,,,,,,,,,,4,,,292818\n",
      "14,8/15/1943,ETO,,,,B17,,,,,,,14129,HOLLAND OR NETHERLANDS,FLUSHING,,AIR FIELDS AND AIRDROMES,2,51.4,3.53,245,,,,,,,,,,,39,,,,,,,,,,39,,,95435\n",
      "15,8/15/1943,ETO,,,,B17,,,,,,,14129,HOLLAND OR NETHERLANDS,FLUSHING,,AIR FIELDS AND AIRDROMES,2,51.4,3.53,245,,,,,,,,,,,39,,,,,,,,,,39,,,197541\n",
      "16,8/15/1943,ETO,,,,B17,,,,,,,14129,HOLLAND OR NETHERLANDS,FLUSHING,,AIR FIELDS AND AIRDROMES,2,51.4,3.53,245,,,,,,,,,,,39,,,,,,,,,,39,,,197560\n",
      "17,8/15/1943,ETO,,,,B17,,,,,,,1063,FRANCE,AMIENS,AIRDROME,AIR FIELDS AND AIRDROMES,1,49.9,2.3,240,,,,,,,,,,,5,,,,,,,,,,5,,,95429\n",
      "18,8/15/1943,ETO,,,,B17,,,,,,,1063,FRANCE,AMIENS,AIRDROME,AIR FIELDS AND AIRDROMES,1,49.9,2.3,240,,,,,,,,,,,5,,,,,,,,,,5,,,197535\n",
      "19,8/15/1943,ETO,,,,B17,,,,,,,1063,FRANCE,AMIENS,AIRDROME,AIR FIELDS AND AIRDROMES,1,49.9,2.3,240,,,,,,,,,,,5,,,,,,,,,,5,,,197555\n"
     ]
    }
   ],
   "source": [
    "!head -20 ../datasets/operations.csv"
   ]
  },
  {
   "cell_type": "markdown",
   "metadata": {},
   "source": [
    "## Load data set"
   ]
  },
  {
   "cell_type": "code",
   "execution_count": 16,
   "metadata": {},
   "outputs": [],
   "source": [
    "PATH = \"../datasets/\"\n",
    "df_raw = pd.read_csv(PATH + \"operations.csv\", low_memory=False)"
   ]
  },
  {
   "cell_type": "markdown",
   "metadata": {},
   "source": [
    "## Review proporties of the pandas object"
   ]
  },
  {
   "cell_type": "markdown",
   "metadata": {},
   "source": [
    "**Number of rows and columns**"
   ]
  },
  {
   "cell_type": "code",
   "execution_count": 6,
   "metadata": {},
   "outputs": [
    {
     "data": {
      "text/plain": [
       "(178281, 46)"
      ]
     },
     "execution_count": 6,
     "metadata": {},
     "output_type": "execute_result"
    }
   ],
   "source": [
    "df_raw.shape"
   ]
  },
  {
   "cell_type": "markdown",
   "metadata": {},
   "source": [
    "**Memory usage** (Check out the [blog entry of Josh Devlin](https://www.dataquest.io/blog/pandas-big-data/) for a deep dive into memory management with pandas)"
   ]
  },
  {
   "cell_type": "code",
   "execution_count": 32,
   "metadata": {},
   "outputs": [
    {
     "name": "stdout",
     "output_type": "stream",
     "text": [
      "<class 'pandas.core.frame.DataFrame'>\n",
      "RangeIndex: 178281 entries, 0 to 178280\n",
      "Columns: 46 entries, Mission ID to Source ID\n",
      "dtypes: float64(22), int64(1), object(23)\n",
      "memory usage: 215.1 MB\n"
     ]
    }
   ],
   "source": [
    "df_raw.info(verbose=False, memory_usage='deep')"
   ]
  },
  {
   "cell_type": "markdown",
   "metadata": {},
   "source": [
    "**Inspect columns and row**"
   ]
  },
  {
   "cell_type": "code",
   "execution_count": 23,
   "metadata": {},
   "outputs": [
    {
     "data": {
      "text/html": [
       "<div>\n",
       "<style scoped>\n",
       "    .dataframe tbody tr th:only-of-type {\n",
       "        vertical-align: middle;\n",
       "    }\n",
       "\n",
       "    .dataframe tbody tr th {\n",
       "        vertical-align: top;\n",
       "    }\n",
       "\n",
       "    .dataframe thead th {\n",
       "        text-align: right;\n",
       "    }\n",
       "</style>\n",
       "<table border=\"1\" class=\"dataframe\">\n",
       "  <thead>\n",
       "    <tr style=\"text-align: right;\">\n",
       "      <th></th>\n",
       "      <th>Mission ID</th>\n",
       "      <th>Mission Date</th>\n",
       "      <th>Theater of Operations</th>\n",
       "      <th>Country</th>\n",
       "      <th>Air Force</th>\n",
       "      <th>Unit ID</th>\n",
       "      <th>Aircraft Series</th>\n",
       "      <th>Callsign</th>\n",
       "      <th>Mission Type</th>\n",
       "      <th>Takeoff Base</th>\n",
       "      <th>Takeoff Location</th>\n",
       "      <th>Takeoff Latitude</th>\n",
       "      <th>Takeoff Longitude</th>\n",
       "      <th>Target ID</th>\n",
       "      <th>Target Country</th>\n",
       "      <th>Target City</th>\n",
       "      <th>Target Type</th>\n",
       "      <th>Target Industry</th>\n",
       "      <th>Target Priority</th>\n",
       "      <th>Target Latitude</th>\n",
       "      <th>Target Longitude</th>\n",
       "      <th>Altitude (Hundreds of Feet)</th>\n",
       "      <th>Airborne Aircraft</th>\n",
       "      <th>Attacking Aircraft</th>\n",
       "      <th>Bombing Aircraft</th>\n",
       "      <th>Aircraft Returned</th>\n",
       "      <th>Aircraft Failed</th>\n",
       "      <th>Aircraft Damaged</th>\n",
       "      <th>Aircraft Lost</th>\n",
       "      <th>High Explosives</th>\n",
       "      <th>High Explosives Type</th>\n",
       "      <th>High Explosives Weight (Pounds)</th>\n",
       "      <th>High Explosives Weight (Tons)</th>\n",
       "      <th>Incendiary Devices</th>\n",
       "      <th>Incendiary Devices Type</th>\n",
       "      <th>Incendiary Devices Weight (Pounds)</th>\n",
       "      <th>Incendiary Devices Weight (Tons)</th>\n",
       "      <th>Fragmentation Devices</th>\n",
       "      <th>Fragmentation Devices Type</th>\n",
       "      <th>Fragmentation Devices Weight (Pounds)</th>\n",
       "      <th>Fragmentation Devices Weight (Tons)</th>\n",
       "      <th>Total Weight (Pounds)</th>\n",
       "      <th>Total Weight (Tons)</th>\n",
       "      <th>Time Over Target</th>\n",
       "      <th>Bomb Damage Assessment</th>\n",
       "      <th>Source ID</th>\n",
       "    </tr>\n",
       "  </thead>\n",
       "  <tbody>\n",
       "    <tr>\n",
       "      <th>0</th>\n",
       "      <td>1</td>\n",
       "      <td>8/15/1943</td>\n",
       "      <td>MTO</td>\n",
       "      <td>USA</td>\n",
       "      <td>12 AF</td>\n",
       "      <td>27 FBG/86 FBG</td>\n",
       "      <td>A36</td>\n",
       "      <td>NaN</td>\n",
       "      <td>NaN</td>\n",
       "      <td>PONTE OLIVO AIRFIELD</td>\n",
       "      <td>SICILY</td>\n",
       "      <td>37.131022</td>\n",
       "      <td>14.321464</td>\n",
       "      <td>40675</td>\n",
       "      <td>ITALY</td>\n",
       "      <td>SPADAFORA</td>\n",
       "      <td>NaN</td>\n",
       "      <td>NaN</td>\n",
       "      <td>NaN</td>\n",
       "      <td>38.220000</td>\n",
       "      <td>15.370000</td>\n",
       "      <td>NaN</td>\n",
       "      <td>20.0</td>\n",
       "      <td>NaN</td>\n",
       "      <td>20.0</td>\n",
       "      <td>NaN</td>\n",
       "      <td>NaN</td>\n",
       "      <td>NaN</td>\n",
       "      <td>NaN</td>\n",
       "      <td>40.0</td>\n",
       "      <td>500 LB GP (GP-M43/M64)</td>\n",
       "      <td>NaN</td>\n",
       "      <td>10.0</td>\n",
       "      <td>NaN</td>\n",
       "      <td>NaN</td>\n",
       "      <td>NaN</td>\n",
       "      <td>NaN</td>\n",
       "      <td>NaN</td>\n",
       "      <td>NaN</td>\n",
       "      <td>NaN</td>\n",
       "      <td>NaN</td>\n",
       "      <td>NaN</td>\n",
       "      <td>10.0</td>\n",
       "      <td>NaN</td>\n",
       "      <td>NaN</td>\n",
       "      <td>NaN</td>\n",
       "    </tr>\n",
       "    <tr>\n",
       "      <th>1</th>\n",
       "      <td>2</td>\n",
       "      <td>8/15/1943</td>\n",
       "      <td>PTO</td>\n",
       "      <td>USA</td>\n",
       "      <td>5 AF</td>\n",
       "      <td>400 BS</td>\n",
       "      <td>B24</td>\n",
       "      <td>NaN</td>\n",
       "      <td>1</td>\n",
       "      <td>NaN</td>\n",
       "      <td>NaN</td>\n",
       "      <td>NaN</td>\n",
       "      <td>NaN</td>\n",
       "      <td>NaN</td>\n",
       "      <td>NEW GUINEA</td>\n",
       "      <td>KOMIATUM</td>\n",
       "      <td>RIDGE</td>\n",
       "      <td>NaN</td>\n",
       "      <td>1</td>\n",
       "      <td>-7.166667</td>\n",
       "      <td>147.000000</td>\n",
       "      <td>44.0</td>\n",
       "      <td>NaN</td>\n",
       "      <td>6.0</td>\n",
       "      <td>NaN</td>\n",
       "      <td>NaN</td>\n",
       "      <td>NaN</td>\n",
       "      <td>NaN</td>\n",
       "      <td>NaN</td>\n",
       "      <td>40.0</td>\n",
       "      <td>1000 LB GP (GP-M44/M65)</td>\n",
       "      <td>NaN</td>\n",
       "      <td>20.0</td>\n",
       "      <td>NaN</td>\n",
       "      <td>NaN</td>\n",
       "      <td>NaN</td>\n",
       "      <td>NaN</td>\n",
       "      <td>NaN</td>\n",
       "      <td>NaN</td>\n",
       "      <td>NaN</td>\n",
       "      <td>NaN</td>\n",
       "      <td>NaN</td>\n",
       "      <td>20.0</td>\n",
       "      <td>NaN</td>\n",
       "      <td>NaN</td>\n",
       "      <td>9366.0</td>\n",
       "    </tr>\n",
       "    <tr>\n",
       "      <th>2</th>\n",
       "      <td>3</td>\n",
       "      <td>8/15/1943</td>\n",
       "      <td>MTO</td>\n",
       "      <td>USA</td>\n",
       "      <td>12 AF</td>\n",
       "      <td>27 FBG/86 FBG</td>\n",
       "      <td>A36</td>\n",
       "      <td>NaN</td>\n",
       "      <td>NaN</td>\n",
       "      <td>PONTE OLIVO AIRFIELD</td>\n",
       "      <td>SICILY</td>\n",
       "      <td>37.131022</td>\n",
       "      <td>14.321464</td>\n",
       "      <td>9630</td>\n",
       "      <td>ITALY</td>\n",
       "      <td>COSENZA</td>\n",
       "      <td>NaN</td>\n",
       "      <td>NaN</td>\n",
       "      <td>NaN</td>\n",
       "      <td>39.270000</td>\n",
       "      <td>16.250000</td>\n",
       "      <td>NaN</td>\n",
       "      <td>18.0</td>\n",
       "      <td>NaN</td>\n",
       "      <td>36.0</td>\n",
       "      <td>NaN</td>\n",
       "      <td>NaN</td>\n",
       "      <td>NaN</td>\n",
       "      <td>NaN</td>\n",
       "      <td>36.0</td>\n",
       "      <td>500 LB GP (GP-M43/M64)</td>\n",
       "      <td>NaN</td>\n",
       "      <td>9.0</td>\n",
       "      <td>NaN</td>\n",
       "      <td>NaN</td>\n",
       "      <td>NaN</td>\n",
       "      <td>NaN</td>\n",
       "      <td>NaN</td>\n",
       "      <td>NaN</td>\n",
       "      <td>NaN</td>\n",
       "      <td>NaN</td>\n",
       "      <td>NaN</td>\n",
       "      <td>9.0</td>\n",
       "      <td>NaN</td>\n",
       "      <td>NaN</td>\n",
       "      <td>NaN</td>\n",
       "    </tr>\n",
       "    <tr>\n",
       "      <th>3</th>\n",
       "      <td>4</td>\n",
       "      <td>8/15/1943</td>\n",
       "      <td>MTO</td>\n",
       "      <td>USA</td>\n",
       "      <td>12 AF</td>\n",
       "      <td>27 FBG/86 FBG</td>\n",
       "      <td>A36</td>\n",
       "      <td>NaN</td>\n",
       "      <td>NaN</td>\n",
       "      <td>PONTE OLIVO AIRFIELD</td>\n",
       "      <td>SICILY</td>\n",
       "      <td>37.131022</td>\n",
       "      <td>14.321464</td>\n",
       "      <td>16140</td>\n",
       "      <td>ITALY</td>\n",
       "      <td>GIOJA TAURO</td>\n",
       "      <td>NaN</td>\n",
       "      <td>NaN</td>\n",
       "      <td>NaN</td>\n",
       "      <td>38.430000</td>\n",
       "      <td>15.900000</td>\n",
       "      <td>NaN</td>\n",
       "      <td>15.0</td>\n",
       "      <td>NaN</td>\n",
       "      <td>15.0</td>\n",
       "      <td>NaN</td>\n",
       "      <td>1.0</td>\n",
       "      <td>NaN</td>\n",
       "      <td>NaN</td>\n",
       "      <td>30.0</td>\n",
       "      <td>500 LB GP (GP-M43/M64)</td>\n",
       "      <td>NaN</td>\n",
       "      <td>7.5</td>\n",
       "      <td>NaN</td>\n",
       "      <td>NaN</td>\n",
       "      <td>NaN</td>\n",
       "      <td>NaN</td>\n",
       "      <td>NaN</td>\n",
       "      <td>NaN</td>\n",
       "      <td>NaN</td>\n",
       "      <td>NaN</td>\n",
       "      <td>NaN</td>\n",
       "      <td>7.5</td>\n",
       "      <td>NaN</td>\n",
       "      <td>NaN</td>\n",
       "      <td>NaN</td>\n",
       "    </tr>\n",
       "    <tr>\n",
       "      <th>4</th>\n",
       "      <td>5</td>\n",
       "      <td>8/15/1943</td>\n",
       "      <td>PTO</td>\n",
       "      <td>USA</td>\n",
       "      <td>5 AF</td>\n",
       "      <td>321 BS</td>\n",
       "      <td>B24</td>\n",
       "      <td>NaN</td>\n",
       "      <td>1</td>\n",
       "      <td>NaN</td>\n",
       "      <td>NaN</td>\n",
       "      <td>NaN</td>\n",
       "      <td>NaN</td>\n",
       "      <td>NaN</td>\n",
       "      <td>SUMATRA</td>\n",
       "      <td>KILA</td>\n",
       "      <td>VILLAGE</td>\n",
       "      <td>NaN</td>\n",
       "      <td>1</td>\n",
       "      <td>-1.116667</td>\n",
       "      <td>103.883333</td>\n",
       "      <td>60.0</td>\n",
       "      <td>NaN</td>\n",
       "      <td>6.0</td>\n",
       "      <td>NaN</td>\n",
       "      <td>NaN</td>\n",
       "      <td>NaN</td>\n",
       "      <td>NaN</td>\n",
       "      <td>NaN</td>\n",
       "      <td>16.0</td>\n",
       "      <td>1000 LB GP (GP-M44/M65)</td>\n",
       "      <td>NaN</td>\n",
       "      <td>8.0</td>\n",
       "      <td>NaN</td>\n",
       "      <td>NaN</td>\n",
       "      <td>NaN</td>\n",
       "      <td>NaN</td>\n",
       "      <td>NaN</td>\n",
       "      <td>NaN</td>\n",
       "      <td>NaN</td>\n",
       "      <td>NaN</td>\n",
       "      <td>NaN</td>\n",
       "      <td>8.0</td>\n",
       "      <td>NaN</td>\n",
       "      <td>NaN</td>\n",
       "      <td>22585.0</td>\n",
       "    </tr>\n",
       "  </tbody>\n",
       "</table>\n",
       "</div>"
      ],
      "text/plain": [
       "   Mission ID Mission Date Theater of Operations Country Air Force  \\\n",
       "0           1    8/15/1943                   MTO     USA     12 AF   \n",
       "1           2    8/15/1943                   PTO     USA      5 AF   \n",
       "2           3    8/15/1943                   MTO     USA     12 AF   \n",
       "3           4    8/15/1943                   MTO     USA     12 AF   \n",
       "4           5    8/15/1943                   PTO     USA      5 AF   \n",
       "\n",
       "         Unit ID Aircraft Series Callsign Mission Type          Takeoff Base  \\\n",
       "0  27 FBG/86 FBG             A36      NaN          NaN  PONTE OLIVO AIRFIELD   \n",
       "1         400 BS             B24      NaN            1                   NaN   \n",
       "2  27 FBG/86 FBG             A36      NaN          NaN  PONTE OLIVO AIRFIELD   \n",
       "3  27 FBG/86 FBG             A36      NaN          NaN  PONTE OLIVO AIRFIELD   \n",
       "4         321 BS             B24      NaN            1                   NaN   \n",
       "\n",
       "  Takeoff Location Takeoff Latitude  Takeoff Longitude Target ID  \\\n",
       "0           SICILY        37.131022          14.321464     40675   \n",
       "1              NaN              NaN                NaN       NaN   \n",
       "2           SICILY        37.131022          14.321464      9630   \n",
       "3           SICILY        37.131022          14.321464     16140   \n",
       "4              NaN              NaN                NaN       NaN   \n",
       "\n",
       "  Target Country  Target City Target Type Target Industry Target Priority  \\\n",
       "0          ITALY    SPADAFORA         NaN             NaN             NaN   \n",
       "1     NEW GUINEA     KOMIATUM       RIDGE             NaN               1   \n",
       "2          ITALY      COSENZA         NaN             NaN             NaN   \n",
       "3          ITALY  GIOJA TAURO         NaN             NaN             NaN   \n",
       "4        SUMATRA         KILA     VILLAGE             NaN               1   \n",
       "\n",
       "   Target Latitude  Target Longitude  Altitude (Hundreds of Feet)  \\\n",
       "0        38.220000         15.370000                          NaN   \n",
       "1        -7.166667        147.000000                         44.0   \n",
       "2        39.270000         16.250000                          NaN   \n",
       "3        38.430000         15.900000                          NaN   \n",
       "4        -1.116667        103.883333                         60.0   \n",
       "\n",
       "   Airborne Aircraft  Attacking Aircraft  Bombing Aircraft  Aircraft Returned  \\\n",
       "0               20.0                 NaN              20.0                NaN   \n",
       "1                NaN                 6.0               NaN                NaN   \n",
       "2               18.0                 NaN              36.0                NaN   \n",
       "3               15.0                 NaN              15.0                NaN   \n",
       "4                NaN                 6.0               NaN                NaN   \n",
       "\n",
       "   Aircraft Failed  Aircraft Damaged  Aircraft Lost  High Explosives  \\\n",
       "0              NaN               NaN            NaN             40.0   \n",
       "1              NaN               NaN            NaN             40.0   \n",
       "2              NaN               NaN            NaN             36.0   \n",
       "3              1.0               NaN            NaN             30.0   \n",
       "4              NaN               NaN            NaN             16.0   \n",
       "\n",
       "      High Explosives Type High Explosives Weight (Pounds)  \\\n",
       "0   500 LB GP (GP-M43/M64)                             NaN   \n",
       "1  1000 LB GP (GP-M44/M65)                             NaN   \n",
       "2   500 LB GP (GP-M43/M64)                             NaN   \n",
       "3   500 LB GP (GP-M43/M64)                             NaN   \n",
       "4  1000 LB GP (GP-M44/M65)                             NaN   \n",
       "\n",
       "   High Explosives Weight (Tons)  Incendiary Devices Incendiary Devices Type  \\\n",
       "0                           10.0                 NaN                     NaN   \n",
       "1                           20.0                 NaN                     NaN   \n",
       "2                            9.0                 NaN                     NaN   \n",
       "3                            7.5                 NaN                     NaN   \n",
       "4                            8.0                 NaN                     NaN   \n",
       "\n",
       "   Incendiary Devices Weight (Pounds)  Incendiary Devices Weight (Tons)  \\\n",
       "0                                 NaN                               NaN   \n",
       "1                                 NaN                               NaN   \n",
       "2                                 NaN                               NaN   \n",
       "3                                 NaN                               NaN   \n",
       "4                                 NaN                               NaN   \n",
       "\n",
       "   Fragmentation Devices Fragmentation Devices Type  \\\n",
       "0                    NaN                        NaN   \n",
       "1                    NaN                        NaN   \n",
       "2                    NaN                        NaN   \n",
       "3                    NaN                        NaN   \n",
       "4                    NaN                        NaN   \n",
       "\n",
       "   Fragmentation Devices Weight (Pounds)  Fragmentation Devices Weight (Tons)  \\\n",
       "0                                    NaN                                  NaN   \n",
       "1                                    NaN                                  NaN   \n",
       "2                                    NaN                                  NaN   \n",
       "3                                    NaN                                  NaN   \n",
       "4                                    NaN                                  NaN   \n",
       "\n",
       "   Total Weight (Pounds)  Total Weight (Tons) Time Over Target  \\\n",
       "0                    NaN                 10.0              NaN   \n",
       "1                    NaN                 20.0              NaN   \n",
       "2                    NaN                  9.0              NaN   \n",
       "3                    NaN                  7.5              NaN   \n",
       "4                    NaN                  8.0              NaN   \n",
       "\n",
       "  Bomb Damage Assessment  Source ID  \n",
       "0                    NaN        NaN  \n",
       "1                    NaN     9366.0  \n",
       "2                    NaN        NaN  \n",
       "3                    NaN        NaN  \n",
       "4                    NaN    22585.0  "
      ]
     },
     "execution_count": 23,
     "metadata": {},
     "output_type": "execute_result"
    }
   ],
   "source": [
    "df_raw.head()"
   ]
  },
  {
   "cell_type": "markdown",
   "metadata": {},
   "source": [
    "![](./_img/A36_and_B24.png)\n",
    "\n",
    "Source: Wikipedia [B24](https://de.wikipedia.org/wiki/Consolidated_B-24), [A36](https://de.wikipedia.org/wiki/North_American_A-36)"
   ]
  },
  {
   "cell_type": "code",
   "execution_count": 25,
   "metadata": {},
   "outputs": [
    {
     "data": {
      "text/plain": [
       "Index(['Mission ID', 'Mission Date', 'Theater of Operations', 'Country',\n",
       "       'Air Force', 'Unit ID', 'Aircraft Series', 'Callsign', 'Mission Type',\n",
       "       'Takeoff Base', 'Takeoff Location', 'Takeoff Latitude',\n",
       "       'Takeoff Longitude', 'Target ID', 'Target Country', 'Target City',\n",
       "       'Target Type', 'Target Industry', 'Target Priority', 'Target Latitude',\n",
       "       'Target Longitude', 'Altitude (Hundreds of Feet)', 'Airborne Aircraft',\n",
       "       'Attacking Aircraft', 'Bombing Aircraft', 'Aircraft Returned',\n",
       "       'Aircraft Failed', 'Aircraft Damaged', 'Aircraft Lost',\n",
       "       'High Explosives', 'High Explosives Type',\n",
       "       'High Explosives Weight (Pounds)', 'High Explosives Weight (Tons)',\n",
       "       'Incendiary Devices', 'Incendiary Devices Type',\n",
       "       'Incendiary Devices Weight (Pounds)',\n",
       "       'Incendiary Devices Weight (Tons)', 'Fragmentation Devices',\n",
       "       'Fragmentation Devices Type', 'Fragmentation Devices Weight (Pounds)',\n",
       "       'Fragmentation Devices Weight (Tons)', 'Total Weight (Pounds)',\n",
       "       'Total Weight (Tons)', 'Time Over Target', 'Bomb Damage Assessment',\n",
       "       'Source ID'],\n",
       "      dtype='object')"
      ]
     },
     "execution_count": 25,
     "metadata": {},
     "output_type": "execute_result"
    }
   ],
   "source": [
    "df_raw.columns"
   ]
  },
  {
   "cell_type": "markdown",
   "metadata": {},
   "source": [
    "### Data types"
   ]
  },
  {
   "cell_type": "code",
   "execution_count": 33,
   "metadata": {},
   "outputs": [
    {
     "data": {
      "text/plain": [
       "Mission ID                                 int64\n",
       "Mission Date                              object\n",
       "Theater of Operations                     object\n",
       "Country                                   object\n",
       "Air Force                                 object\n",
       "Unit ID                                   object\n",
       "Aircraft Series                           object\n",
       "Callsign                                  object\n",
       "Mission Type                              object\n",
       "Takeoff Base                              object\n",
       "Takeoff Location                          object\n",
       "Takeoff Latitude                          object\n",
       "Takeoff Longitude                        float64\n",
       "Target ID                                 object\n",
       "Target Country                            object\n",
       "Target City                               object\n",
       "Target Type                               object\n",
       "Target Industry                           object\n",
       "Target Priority                           object\n",
       "Target Latitude                          float64\n",
       "Target Longitude                         float64\n",
       "Altitude (Hundreds of Feet)              float64\n",
       "Airborne Aircraft                        float64\n",
       "Attacking Aircraft                       float64\n",
       "Bombing Aircraft                         float64\n",
       "Aircraft Returned                        float64\n",
       "Aircraft Failed                          float64\n",
       "Aircraft Damaged                         float64\n",
       "Aircraft Lost                            float64\n",
       "High Explosives                          float64\n",
       "High Explosives Type                      object\n",
       "High Explosives Weight (Pounds)           object\n",
       "High Explosives Weight (Tons)            float64\n",
       "Incendiary Devices                       float64\n",
       "Incendiary Devices Type                   object\n",
       "Incendiary Devices Weight (Pounds)       float64\n",
       "Incendiary Devices Weight (Tons)         float64\n",
       "Fragmentation Devices                    float64\n",
       "Fragmentation Devices Type                object\n",
       "Fragmentation Devices Weight (Pounds)    float64\n",
       "Fragmentation Devices Weight (Tons)      float64\n",
       "Total Weight (Pounds)                    float64\n",
       "Total Weight (Tons)                      float64\n",
       "Time Over Target                          object\n",
       "Bomb Damage Assessment                    object\n",
       "Source ID                                float64\n",
       "dtype: object"
      ]
     },
     "execution_count": 33,
     "metadata": {},
     "output_type": "execute_result"
    }
   ],
   "source": [
    "df_raw.dtypes"
   ]
  },
  {
   "cell_type": "markdown",
   "metadata": {},
   "source": [
    "**Categorical variable**"
   ]
  },
  {
   "cell_type": "code",
   "execution_count": 40,
   "metadata": {},
   "outputs": [
    {
     "data": {
      "text/plain": [
       "count     178165\n",
       "unique        74\n",
       "top          B24\n",
       "freq       33837\n",
       "Name: Aircraft Series, dtype: object"
      ]
     },
     "execution_count": 40,
     "metadata": {},
     "output_type": "execute_result"
    }
   ],
   "source": [
    "df_raw[\"Aircraft Series\"].describe()"
   ]
  },
  {
   "cell_type": "markdown",
   "metadata": {},
   "source": [
    "**Numeric variable**"
   ]
  },
  {
   "cell_type": "code",
   "execution_count": 41,
   "metadata": {},
   "outputs": [
    {
     "data": {
      "text/plain": [
       "count    158.000000\n",
       "mean       2.279253\n",
       "std        6.414377\n",
       "min        0.000000\n",
       "25%        1.000000\n",
       "50%        1.000000\n",
       "75%        2.000000\n",
       "max       80.000000\n",
       "Name: Aircraft Lost, dtype: float64"
      ]
     },
     "execution_count": 41,
     "metadata": {},
     "output_type": "execute_result"
    }
   ],
   "source": [
    "df_raw[\"Aircraft Lost\"].describe()"
   ]
  },
  {
   "cell_type": "markdown",
   "metadata": {},
   "source": [
    "### Explore variables of interest"
   ]
  },
  {
   "cell_type": "code",
   "execution_count": 39,
   "metadata": {},
   "outputs": [
    {
     "data": {
      "text/plain": [
       "array(['ITALY', 'NEW GUINEA', 'SUMATRA', 'BURMA', 'GERMANY',\n",
       "       'HOLLAND OR NETHERLANDS', 'FRANCE', 'UNKNOWN OR NOT INDICATED',\n",
       "       'CORAL SEA AREA', 'SOLOMON ISLANDS', 'BORNEO', 'CHINA',\n",
       "       'CAROLINE ISLANDS', 'KURILE ISLANDS', 'CELEBES ISLANDS',\n",
       "       'MARIANAS ISLANDS', 'BISMARK ARCHIPELAGO', 'MANCHURIA', 'JAVA',\n",
       "       'VOLCANO AND BONIN ISLANDS', 'PHILIPPINE ISLANDS', 'JAPAN',\n",
       "       'AUSTRIA', 'BELGIUM', 'ALEUTIAN ISLANDS', nan,\n",
       "       'FORMOSA AND RYUKYU ISLANDS', 'NEW IRELAND', 'MARCUS ISLANDS',\n",
       "       'GREECE', 'HUNGARY', 'YUGOSLAVIA', 'FRENCH INDO CHINA',\n",
       "       'MARSHALL ISLANDS', 'PALAU ISLANDS', 'MALAY STATES', 'ROMANIA',\n",
       "       'INDIA', 'SWITZERLAND', 'ALBANIA', 'LUXEMBOURG', 'POLAND',\n",
       "       'ALGERIA', 'NORWAY', 'GILBERT ISLANDS', 'CRETE',\n",
       "       'MALAY STATES MINING', 'SUMATRA MINING', 'CZECHOSLOVAKIA',\n",
       "       'FORMOSA', 'SARDINIA', 'CHINA MINING', 'BULGARIA',\n",
       "       'KOREA OR CHOSEN', 'DENMARK', 'GREAT BRITAIN', 'THAILAND OR SIAM',\n",
       "       'CORSICA', 'LIBYA', 'ERITREA', 'ETHIOPIA', 'SUDAN', 'WAKE ISLAND',\n",
       "       'JAPAN MINING', 'BOUGAINVILLE', 'FRENCH INDO CHINA MINING',\n",
       "       'ETHIOPIA/ABSINNYA', 'SOMALIA', 'UNKNOWN', 'SICILY', 'MADAGASCAR',\n",
       "       'IRAQ', 'LEBANON', 'SYRIA', 'TUNISIA', 'CYPRUS', 'TURKEY',\n",
       "       'NETHERLANDS EAST INDIES', 'INDONESIA', 'BALI', 'ANDAMAN ISLANDS',\n",
       "       'INDIAN OCEAN', 'TIMOR', 'EGYPT', 'AUSTRALIA',\n",
       "       'FRENCH WEST AFRICA', '\"PAPUA NEW GUINEA, MANUS ISLAND\"',\n",
       "       'KOREA OR CHOSEN MINING', 'PANTELLARIA', 'MOROCCO',\n",
       "       'THAILAND OR SIAM MINING'], dtype=object)"
      ]
     },
     "execution_count": 39,
     "metadata": {},
     "output_type": "execute_result"
    }
   ],
   "source": [
    "df_raw[\"Target Country\"].unique() "
   ]
  },
  {
   "cell_type": "code",
   "execution_count": null,
   "metadata": {},
   "outputs": [],
   "source": []
  }
 ],
 "metadata": {
  "hide_input": false,
  "kernelspec": {
   "display_name": "Python 3",
   "language": "python",
   "name": "python3"
  },
  "language_info": {
   "codemirror_mode": {
    "name": "ipython",
    "version": 3
   },
   "file_extension": ".py",
   "mimetype": "text/x-python",
   "name": "python",
   "nbconvert_exporter": "python",
   "pygments_lexer": "ipython3",
   "version": "3.6.4"
  }
 },
 "nbformat": 4,
 "nbformat_minor": 2
}
