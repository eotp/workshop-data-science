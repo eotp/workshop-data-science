{
 "cells": [
  {
   "cell_type": "markdown",
   "metadata": {
    "slideshow": {
     "slide_type": "-"
    }
   },
   "source": [
    "# The Python ecosystem - The scikit-learn library"
   ]
  },
  {
   "cell_type": "markdown",
   "metadata": {
    "slideshow": {
     "slide_type": "-"
    }
   },
   "source": [
    "Scikit-learn is probably the most used Machine Learning Library in Python. It is built on NumPy, SciPy, and matplotlib. The library offers a simple and efficient tools for data mining and data analysis. Scikit-learn offers a cosnistent API acorss differnet model and applications and hence is one of the best tools in Python for shallow learning algorithms.  "
   ]
  },
  {
   "cell_type": "markdown",
   "metadata": {},
   "source": [
    "## Modeling pipeline in scikit learn \n",
    "\n",
    "* Loading The Data\n",
    "* Training And Test Data\n",
    "* Preprocessing The Data\n",
    "* Create the Model\n",
    "* Model Fitting\n",
    "* Prediction\n",
    "* Evaluate the Model's Performance\n",
    "* Tune the Model"
   ]
  },
  {
   "cell_type": "code",
   "execution_count": 1,
   "metadata": {},
   "outputs": [],
   "source": [
    "import numpy as np\n",
    "import pandas as pd\n",
    "import matplotlib.pyplot as plt"
   ]
  },
  {
   "cell_type": "markdown",
   "metadata": {},
   "source": [
    "**Add the `src` directory as one where we can import modules**"
   ]
  },
  {
   "cell_type": "code",
   "execution_count": 2,
   "metadata": {},
   "outputs": [
    {
     "name": "stdout",
     "output_type": "stream",
     "text": [
      "C:\\Users\\josi\\Documents\\workshop-data-science\\src\n"
     ]
    }
   ],
   "source": [
    "import os\n",
    "import sys\n",
    "\n",
    "# add the 'src' directory as one where we can import modules\n",
    "src_dir = os.path.abspath(os.path.join(os.getcwd(), os.pardir, 'src'))\n",
    "sys.path.append(src_dir)\n",
    "print(src_dir)"
   ]
  },
  {
   "cell_type": "code",
   "execution_count": 3,
   "metadata": {},
   "outputs": [],
   "source": [
    "import helper_funcs as hf"
   ]
  },
  {
   "cell_type": "markdown",
   "metadata": {},
   "source": [
    "## Loading The Data\n",
    "\n",
    "Your data needs to be numeric and stored as NumPy arrays or SciPy sparse matrices. Other types that are convertible to numeric arrays, such as Pandas `DataFrame`, are also acceptable."
   ]
  },
  {
   "cell_type": "markdown",
   "metadata": {},
   "source": [
    "**Data for a Machine Learning model may look like this...**"
   ]
  },
  {
   "cell_type": "code",
   "execution_count": 4,
   "metadata": {},
   "outputs": [
    {
     "name": "stdout",
     "output_type": "stream",
     "text": [
      "Features array: (10, 5)\n",
      " [[0.85035024 0.71893839 0.46319863 0.78382602 0.        ]\n",
      " [0.         0.36150622 0.66100277 0.97893958 0.        ]\n",
      " [0.31009341 0.         0.         0.73505173 0.        ]\n",
      " [0.84463115 0.         0.47210307 0.36979784 0.        ]\n",
      " [0.36463706 0.41668724 0.67216457 0.7192339  0.71490165]\n",
      " [0.         0.96983517 0.71764347 0.68532552 0.75181028]\n",
      " [0.57205263 0.71851875 0.39258517 0.73879698 0.69422453]\n",
      " [0.         0.51936119 0.52495511 0.         0.41521334]\n",
      " [0.8043631  0.9781962  0.45841816 0.59513743 0.99463586]\n",
      " [0.46366494 0.         0.67386551 0.         0.94837818]]\n",
      "Labels: (10,)\n",
      " ['M' 'M' 'F' 'F' 'F' 'M' 'M' 'F' 'F' 'F']\n"
     ]
    }
   ],
   "source": [
    "import numpy as np\n",
    "X = np.random.random((10,5))\n",
    "X[X < 0.3] = 0\n",
    "print(\"Features array: {}\\n\".format(X.shape), X)\n",
    "y = np.array(['M','M','F','F','F','M','M','F','F','F'])\n",
    "print(\"Labels: {}\\n\".format(y.shape),y)"
   ]
  },
  {
   "cell_type": "markdown",
   "metadata": {},
   "source": [
    "Further scikit-learn provides a rich [dataset loading utilities](http://scikit-learn.org/stable/datasets/index.html). It comes with easy to load toy datasets, sample images and sample generators."
   ]
  },
  {
   "cell_type": "markdown",
   "metadata": {},
   "source": [
    "**Toy datasets:**\n",
    "\n",
    "Boston house-prices dataset (regression)\n",
    "\n",
    "    load_boston() \t\n",
    "    \n",
    "Iris dataset (classification)\n",
    "\n",
    "    load_iris()\n",
    "\n",
    "Diabetes dataset (regression)\n",
    "\n",
    "    load_diabetes() \n",
    "\n",
    "Digits dataset (classification)\n",
    "\n",
    "    load_digits()\n",
    "\n",
    "Linnerud dataset (multivariate regression) \n",
    "\n",
    "    load_linnerud()\n",
    " \n",
    "Wine dataset (classification)\n",
    "  \n",
    "    load_wine() \t\n",
    "\n",
    "Breast cancer wisconsin dataset (classification)\n",
    "  \n",
    "    load_breast_cancer() \t\n",
    "    "
   ]
  },
  {
   "cell_type": "code",
   "execution_count": 5,
   "metadata": {},
   "outputs": [],
   "source": [
    "from sklearn.datasets import load_boston\n",
    "ds = load_boston()"
   ]
  },
  {
   "cell_type": "code",
   "execution_count": 6,
   "metadata": {},
   "outputs": [
    {
     "name": "stdout",
     "output_type": "stream",
     "text": [
      "Boston House Prices dataset\n",
      "===========================\n",
      "\n",
      "Notes\n",
      "------\n",
      "Data Set Characteristics:  \n",
      "\n",
      "    :Number of Instances: 506 \n",
      "\n",
      "    :Number of Attributes: 13 numeric/categorical predictive\n",
      "    \n",
      "    :Median Value (attribute 14) is usually the target\n",
      "\n",
      "    :Attribute Information (in order):\n",
      "        - CRIM     per capita crime rate by town\n",
      "        - ZN       proportion of residential land zoned for lots over 25,000 sq.ft.\n",
      "        - INDUS    proportion of non-retail business acres per town\n",
      "        - CHAS     Charles River dummy variable (= 1 if tract bounds river; 0 otherwise)\n",
      "        - NOX      nitric oxides concentration (parts per 10 million)\n",
      "        - RM       average number of rooms per dwelling\n",
      "        - AGE      proportion of owner-occupied units built prior to 1940\n",
      "        - DIS      weighted distances to five Boston employment centres\n",
      "        - RAD      index of accessibility to radial highways\n",
      "        - TAX      full-value property-tax rate per $10,000\n",
      "        - PTRATIO  pupil-teacher ratio by town\n",
      "        - B        1000(Bk - 0.63)^2 where Bk is the proportion of blacks by town\n",
      "        - LSTAT    % lower status of the population\n",
      "        - MEDV     Median value of owner-occupied homes in $1000's\n",
      "\n",
      "    :Missing Attribute Values: None\n",
      "\n",
      "    :Creator: Harrison, D. and Rubinfeld, D.L.\n",
      "\n",
      "This is a copy of UCI ML housing dataset.\n",
      "http://archive.ics.uci.edu/ml/datasets/Housing\n",
      "\n",
      "\n",
      "This dataset was taken from the StatLib library which is maintained at Carnegie Mellon University.\n",
      "\n",
      "The Boston house-price data of Harrison, D. and Rubinfeld, D.L. 'Hedonic\n",
      "prices and the demand for clean air', J. Environ. Economics & Management,\n",
      "vol.5, 81-102, 1978.   Used in Belsley, Kuh & Welsch, 'Regression diagnostics\n",
      "...', Wiley, 1980.   N.B. Various transformations are used in the table on\n",
      "pages 244-261 of the latter.\n",
      "\n",
      "The Boston house-price data has been used in many machine learning papers that address regression\n",
      "problems.   \n",
      "     \n",
      "**References**\n",
      "\n",
      "   - Belsley, Kuh & Welsch, 'Regression diagnostics: Identifying Influential Data and Sources of Collinearity', Wiley, 1980. 244-261.\n",
      "   - Quinlan,R. (1993). Combining Instance-Based and Model-Based Learning. In Proceedings on the Tenth International Conference of Machine Learning, 236-243, University of Massachusetts, Amherst. Morgan Kaufmann.\n",
      "   - many more! (see http://archive.ics.uci.edu/ml/datasets/Housing)\n",
      "\n"
     ]
    }
   ],
   "source": [
    "print(ds.DESCR)"
   ]
  },
  {
   "cell_type": "code",
   "execution_count": 7,
   "metadata": {},
   "outputs": [
    {
     "name": "stdout",
     "output_type": "stream",
     "text": [
      "Features array: (506, 13)\n",
      " [[6.3200e-03 1.8000e+01 2.3100e+00 ... 1.5300e+01 3.9690e+02 4.9800e+00]\n",
      " [2.7310e-02 0.0000e+00 7.0700e+00 ... 1.7800e+01 3.9690e+02 9.1400e+00]\n",
      " [2.7290e-02 0.0000e+00 7.0700e+00 ... 1.7800e+01 3.9283e+02 4.0300e+00]\n",
      " ...\n",
      " [6.0760e-02 0.0000e+00 1.1930e+01 ... 2.1000e+01 3.9690e+02 5.6400e+00]\n",
      " [1.0959e-01 0.0000e+00 1.1930e+01 ... 2.1000e+01 3.9345e+02 6.4800e+00]\n",
      " [4.7410e-02 0.0000e+00 1.1930e+01 ... 2.1000e+01 3.9690e+02 7.8800e+00]]\n",
      "Labels: (506,)\n",
      " ['M' 'M' 'F' 'F' 'F' 'M' 'M' 'F' 'F' 'F']\n"
     ]
    }
   ],
   "source": [
    "print(\"Features array: {}\\n\".format(ds.data.shape), ds.data)\n",
    "print(\"Labels: {}\\n\".format(ds.target.shape),y)"
   ]
  },
  {
   "cell_type": "markdown",
   "metadata": {},
   "source": [
    "**Sample generators:**"
   ]
  },
  {
   "cell_type": "code",
   "execution_count": 8,
   "metadata": {},
   "outputs": [],
   "source": [
    "from sklearn.datasets import make_classification\n",
    "X, y = make_classification(n_samples=25, n_features=2, n_redundant=0, \n",
    "                           n_informative=2, n_clusters_per_class=1, \n",
    "                           random_state=33)"
   ]
  },
  {
   "cell_type": "code",
   "execution_count": 9,
   "metadata": {},
   "outputs": [
    {
     "name": "stdout",
     "output_type": "stream",
     "text": [
      "Features array: (25, 2)\n",
      " [[ 0.84119533 -0.59034282]\n",
      " [ 0.30073529  1.32948683]\n",
      " [-0.35158507  0.72574001]\n",
      " [ 0.7203474  -0.57451647]\n",
      " [-1.91833439  2.08364911]\n",
      " [ 0.9030502   1.23783064]\n",
      " [-0.15302041  0.91097803]\n",
      " [ 1.44607025 -1.28411479]\n",
      " [-1.61288264 -0.64351396]\n",
      " [-0.9272653   0.24159894]\n",
      " [ 1.48322117  0.03325729]\n",
      " [-1.33804029  0.57162232]\n",
      " [-1.69935283  1.3004686 ]\n",
      " [-0.72134521  0.3439439 ]\n",
      " [ 0.2942302  -0.16300197]\n",
      " [-0.0526431   1.76285091]\n",
      " [-1.17874604 -0.62427607]\n",
      " [ 0.49636809  0.57330408]\n",
      " [ 0.93851305  0.34952606]\n",
      " [-0.16227224  0.42789673]\n",
      " [ 0.43508675 -1.94956553]\n",
      " [ 2.56176732 -1.68777497]\n",
      " [ 0.83080315  0.23559069]\n",
      " [ 1.19118673 -0.55582212]\n",
      " [-0.26748919  0.38544401]]\n",
      "Labels: (25,)\n",
      " [0 1 0 0 1 0 1 0 1 1 0 1 1 1 0 1 1 0 0 1 0 0 0 0 1]\n"
     ]
    }
   ],
   "source": [
    "print(\"Features array: {}\\n\".format(X.shape), X)\n",
    "print(\"Labels: {}\\n\".format(y.shape),y)"
   ]
  },
  {
   "cell_type": "code",
   "execution_count": 10,
   "metadata": {},
   "outputs": [
    {
     "data": {
      "image/png": "[encoded data removed]",
      "text/plain": [
       "<matplotlib.figure.Figure at 0x96f1080>"
      ]
     },
     "metadata": {},
     "output_type": "display_data"
    }
   ],
   "source": [
    "fig, ax = plt.subplots()\n",
    "ax.scatter(X[:, 0], X[:, 1], marker='o', c=y, s=25, edgecolor='k');"
   ]
  },
  {
   "cell_type": "markdown",
   "metadata": {},
   "source": [
    "## Training And Test Data"
   ]
  },
  {
   "cell_type": "code",
   "execution_count": 11,
   "metadata": {},
   "outputs": [
    {
     "data": {
      "image/png": "[encoded data removed]",
      "text/plain": [
       "<matplotlib.figure.Figure at 0x973bbe0>"
      ]
     },
     "metadata": {},
     "output_type": "display_data"
    }
   ],
   "source": [
    "X, y = make_classification(n_samples=1000, n_features=2, n_redundant=0, \n",
    "                           n_informative=2, n_clusters_per_class=1, \n",
    "                           weights=[0.096], \n",
    "                           random_state=33)\n",
    "fig, ax = plt.subplots()\n",
    "ax.scatter(X[:, 0], X[:, 1], marker='o', c=y, s=25, edgecolor='k');"
   ]
  },
  {
   "cell_type": "code",
   "execution_count": 12,
   "metadata": {},
   "outputs": [
    {
     "data": {
      "text/plain": [
       "array([100, 900], dtype=int64)"
      ]
     },
     "execution_count": 12,
     "metadata": {},
     "output_type": "execute_result"
    }
   ],
   "source": [
    "np.bincount(y)"
   ]
  },
  {
   "cell_type": "code",
   "execution_count": 13,
   "metadata": {},
   "outputs": [],
   "source": [
    "from sklearn.model_selection import train_test_split\n",
    "X_train, X_test, y_train, y_test = train_test_split(X, y, test_size=0.4,  \n",
    "                                                    shuffle=True, random_state=42)"
   ]
  },
  {
   "cell_type": "code",
   "execution_count": 14,
   "metadata": {},
   "outputs": [
    {
     "name": "stdout",
     "output_type": "stream",
     "text": [
      "Train set size: (600, 2) \n",
      "Test set size: (400, 2)\n"
     ]
    }
   ],
   "source": [
    "print(\"Train set size:\" , X_train.shape, \"\\nTest set size:\", X_test.shape)"
   ]
  },
  {
   "cell_type": "code",
   "execution_count": 15,
   "metadata": {},
   "outputs": [
    {
     "name": "stdout",
     "output_type": "stream",
     "text": [
      "Train label size: (600,) \n",
      "Test label size: (400,)\n"
     ]
    }
   ],
   "source": [
    "print(\"Train label size:\" , y_train.shape, \"\\nTest label size:\", y_test.shape)"
   ]
  },
  {
   "cell_type": "code",
   "execution_count": 16,
   "metadata": {},
   "outputs": [
    {
     "data": {
      "text/plain": [
       "1    542\n",
       "0     58\n",
       "dtype: int64"
      ]
     },
     "execution_count": 16,
     "metadata": {},
     "output_type": "execute_result"
    }
   ],
   "source": [
    "pd.Series(y_train).value_counts()"
   ]
  },
  {
   "cell_type": "code",
   "execution_count": 17,
   "metadata": {},
   "outputs": [
    {
     "data": {
      "text/plain": [
       "1    358\n",
       "0     42\n",
       "dtype: int64"
      ]
     },
     "execution_count": 17,
     "metadata": {},
     "output_type": "execute_result"
    }
   ],
   "source": [
    "pd.Series(y_test).value_counts()"
   ]
  },
  {
   "cell_type": "markdown",
   "metadata": {},
   "source": [
    "This `stratify` parameter makes a split so that the proportion of values in the sample produced will be the same as the proportion of values provided to parameter `stratify`. "
   ]
  },
  {
   "cell_type": "code",
   "execution_count": 18,
   "metadata": {},
   "outputs": [
    {
     "name": "stdout",
     "output_type": "stream",
     "text": [
      "1    540\n",
      "0     60\n",
      "dtype: int64\n",
      "1    360\n",
      "0     40\n",
      "dtype: int64\n"
     ]
    }
   ],
   "source": [
    "X_train, X_test, y_train, y_test = train_test_split(X, y, stratify=y,\n",
    "                                                    test_size=0.4, random_state=42)\n",
    "\n",
    "print(pd.Series(y_train).value_counts())\n",
    "print(pd.Series(y_test).value_counts())"
   ]
  },
  {
   "cell_type": "markdown",
   "metadata": {},
   "source": [
    "## Preprocessing The Data"
   ]
  },
  {
   "cell_type": "markdown",
   "metadata": {},
   "source": [
    "In general, __learning algorithms benefit from standardization of the data set__. The `sklearn.preprocessing` package provides several utility functions and transformer classes to change raw feature vectors.\n"
   ]
  },
  {
   "cell_type": "code",
   "execution_count": 19,
   "metadata": {},
   "outputs": [],
   "source": [
    "from sklearn import preprocessing"
   ]
  },
  {
   "cell_type": "code",
   "execution_count": 20,
   "metadata": {},
   "outputs": [],
   "source": [
    "X_train = np.array([[ 1., -1.,  2.],\n",
    "                    [ 2.,  0.,  0.],\n",
    "                    [ 0.,  1., -1.]])"
   ]
  },
  {
   "cell_type": "code",
   "execution_count": 21,
   "metadata": {},
   "outputs": [
    {
     "data": {
      "text/plain": [
       "StandardScaler(copy=True, with_mean=True, with_std=True)"
      ]
     },
     "execution_count": 21,
     "metadata": {},
     "output_type": "execute_result"
    }
   ],
   "source": [
    "scaler = preprocessing.StandardScaler()\n",
    "scaler"
   ]
  },
  {
   "cell_type": "code",
   "execution_count": 22,
   "metadata": {},
   "outputs": [
    {
     "data": {
      "text/plain": [
       "StandardScaler(copy=True, with_mean=True, with_std=True)"
      ]
     },
     "execution_count": 22,
     "metadata": {},
     "output_type": "execute_result"
    }
   ],
   "source": [
    "scaler.fit(X_train)"
   ]
  },
  {
   "cell_type": "code",
   "execution_count": 23,
   "metadata": {},
   "outputs": [
    {
     "data": {
      "text/plain": [
       "array([[ 0.        , -1.22474487,  1.33630621],\n",
       "       [ 1.22474487,  0.        , -0.26726124],\n",
       "       [-1.22474487,  1.22474487, -1.06904497]])"
      ]
     },
     "execution_count": 23,
     "metadata": {},
     "output_type": "execute_result"
    }
   ],
   "source": [
    "X_train_scaled = scaler.transform(X_train) \n",
    "X_train_scaled"
   ]
  },
  {
   "cell_type": "code",
   "execution_count": 24,
   "metadata": {},
   "outputs": [
    {
     "name": "stdout",
     "output_type": "stream",
     "text": [
      "Mean:  [0. 0. 0.]\n",
      "\n",
      "Standard deviation:  [1. 1. 1.]\n"
     ]
    }
   ],
   "source": [
    "print(\"Mean: \",np.mean(X_train_scaled, axis=0))\n",
    "print(\"\\nStandard deviation: \", np.std(X_train_scaled, axis=0))"
   ]
  },
  {
   "cell_type": "markdown",
   "metadata": {},
   "source": [
    "An alternative standardization is __aling features to lie between a given minimum and maximum value, often between zero and one, or so that the maximum absolute value of each feature is scaled to unit size__"
   ]
  },
  {
   "cell_type": "code",
   "execution_count": 25,
   "metadata": {},
   "outputs": [
    {
     "data": {
      "text/plain": [
       "array([[ 1., -1.,  2.],\n",
       "       [ 2.,  0.,  0.],\n",
       "       [ 0.,  1., -1.]])"
      ]
     },
     "execution_count": 25,
     "metadata": {},
     "output_type": "execute_result"
    }
   ],
   "source": [
    "X_train "
   ]
  },
  {
   "cell_type": "code",
   "execution_count": 26,
   "metadata": {},
   "outputs": [],
   "source": [
    "min_max_scaler = preprocessing.MinMaxScaler()"
   ]
  },
  {
   "cell_type": "code",
   "execution_count": 27,
   "metadata": {},
   "outputs": [
    {
     "data": {
      "text/plain": [
       "MinMaxScaler(copy=True, feature_range=(0, 1))"
      ]
     },
     "execution_count": 27,
     "metadata": {},
     "output_type": "execute_result"
    }
   ],
   "source": [
    "min_max_scaler.fit(X_train)"
   ]
  },
  {
   "cell_type": "code",
   "execution_count": 28,
   "metadata": {},
   "outputs": [
    {
     "data": {
      "text/plain": [
       "array([[0.5       , 0.        , 1.        ],\n",
       "       [1.        , 0.5       , 0.33333333],\n",
       "       [0.        , 1.        , 0.        ]])"
      ]
     },
     "execution_count": 28,
     "metadata": {},
     "output_type": "execute_result"
    }
   ],
   "source": [
    "X_train_scaled = min_max_scaler.transform(X_train) \n",
    "X_train_scaled"
   ]
  },
  {
   "cell_type": "code",
   "execution_count": 29,
   "metadata": {},
   "outputs": [
    {
     "name": "stdout",
     "output_type": "stream",
     "text": [
      "Min:  [0. 0. 0.]\n",
      "\n",
      "Max:  [1. 1. 1.]\n"
     ]
    }
   ],
   "source": [
    "print(\"Min: \", np.min(X_train_scaled, axis=0))\n",
    "print(\"\\nMax: \", np.max(X_train_scaled, axis=0))"
   ]
  },
  {
   "cell_type": "markdown",
   "metadata": {},
   "source": [
    "###  Encoding categorical features\n",
    "\n",
    "Often features are not given as continuous values but categorical. For example a person could have features `\"male\"`, `\"female\"` or `\"high\"`, `\"low\"`, `\"medium\"`. Such features can be efficiently coded as integers, such as `0`, `1` (_nominal_)  or `2`, `0`, `1` (_ordinal_)."
   ]
  },
  {
   "cell_type": "code",
   "execution_count": 30,
   "metadata": {},
   "outputs": [
    {
     "data": {
      "text/plain": [
       "array([['Male', '1', '0.76'],\n",
       "       ['Female', '3', '0.22'],\n",
       "       ['Female', '2', '0.57']], dtype='<U6')"
      ]
     },
     "execution_count": 30,
     "metadata": {},
     "output_type": "execute_result"
    }
   ],
   "source": [
    "X_train = np.array([['Male', 1, 0.76], ['Female', 3, 0.22], ['Female', 2, 0.57]])\n",
    "X_train"
   ]
  },
  {
   "cell_type": "code",
   "execution_count": 31,
   "metadata": {},
   "outputs": [
    {
     "data": {
      "text/plain": [
       "array(['Male', 'Female', 'Female'], dtype='<U6')"
      ]
     },
     "execution_count": 31,
     "metadata": {},
     "output_type": "execute_result"
    }
   ],
   "source": [
    "X_train[:,0]"
   ]
  },
  {
   "cell_type": "markdown",
   "metadata": {},
   "source": [
    "#### Label encoding"
   ]
  },
  {
   "cell_type": "code",
   "execution_count": 32,
   "metadata": {},
   "outputs": [
    {
     "data": {
      "text/plain": [
       "LabelEncoder()"
      ]
     },
     "execution_count": 32,
     "metadata": {},
     "output_type": "execute_result"
    }
   ],
   "source": [
    "le = preprocessing.LabelEncoder()\n",
    "le.fit(X_train[:,0])"
   ]
  },
  {
   "cell_type": "code",
   "execution_count": 33,
   "metadata": {},
   "outputs": [
    {
     "data": {
      "text/plain": [
       "['Female', 'Male']"
      ]
     },
     "execution_count": 33,
     "metadata": {},
     "output_type": "execute_result"
    }
   ],
   "source": [
    "list(le.classes_)"
   ]
  },
  {
   "cell_type": "code",
   "execution_count": 34,
   "metadata": {},
   "outputs": [
    {
     "data": {
      "text/plain": [
       "array([1, 0, 0], dtype=int64)"
      ]
     },
     "execution_count": 34,
     "metadata": {},
     "output_type": "execute_result"
    }
   ],
   "source": [
    "le.transform(X_train[:,0]) "
   ]
  },
  {
   "cell_type": "code",
   "execution_count": 35,
   "metadata": {},
   "outputs": [
    {
     "data": {
      "text/plain": [
       "array([[1.  , 1.  , 0.76],\n",
       "       [0.  , 3.  , 0.22],\n",
       "       [0.  , 2.  , 0.57]])"
      ]
     },
     "execution_count": 35,
     "metadata": {},
     "output_type": "execute_result"
    }
   ],
   "source": [
    "X_encoded = np.copy(X_train)\n",
    "X_encoded[:,0] = le.transform(X_train[:,0])\n",
    "X_encoded = X_encoded.astype(float)\n",
    "X_encoded"
   ]
  },
  {
   "cell_type": "code",
   "execution_count": 36,
   "metadata": {},
   "outputs": [
    {
     "name": "stderr",
     "output_type": "stream",
     "text": [
      "C:\\Users\\josi\\Miniconda3\\envs\\data-science\\lib\\site-packages\\sklearn\\preprocessing\\label.py:151: DeprecationWarning: The truth value of an empty array is ambiguous. Returning False, but in future this will result in an error. Use `array.size > 0` to check that an array is not empty.\n",
      "  if diff:\n"
     ]
    },
    {
     "data": {
      "text/plain": [
       "array(['Male', 'Female', 'Female'], dtype='<U6')"
      ]
     },
     "execution_count": 36,
     "metadata": {},
     "output_type": "execute_result"
    }
   ],
   "source": [
    "le.inverse_transform(X_encoded[:,0].astype(int))"
   ]
  },
  {
   "cell_type": "markdown",
   "metadata": {},
   "source": [
    "#### One-Hot encoding"
   ]
  },
  {
   "cell_type": "code",
   "execution_count": 37,
   "metadata": {},
   "outputs": [
    {
     "data": {
      "text/plain": [
       "array([[1.],\n",
       "       [0.],\n",
       "       [0.]])"
      ]
     },
     "execution_count": 37,
     "metadata": {},
     "output_type": "execute_result"
    }
   ],
   "source": [
    "X_encoded[:,0].reshape(-1,1)"
   ]
  },
  {
   "cell_type": "code",
   "execution_count": 38,
   "metadata": {},
   "outputs": [
    {
     "data": {
      "text/plain": [
       "OneHotEncoder(categorical_features='all', dtype=<class 'numpy.float64'>,\n",
       "       handle_unknown='error', n_values='auto', sparse=True)"
      ]
     },
     "execution_count": 38,
     "metadata": {},
     "output_type": "execute_result"
    }
   ],
   "source": [
    "ohe = preprocessing.OneHotEncoder()\n",
    "ohe.fit(X_encoded[:,0].reshape(-1,1))"
   ]
  },
  {
   "cell_type": "code",
   "execution_count": 39,
   "metadata": {},
   "outputs": [
    {
     "data": {
      "text/plain": [
       "array(['Male', 'Female', 'Female'], dtype='<U6')"
      ]
     },
     "execution_count": 39,
     "metadata": {},
     "output_type": "execute_result"
    }
   ],
   "source": [
    "X_train[:,0]"
   ]
  },
  {
   "cell_type": "code",
   "execution_count": 40,
   "metadata": {},
   "outputs": [
    {
     "data": {
      "text/plain": [
       "array([[0., 1.],\n",
       "       [1., 0.],\n",
       "       [1., 0.]])"
      ]
     },
     "execution_count": 40,
     "metadata": {},
     "output_type": "execute_result"
    }
   ],
   "source": [
    "ohe.transform(X_encoded[:,0].reshape(-1,1)).toarray()"
   ]
  },
  {
   "cell_type": "markdown",
   "metadata": {},
   "source": [
    "\n",
    "_Note that starting with scikit-learn version 20.0 there will be a `CategoricalEncoder` available to convert categorical features to by __one-hot encoding__ or __ordinal encoding__ in one step_. "
   ]
  },
  {
   "cell_type": "code",
   "execution_count": 41,
   "metadata": {},
   "outputs": [
    {
     "data": {
      "text/plain": [
       "'0.19.1'"
      ]
     },
     "execution_count": 41,
     "metadata": {},
     "output_type": "execute_result"
    }
   ],
   "source": [
    "import sklearn\n",
    "sklearn.__version__"
   ]
  },
  {
   "cell_type": "markdown",
   "metadata": {},
   "source": [
    "### Imputation of missing values"
   ]
  },
  {
   "cell_type": "markdown",
   "metadata": {},
   "source": [
    "Many real world datasets contain missing values, often encoded as blanks, `NaN`s or other placeholders. A basic strategy to use incomplete datasets is to discard entire rows and/or columns containing missing values. Another strategy is to impute the missing values, i.e., to infer them from the known part of the data.\n",
    "\n",
    "IN scikit-learn the `Imputer` class provides basic strategies for imputing missing values, either using __the mean__, __the median__ or __the most frequent value__ of the row or column in which the missing values are located. "
   ]
  },
  {
   "cell_type": "code",
   "execution_count": 42,
   "metadata": {},
   "outputs": [
    {
     "data": {
      "text/plain": [
       "array([[ 1.,  2.],\n",
       "       [nan,  3.],\n",
       "       [ 7.,  6.]])"
      ]
     },
     "execution_count": 42,
     "metadata": {},
     "output_type": "execute_result"
    }
   ],
   "source": [
    "X_train = np.array([[1, 2], [np.nan, 3], [7, 6]])\n",
    "X_train"
   ]
  },
  {
   "cell_type": "code",
   "execution_count": 43,
   "metadata": {},
   "outputs": [
    {
     "data": {
      "text/plain": [
       "Imputer(axis=0, copy=True, missing_values='NaN', strategy='mean', verbose=0)"
      ]
     },
     "execution_count": 43,
     "metadata": {},
     "output_type": "execute_result"
    }
   ],
   "source": [
    "imp = preprocessing.Imputer(missing_values='NaN', strategy='mean', axis=0)\n",
    "imp.fit(X_train)"
   ]
  },
  {
   "cell_type": "code",
   "execution_count": 44,
   "metadata": {},
   "outputs": [
    {
     "data": {
      "text/plain": [
       "array([4.        , 3.66666667])"
      ]
     },
     "execution_count": 44,
     "metadata": {},
     "output_type": "execute_result"
    }
   ],
   "source": [
    "np.nanmean(X_train, axis=0)"
   ]
  },
  {
   "cell_type": "code",
   "execution_count": 45,
   "metadata": {},
   "outputs": [
    {
     "data": {
      "text/plain": [
       "array([[1., 2.],\n",
       "       [4., 3.],\n",
       "       [7., 6.]])"
      ]
     },
     "execution_count": 45,
     "metadata": {},
     "output_type": "execute_result"
    }
   ],
   "source": [
    "imp.transform(X_train)"
   ]
  },
  {
   "cell_type": "markdown",
   "metadata": {},
   "source": [
    "## Create the Model\n",
    "\n",
    "Sciit-learn ships with a hugh variety of differnet supervised and unsupervised models as well as some basic neural network models; among those are:\n",
    "\n",
    "* ### Linear models\n",
    "  * Ordinary Least Squares\n",
    "  * Polynomial regression\n",
    "  * Ridge Regression\n",
    "  * Lasso\n",
    "  * Elastic Net\n",
    "  * Logistic regression\n",
    "\n",
    "* ### Support Vector Machines\n",
    "\n",
    "* ### Nearest Neighbors\n",
    "\n",
    "* ### Gaussian Processes\n",
    "\n",
    "* ### Decision Trees\n",
    "\n",
    "* ### Ensemble methods\n",
    "  * Random Forest\n",
    "  * Gradient Boosting\n",
    "\n",
    "Visit the [scikit-learn documentation website](http://scikit-learn.org/stable/index.html) for a comprehensive list of avaiake models and techniques. "
   ]
  },
  {
   "cell_type": "markdown",
   "metadata": {},
   "source": [
    "### Loading a toy data set\n",
    "\n",
    "For  the sake of this tutorial we load the _wine dataset_ provided by scikit learn."
   ]
  },
  {
   "cell_type": "code",
   "execution_count": 46,
   "metadata": {},
   "outputs": [],
   "source": [
    "from sklearn.datasets import load_wine"
   ]
  },
  {
   "cell_type": "code",
   "execution_count": 47,
   "metadata": {},
   "outputs": [
    {
     "name": "stdout",
     "output_type": "stream",
     "text": [
      "Wine Data Database\n",
      "====================\n",
      "\n",
      "Notes\n",
      "-----\n",
      "Data Set Characteristics:\n",
      "    :Number of Instances: 178 (50 in each of three classes)\n",
      "    :Number of Attributes: 13 numeric, predictive attributes and the class\n",
      "    :Attribute Information:\n",
      " \t\t- 1) Alcohol\n",
      " \t\t- 2) Malic acid\n",
      " \t\t- 3) Ash\n",
      "\t\t- 4) Alcalinity of ash  \n",
      " \t\t- 5) Magnesium\n",
      "\t\t- 6) Total phenols\n",
      " \t\t- 7) Flavanoids\n",
      " \t\t- 8) Nonflavanoid phenols\n",
      " \t\t- 9) Proanthocyanins\n",
      "\t\t- 10)Color intensity\n",
      " \t\t- 11)Hue\n",
      " \t\t- 12)OD280/OD315 of diluted wines\n",
      " \t\t- 13)Proline\n",
      "        \t- class:\n",
      "                - class_0\n",
      "                - class_1\n",
      "                - class_2\n",
      "\t\t\n",
      "    :Summary Statistics:\n",
      "    \n",
      "    ============================= ==== ===== ======= =====\n",
      "                                   Min   Max   Mean     SD\n",
      "    ============================= ==== ===== ======= =====\n",
      "    Alcohol:                      11.0  14.8    13.0   0.8\n",
      "    Malic Acid:                   0.74  5.80    2.34  1.12\n",
      "    Ash:                          1.36  3.23    2.36  0.27\n",
      "    Alcalinity of Ash:            10.6  30.0    19.5   3.3\n",
      "    Magnesium:                    70.0 162.0    99.7  14.3\n",
      "    Total Phenols:                0.98  3.88    2.29  0.63\n",
      "    Flavanoids:                   0.34  5.08    2.03  1.00\n",
      "    Nonflavanoid Phenols:         0.13  0.66    0.36  0.12\n",
      "    Proanthocyanins:              0.41  3.58    1.59  0.57\n",
      "    Colour Intensity:              1.3  13.0     5.1   2.3\n",
      "    Hue:                          0.48  1.71    0.96  0.23\n",
      "    OD280/OD315 of diluted wines: 1.27  4.00    2.61  0.71\n",
      "    Proline:                       278  1680     746   315\n",
      "    ============================= ==== ===== ======= =====\n",
      "\n",
      "    :Missing Attribute Values: None\n",
      "    :Class Distribution: class_0 (59), class_1 (71), class_2 (48)\n",
      "    :Creator: R.A. Fisher\n",
      "    :Donor: Michael Marshall (MARSHALL%PLU@io.arc.nasa.gov)\n",
      "    :Date: July, 1988\n",
      "\n",
      "This is a copy of UCI ML Wine recognition datasets.\n",
      "https://archive.ics.uci.edu/ml/machine-learning-databases/wine/wine.data\n",
      "\n",
      "The data is the results of a chemical analysis of wines grown in the same\n",
      "region in Italy by three different cultivators. There are thirteen different\n",
      "measurements taken for different constituents found in the three types of\n",
      "wine.\n",
      "\n",
      "Original Owners: \n",
      "\n",
      "Forina, M. et al, PARVUS - \n",
      "An Extendible Package for Data Exploration, Classification and Correlation. \n",
      "Institute of Pharmaceutical and Food Analysis and Technologies,\n",
      "Via Brigata Salerno, 16147 Genoa, Italy.\n",
      "\n",
      "Citation:\n",
      "\n",
      "Lichman, M. (2013). UCI Machine Learning Repository\n",
      "[http://archive.ics.uci.edu/ml]. Irvine, CA: University of California,\n",
      "School of Information and Computer Science. \n",
      "\n",
      "References\n",
      "----------\n",
      "(1) \n",
      "S. Aeberhard, D. Coomans and O. de Vel, \n",
      "Comparison of Classifiers in High Dimensional Settings, \n",
      "Tech. Rep. no. 92-02, (1992), Dept. of Computer Science and Dept. of \n",
      "Mathematics and Statistics, James Cook University of North Queensland. \n",
      "(Also submitted to Technometrics). \n",
      "\n",
      "The data was used with many others for comparing various \n",
      "classifiers. The classes are separable, though only RDA \n",
      "has achieved 100% correct classification. \n",
      "(RDA : 100%, QDA 99.4%, LDA 98.9%, 1NN 96.1% (z-transformed data)) \n",
      "(All results using the leave-one-out technique) \n",
      "\n",
      "(2) \n",
      "S. Aeberhard, D. Coomans and O. de Vel, \n",
      "\"THE CLASSIFICATION PERFORMANCE OF RDA\" \n",
      "Tech. Rep. no. 92-01, (1992), Dept. of Computer Science and Dept. of \n",
      "Mathematics and Statistics, James Cook University of North Queensland. \n",
      "(Also submitted to Journal of Chemometrics). \n",
      "\n"
     ]
    }
   ],
   "source": [
    "ds = load_wine()\n",
    "print(ds.DESCR)"
   ]
  },
  {
   "cell_type": "code",
   "execution_count": 48,
   "metadata": {},
   "outputs": [
    {
     "data": {
      "text/plain": [
       "array([[1.423e+01, 1.710e+00, 2.430e+00, ..., 1.040e+00, 3.920e+00,\n",
       "        1.065e+03],\n",
       "       [1.320e+01, 1.780e+00, 2.140e+00, ..., 1.050e+00, 3.400e+00,\n",
       "        1.050e+03],\n",
       "       [1.316e+01, 2.360e+00, 2.670e+00, ..., 1.030e+00, 3.170e+00,\n",
       "        1.185e+03],\n",
       "       ...,\n",
       "       [1.327e+01, 4.280e+00, 2.260e+00, ..., 5.900e-01, 1.560e+00,\n",
       "        8.350e+02],\n",
       "       [1.317e+01, 2.590e+00, 2.370e+00, ..., 6.000e-01, 1.620e+00,\n",
       "        8.400e+02],\n",
       "       [1.413e+01, 4.100e+00, 2.740e+00, ..., 6.100e-01, 1.600e+00,\n",
       "        5.600e+02]])"
      ]
     },
     "execution_count": 48,
     "metadata": {},
     "output_type": "execute_result"
    }
   ],
   "source": [
    "ds.data"
   ]
  },
  {
   "cell_type": "code",
   "execution_count": 49,
   "metadata": {},
   "outputs": [
    {
     "data": {
      "text/plain": [
       "array([0, 0, 0, 0, 0, 0, 0, 0, 0, 0, 0, 0, 0, 0, 0, 0, 0, 0, 0, 0, 0, 0,\n",
       "       0, 0, 0, 0, 0, 0, 0, 0, 0, 0, 0, 0, 0, 0, 0, 0, 0, 0, 0, 0, 0, 0,\n",
       "       0, 0, 0, 0, 0, 0, 0, 0, 0, 0, 0, 0, 0, 0, 0, 1, 1, 1, 1, 1, 1, 1,\n",
       "       1, 1, 1, 1, 1, 1, 1, 1, 1, 1, 1, 1, 1, 1, 1, 1, 1, 1, 1, 1, 1, 1,\n",
       "       1, 1, 1, 1, 1, 1, 1, 1, 1, 1, 1, 1, 1, 1, 1, 1, 1, 1, 1, 1, 1, 1,\n",
       "       1, 1, 1, 1, 1, 1, 1, 1, 1, 1, 1, 1, 1, 1, 1, 1, 1, 1, 1, 1, 2, 2,\n",
       "       2, 2, 2, 2, 2, 2, 2, 2, 2, 2, 2, 2, 2, 2, 2, 2, 2, 2, 2, 2, 2, 2,\n",
       "       2, 2, 2, 2, 2, 2, 2, 2, 2, 2, 2, 2, 2, 2, 2, 2, 2, 2, 2, 2, 2, 2,\n",
       "       2, 2])"
      ]
     },
     "execution_count": 49,
     "metadata": {},
     "output_type": "execute_result"
    }
   ],
   "source": [
    "ds.target"
   ]
  },
  {
   "cell_type": "markdown",
   "metadata": {},
   "source": [
    "### Subsetting the data set to two classes"
   ]
  },
  {
   "cell_type": "code",
   "execution_count": 50,
   "metadata": {},
   "outputs": [
    {
     "data": {
      "text/plain": [
       "(130,)"
      ]
     },
     "execution_count": 50,
     "metadata": {},
     "output_type": "execute_result"
    }
   ],
   "source": [
    "y = ds.target[ds.target < 2]\n",
    "y.shape"
   ]
  },
  {
   "cell_type": "code",
   "execution_count": 51,
   "metadata": {},
   "outputs": [
    {
     "data": {
      "text/plain": [
       "(130, 13)"
      ]
     },
     "execution_count": 51,
     "metadata": {},
     "output_type": "execute_result"
    }
   ],
   "source": [
    "X = ds.data[ds.target < 2]\n",
    "X.shape"
   ]
  },
  {
   "cell_type": "markdown",
   "metadata": {},
   "source": [
    "### Train-test split"
   ]
  },
  {
   "cell_type": "code",
   "execution_count": 52,
   "metadata": {},
   "outputs": [],
   "source": [
    "from sklearn.model_selection import train_test_split\n",
    "X_train, X_test, y_train, y_test = train_test_split(X, y, test_size=0.3,\n",
    "                                                    random_state=42)"
   ]
  },
  {
   "cell_type": "code",
   "execution_count": 53,
   "metadata": {},
   "outputs": [
    {
     "name": "stdout",
     "output_type": "stream",
     "text": [
      "(91, 13)\n",
      "(39, 13)\n",
      "(91,)\n",
      "(39,)\n"
     ]
    }
   ],
   "source": [
    "print(X_train.shape)\n",
    "print(X_test.shape)\n",
    "print(y_train.shape)\n",
    "print(y_test.shape)"
   ]
  },
  {
   "cell_type": "markdown",
   "metadata": {},
   "source": [
    "### Creation of a model instance "
   ]
  },
  {
   "cell_type": "code",
   "execution_count": null,
   "metadata": {},
   "outputs": [],
   "source": []
  },
  {
   "cell_type": "code",
   "execution_count": 54,
   "metadata": {},
   "outputs": [
    {
     "data": {
      "text/plain": [
       "LogisticRegression(C=1.0, class_weight=None, dual=False, fit_intercept=True,\n",
       "          intercept_scaling=1, max_iter=100, multi_class='ovr', n_jobs=1,\n",
       "          penalty='l2', random_state=None, solver='liblinear', tol=0.0001,\n",
       "          verbose=0, warm_start=False)"
      ]
     },
     "execution_count": 54,
     "metadata": {},
     "output_type": "execute_result"
    }
   ],
   "source": [
    "from sklearn import linear_model\n",
    "logistic = linear_model.LogisticRegression()\n",
    "logistic"
   ]
  },
  {
   "cell_type": "markdown",
   "metadata": {},
   "source": [
    "## Model Fitting"
   ]
  },
  {
   "cell_type": "code",
   "execution_count": 55,
   "metadata": {},
   "outputs": [
    {
     "data": {
      "text/plain": [
       "LogisticRegression(C=1.0, class_weight=None, dual=False, fit_intercept=True,\n",
       "          intercept_scaling=1, max_iter=100, multi_class='ovr', n_jobs=1,\n",
       "          penalty='l2', random_state=None, solver='liblinear', tol=0.0001,\n",
       "          verbose=0, warm_start=False)"
      ]
     },
     "execution_count": 55,
     "metadata": {},
     "output_type": "execute_result"
    }
   ],
   "source": [
    "logistic.fit(X_train, y_train)"
   ]
  },
  {
   "cell_type": "markdown",
   "metadata": {},
   "source": [
    "## Prediction"
   ]
  },
  {
   "cell_type": "markdown",
   "metadata": {},
   "source": [
    "### In-sample prediction"
   ]
  },
  {
   "cell_type": "code",
   "execution_count": 56,
   "metadata": {},
   "outputs": [
    {
     "data": {
      "text/plain": [
       "array([0, 0, 1, 1, 0, 1, 1, 0, 0, 1, 1, 1, 0, 1, 1, 0, 0, 1, 1, 0, 0, 0,\n",
       "       0, 1, 0, 1, 0, 0, 1, 1, 1, 0, 0, 1, 0, 0, 0, 1, 1, 0, 1, 1, 1, 0,\n",
       "       0, 1, 0, 1, 1, 1, 1, 1, 1, 0, 0, 1, 0, 1, 1, 0, 1, 0, 1, 1, 1, 1,\n",
       "       0, 0, 1, 1, 0, 0, 0, 0, 0, 1, 1, 1, 1, 1, 1, 1, 1, 1, 0, 1, 1, 1,\n",
       "       0, 1, 1])"
      ]
     },
     "execution_count": 56,
     "metadata": {},
     "output_type": "execute_result"
    }
   ],
   "source": [
    "logistic.predict(X_train)"
   ]
  },
  {
   "cell_type": "markdown",
   "metadata": {},
   "source": [
    "### Out of sample prediction"
   ]
  },
  {
   "cell_type": "code",
   "execution_count": 57,
   "metadata": {},
   "outputs": [
    {
     "data": {
      "text/plain": [
       "array([0, 0, 0, 0, 1, 0, 0, 1, 1, 0, 0, 0, 1, 1, 1, 1, 0, 1, 1, 1, 0, 0,\n",
       "       1, 0, 1, 0, 0, 0, 0, 0, 0, 0, 0, 0, 1, 1, 1, 0, 1])"
      ]
     },
     "execution_count": 57,
     "metadata": {},
     "output_type": "execute_result"
    }
   ],
   "source": [
    "y_pred = logistic.predict(X_test)\n",
    "y_pred"
   ]
  },
  {
   "cell_type": "code",
   "execution_count": 58,
   "metadata": {},
   "outputs": [
    {
     "data": {
      "text/plain": [
       "array([[9.98037466e-01, 1.96253425e-03],\n",
       "       [9.51319579e-01, 4.86804206e-02],\n",
       "       [9.95410445e-01, 4.58955476e-03],\n",
       "       [9.99999431e-01, 5.69234600e-07],\n",
       "       [1.36486466e-04, 9.99863514e-01]])"
      ]
     },
     "execution_count": 58,
     "metadata": {},
     "output_type": "execute_result"
    }
   ],
   "source": [
    "logistic.predict_proba(X_test)[:5]"
   ]
  },
  {
   "cell_type": "markdown",
   "metadata": {},
   "source": [
    "##  Evaluate the Model's Performance\n",
    "\n",
    "In scikit-learn there are 3 different APIs for evaluating the quality of a model’s predictions:\n",
    "\n",
    "* __Estimator score method__: Estimators have a score method providing a default evaluation criterion for the problem they are designed to solve. \n",
    "* __Scoring parameter__: Model-evaluation tools using cross-validation rely on an internal scoring strategy. \n",
    "* __Metric functions__: The metrics module implements functions assessing prediction error for specific purposes. Functions ending with `_score` return a value to maximize, the higher the better, and Functions ending with `_error` or `_loss` return a value to minimize, the lower the better."
   ]
  },
  {
   "cell_type": "markdown",
   "metadata": {},
   "source": [
    "### Estimator score method\n",
    "\n",
    "Returns the mean accuracy on the given test data and labels.\n",
    "\n",
    "$$\\text{accuracy}(y, \\hat y) = \\frac{1}{n_{\\text{samples}}} \\sum_{i=0}^{n_{\\text{samples}}-1}\\mathbb1(\\hat y_i = y_i)$$"
   ]
  },
  {
   "cell_type": "code",
   "execution_count": 59,
   "metadata": {},
   "outputs": [
    {
     "data": {
      "text/plain": [
       "0.8717948717948718"
      ]
     },
     "execution_count": 59,
     "metadata": {},
     "output_type": "execute_result"
    }
   ],
   "source": [
    "logistic.score(X_test, y_test)"
   ]
  },
  {
   "cell_type": "code",
   "execution_count": 60,
   "metadata": {},
   "outputs": [
    {
     "data": {
      "text/plain": [
       "0.8717948717948718"
      ]
     },
     "execution_count": 60,
     "metadata": {},
     "output_type": "execute_result"
    }
   ],
   "source": [
    "np.sum(y_pred == y_test)/len(y_test)"
   ]
  },
  {
   "cell_type": "markdown",
   "metadata": {},
   "source": [
    "### Metric functions"
   ]
  },
  {
   "cell_type": "code",
   "execution_count": 61,
   "metadata": {},
   "outputs": [
    {
     "data": {
      "text/plain": [
       "0.8717948717948718"
      ]
     },
     "execution_count": 61,
     "metadata": {},
     "output_type": "execute_result"
    }
   ],
   "source": [
    "from sklearn.metrics import accuracy_score\n",
    "accuracy_score(y_pred, y_test)"
   ]
  },
  {
   "cell_type": "markdown",
   "metadata": {},
   "source": [
    "Note that there are many more [model metrics](http://scikit-learn.org/stable/modules/model_evaluation.html) avaibale in scikit-learn.  "
   ]
  },
  {
   "cell_type": "code",
   "execution_count": 62,
   "metadata": {},
   "outputs": [
    {
     "data": {
      "text/plain": [
       "['accuracy_score',\n",
       " 'adjusted_mutual_info_score',\n",
       " 'adjusted_rand_score',\n",
       " 'auc',\n",
       " 'average_precision_score',\n",
       " 'base',\n",
       " 'brier_score_loss',\n",
       " 'calinski_harabaz_score',\n",
       " 'classification',\n",
       " 'classification_report',\n",
       " 'cluster',\n",
       " 'cohen_kappa_score',\n",
       " 'completeness_score',\n",
       " 'confusion_matrix',\n",
       " 'consensus_score',\n",
       " 'coverage_error',\n",
       " 'euclidean_distances',\n",
       " 'explained_variance_score',\n",
       " 'f1_score',\n",
       " 'fbeta_score',\n",
       " 'fowlkes_mallows_score',\n",
       " 'get_scorer',\n",
       " 'hamming_loss',\n",
       " 'hinge_loss',\n",
       " 'homogeneity_completeness_v_measure',\n",
       " 'homogeneity_score',\n",
       " 'jaccard_similarity_score',\n",
       " 'label_ranking_average_precision_score',\n",
       " 'label_ranking_loss',\n",
       " 'log_loss',\n",
       " 'make_scorer',\n",
       " 'matthews_corrcoef',\n",
       " 'mean_absolute_error',\n",
       " 'mean_squared_error',\n",
       " 'mean_squared_log_error',\n",
       " 'median_absolute_error',\n",
       " 'mutual_info_score',\n",
       " 'normalized_mutual_info_score',\n",
       " 'pairwise',\n",
       " 'pairwise_distances',\n",
       " 'pairwise_distances_argmin',\n",
       " 'pairwise_distances_argmin_min',\n",
       " 'pairwise_fast',\n",
       " 'pairwise_kernels',\n",
       " 'precision_recall_curve',\n",
       " 'precision_recall_fscore_support',\n",
       " 'precision_score',\n",
       " 'r2_score',\n",
       " 'ranking',\n",
       " 'recall_score',\n",
       " 'regression',\n",
       " 'roc_auc_score',\n",
       " 'roc_curve',\n",
       " 'scorer',\n",
       " 'silhouette_samples',\n",
       " 'silhouette_score',\n",
       " 'v_measure_score',\n",
       " 'zero_one_loss']"
      ]
     },
     "execution_count": 62,
     "metadata": {},
     "output_type": "execute_result"
    }
   ],
   "source": [
    "dir(sklearn.metrics)[11:]"
   ]
  },
  {
   "cell_type": "markdown",
   "metadata": {},
   "source": [
    "## Tune the Model"
   ]
  },
  {
   "cell_type": "markdown",
   "metadata": {},
   "source": [
    "Be aware that there are two types of parameters: \n",
    "* __model parameters__ and \n",
    "* __hyperparameters__. \n",
    "\n",
    "Models parameters (i.e. regression coefficients) are learned from the data. Hyperparameters however, are parameters whose values are set before the learning process begins. Different model training algorithms require different hyperparameters, some simple algorithms  require none. \n",
    "\n",
    "The optimal hyperparameter configuaration for a particualr modeling task is unknown. Hence, we apply differnet techniquens, such as grid search, random search od Baysian optimization to approximate the best hyperparamter configiatiuon (refrred to as [hyperparameter optimization](https://en.wikipedia.org/wiki/Hyperparameter_optimization).\n",
    "\n",
    "Durning the process of model optimization we want to avoid [overfitting](https://en.wikipedia.org/wiki/Overfitting). Hence, in machine learning a technique referred to as [k-fold cross-validation][1] is applied. Cross-validation is a process for reliably estimating the performance of a method for building a model by training and evaluating your model multiple times using the same method.\n",
    "\n",
    "#### K-fold cross-validation (Source: [Wikipedia][1])\n",
    "![](./_img/K-fold_cross_validation_EN.png)\n",
    "\n",
    "\n",
    "[1]: https://en.wikipedia.org/wiki/Cross-validation_(statistics)"
   ]
  },
  {
   "cell_type": "markdown",
   "metadata": {},
   "source": [
    "### Model creation"
   ]
  },
  {
   "cell_type": "markdown",
   "metadata": {},
   "source": [
    "For the purpose of this tutorail we apply [support vector machines]() (SVMs) for classiftion of the subseted _wine data set_ (see above). An SVM model is a representation of the examples as points in space, mapped so that the examples of the separate categories are divided by a clear gap that is as wide as possible. \n",
    "\n",
    "The advantages of support vector machines are:\n",
    "\n",
    "* Effective in high dimensional spaces.\n",
    "* Still effective in cases where number of dimensions is greater than the number of samples.\n",
    "* Uses a subset of training points in the decision function (called support vectors), so it is also memory efficient.\n",
    "* Versatile: different Kernel functions can be specified for the decision function. \n",
    "\n",
    "The disadvantages of support vector machines include:\n",
    "\n",
    "* If the number of features is much greater than the number of samples, avoid over-fitting in choosing Kernel functions and regularization term is crucial.\n",
    "* SVMs do not directly provide probability estimates.\n",
    "* SVM do not scale well.\n",
    "\n",
    "\n",
    "\n",
    "The mathematics of the algormton are beyond the scope of this tutrial, but if you are intertested we suggest to dive intoe the [scikit-learn documetnation](http://scikit-learn.org/stable/modules/svm.html) or watch the informative [video](https://www.youtube.com/watch?v=-Z4aojJ-pdg) by Brandon Rohrer."
   ]
  },
  {
   "cell_type": "code",
   "execution_count": 63,
   "metadata": {},
   "outputs": [
    {
     "data": {
      "text/plain": [
       "SVC(C=1.0, cache_size=200, class_weight=None, coef0=0.0,\n",
       "  decision_function_shape='ovr', degree=3, gamma='auto', kernel='rbf',\n",
       "  max_iter=-1, probability=False, random_state=None, shrinking=True,\n",
       "  tol=0.001, verbose=False)"
      ]
     },
     "execution_count": 63,
     "metadata": {},
     "output_type": "execute_result"
    }
   ],
   "source": [
    "from sklearn import svm\n",
    "svc = svm.SVC()\n",
    "svc"
   ]
  },
  {
   "cell_type": "markdown",
   "metadata": {},
   "source": [
    "### Hyperparameter optimization using `GridSearchCV`"
   ]
  },
  {
   "cell_type": "markdown",
   "metadata": {},
   "source": [
    "* `C`: Penalty parameter `C` of the error term. The parameter allows one to trade off training error vs. model complexity. Hence, the `C` parameter trades off misclassification of training examples against simplicity of the decision surface. A low `C` makes the decision surface smooth, while a high `C` aims at classifying all training examples correctly by giving the model freedom to select more samples as support vectors.\n",
    "\n",
    "* `kernel`:  Specifies the kernel type to be used in the algorithm. It must be one of `linear`, `poly`, `rbf`, `sigmoid`, `precomputed` or a callable. \n",
    "\n",
    "* `gamma`: Kernel coefficient for `rbf`, `poly` and `sigmoid`. Intuitively, the `gamma` parameter defines how far the influence of a single training example reaches, with low values meaning _far_ and high values meaning _close_. The `gamma` parameters can be seen as the inverse of the radius of influence of samples selected by the model as support vectors."
   ]
  },
  {
   "cell_type": "code",
   "execution_count": 91,
   "metadata": {},
   "outputs": [],
   "source": [
    "from sklearn.model_selection import GridSearchCV\n",
    "\n",
    "param_grid = [{'C': [0.1, 1, 10, 100],\n",
    "               'gamma': [0.01, 0.001, 0.0001],\n",
    "               'kernel': ['linear', 'rbf']}]\n",
    "\n",
    "clf = GridSearchCV(svc, param_grid, cv=5, verbose=1, return_train_score=True)"
   ]
  },
  {
   "cell_type": "markdown",
   "metadata": {},
   "source": [
    "### Model fitting"
   ]
  },
  {
   "cell_type": "code",
   "execution_count": 87,
   "metadata": {
    "scrolled": false
   },
   "outputs": [
    {
     "name": "stdout",
     "output_type": "stream",
     "text": [
      "Fitting 5 folds for each of 108 candidates, totalling 540 fits\n"
     ]
    },
    {
     "name": "stderr",
     "output_type": "stream",
     "text": [
      "[Parallel(n_jobs=1)]: Done 540 out of 540 | elapsed:   42.2s finished\n"
     ]
    },
    {
     "data": {
      "text/plain": [
       "GridSearchCV(cv=5, error_score='raise',\n",
       "       estimator=SVC(C=1.0, cache_size=200, class_weight=None, coef0=0.0,\n",
       "  decision_function_shape='ovr', degree=3, gamma='auto', kernel='rbf',\n",
       "  max_iter=-1, probability=False, random_state=None, shrinking=True,\n",
       "  tol=0.001, verbose=False),\n",
       "       fit_params=None, iid=True, n_jobs=1,\n",
       "       param_grid=[{'C': [0.1, 1, 10, 100], 'gamma': [0.01, 0.001, 0.0001], 'degree': [3, 5, 7], 'kernel': ['linear', 'poly', 'rbf']}],\n",
       "       pre_dispatch='2*n_jobs', refit=True, return_train_score=True,\n",
       "       scoring=None, verbose=1)"
      ]
     },
     "execution_count": 87,
     "metadata": {},
     "output_type": "execute_result"
    }
   ],
   "source": [
    "clf.fit(X_train, y_train)"
   ]
  },
  {
   "cell_type": "markdown",
   "metadata": {},
   "source": [
    "### Cross validation results"
   ]
  },
  {
   "cell_type": "code",
   "execution_count": 88,
   "metadata": {
    "scrolled": true
   },
   "outputs": [
    {
     "data": {
      "text/html": [
       "<div>\n",
       "<style scoped>\n",
       "    .dataframe tbody tr th:only-of-type {\n",
       "        vertical-align: middle;\n",
       "    }\n",
       "\n",
       "    .dataframe tbody tr th {\n",
       "        vertical-align: top;\n",
       "    }\n",
       "\n",
       "    .dataframe thead th {\n",
       "        text-align: right;\n",
       "    }\n",
       "</style>\n",
       "<table border=\"1\" class=\"dataframe\">\n",
       "  <thead>\n",
       "    <tr style=\"text-align: right;\">\n",
       "      <th></th>\n",
       "      <th>mean_fit_time</th>\n",
       "      <th>mean_score_time</th>\n",
       "      <th>mean_test_score</th>\n",
       "      <th>mean_train_score</th>\n",
       "      <th>param_C</th>\n",
       "      <th>param_degree</th>\n",
       "      <th>param_gamma</th>\n",
       "      <th>param_kernel</th>\n",
       "      <th>params</th>\n",
       "      <th>rank_test_score</th>\n",
       "      <th>...</th>\n",
       "      <th>split2_test_score</th>\n",
       "      <th>split2_train_score</th>\n",
       "      <th>split3_test_score</th>\n",
       "      <th>split3_train_score</th>\n",
       "      <th>split4_test_score</th>\n",
       "      <th>split4_train_score</th>\n",
       "      <th>std_fit_time</th>\n",
       "      <th>std_score_time</th>\n",
       "      <th>std_test_score</th>\n",
       "      <th>std_train_score</th>\n",
       "    </tr>\n",
       "  </thead>\n",
       "  <tbody>\n",
       "    <tr>\n",
       "      <th>0</th>\n",
       "      <td>0.012</td>\n",
       "      <td>0.000</td>\n",
       "      <td>0.989011</td>\n",
       "      <td>0.989040</td>\n",
       "      <td>0.1</td>\n",
       "      <td>3</td>\n",
       "      <td>0.01</td>\n",
       "      <td>linear</td>\n",
       "      <td>{'C': 0.1, 'degree': 3, 'gamma': 0.01, 'kernel...</td>\n",
       "      <td>1</td>\n",
       "      <td>...</td>\n",
       "      <td>1.000000</td>\n",
       "      <td>0.986301</td>\n",
       "      <td>1.000000</td>\n",
       "      <td>0.986301</td>\n",
       "      <td>1.000000</td>\n",
       "      <td>0.986486</td>\n",
       "      <td>0.007483</td>\n",
       "      <td>0.000000</td>\n",
       "      <td>0.021392</td>\n",
       "      <td>0.005481</td>\n",
       "    </tr>\n",
       "    <tr>\n",
       "      <th>1</th>\n",
       "      <td>0.194</td>\n",
       "      <td>0.000</td>\n",
       "      <td>0.989011</td>\n",
       "      <td>1.000000</td>\n",
       "      <td>0.1</td>\n",
       "      <td>3</td>\n",
       "      <td>0.01</td>\n",
       "      <td>poly</td>\n",
       "      <td>{'C': 0.1, 'degree': 3, 'gamma': 0.01, 'kernel...</td>\n",
       "      <td>1</td>\n",
       "      <td>...</td>\n",
       "      <td>1.000000</td>\n",
       "      <td>1.000000</td>\n",
       "      <td>1.000000</td>\n",
       "      <td>1.000000</td>\n",
       "      <td>1.000000</td>\n",
       "      <td>1.000000</td>\n",
       "      <td>0.096871</td>\n",
       "      <td>0.000000</td>\n",
       "      <td>0.021392</td>\n",
       "      <td>0.000000</td>\n",
       "    </tr>\n",
       "    <tr>\n",
       "      <th>2</th>\n",
       "      <td>0.002</td>\n",
       "      <td>0.002</td>\n",
       "      <td>0.571429</td>\n",
       "      <td>0.571428</td>\n",
       "      <td>0.1</td>\n",
       "      <td>3</td>\n",
       "      <td>0.01</td>\n",
       "      <td>rbf</td>\n",
       "      <td>{'C': 0.1, 'degree': 3, 'gamma': 0.01, 'kernel...</td>\n",
       "      <td>106</td>\n",
       "      <td>...</td>\n",
       "      <td>0.555556</td>\n",
       "      <td>0.575342</td>\n",
       "      <td>0.555556</td>\n",
       "      <td>0.575342</td>\n",
       "      <td>0.588235</td>\n",
       "      <td>0.567568</td>\n",
       "      <td>0.004000</td>\n",
       "      <td>0.004000</td>\n",
       "      <td>0.013268</td>\n",
       "      <td>0.003269</td>\n",
       "    </tr>\n",
       "    <tr>\n",
       "      <th>3</th>\n",
       "      <td>0.016</td>\n",
       "      <td>0.004</td>\n",
       "      <td>0.989011</td>\n",
       "      <td>0.989040</td>\n",
       "      <td>0.1</td>\n",
       "      <td>3</td>\n",
       "      <td>0.001</td>\n",
       "      <td>linear</td>\n",
       "      <td>{'C': 0.1, 'degree': 3, 'gamma': 0.001, 'kerne...</td>\n",
       "      <td>1</td>\n",
       "      <td>...</td>\n",
       "      <td>1.000000</td>\n",
       "      <td>0.986301</td>\n",
       "      <td>1.000000</td>\n",
       "      <td>0.986301</td>\n",
       "      <td>1.000000</td>\n",
       "      <td>0.986486</td>\n",
       "      <td>0.004899</td>\n",
       "      <td>0.004899</td>\n",
       "      <td>0.021392</td>\n",
       "      <td>0.005481</td>\n",
       "    </tr>\n",
       "    <tr>\n",
       "      <th>4</th>\n",
       "      <td>0.152</td>\n",
       "      <td>0.000</td>\n",
       "      <td>0.989011</td>\n",
       "      <td>1.000000</td>\n",
       "      <td>0.1</td>\n",
       "      <td>3</td>\n",
       "      <td>0.001</td>\n",
       "      <td>poly</td>\n",
       "      <td>{'C': 0.1, 'degree': 3, 'gamma': 0.001, 'kerne...</td>\n",
       "      <td>1</td>\n",
       "      <td>...</td>\n",
       "      <td>1.000000</td>\n",
       "      <td>1.000000</td>\n",
       "      <td>1.000000</td>\n",
       "      <td>1.000000</td>\n",
       "      <td>1.000000</td>\n",
       "      <td>1.000000</td>\n",
       "      <td>0.080349</td>\n",
       "      <td>0.000000</td>\n",
       "      <td>0.021392</td>\n",
       "      <td>0.000000</td>\n",
       "    </tr>\n",
       "    <tr>\n",
       "      <th>5</th>\n",
       "      <td>0.000</td>\n",
       "      <td>0.002</td>\n",
       "      <td>0.615385</td>\n",
       "      <td>0.632051</td>\n",
       "      <td>0.1</td>\n",
       "      <td>3</td>\n",
       "      <td>0.001</td>\n",
       "      <td>rbf</td>\n",
       "      <td>{'C': 0.1, 'degree': 3, 'gamma': 0.001, 'kerne...</td>\n",
       "      <td>103</td>\n",
       "      <td>...</td>\n",
       "      <td>0.611111</td>\n",
       "      <td>0.589041</td>\n",
       "      <td>0.555556</td>\n",
       "      <td>0.575342</td>\n",
       "      <td>0.647059</td>\n",
       "      <td>0.648649</td>\n",
       "      <td>0.000000</td>\n",
       "      <td>0.004000</td>\n",
       "      <td>0.046533</td>\n",
       "      <td>0.043963</td>\n",
       "    </tr>\n",
       "    <tr>\n",
       "      <th>6</th>\n",
       "      <td>0.012</td>\n",
       "      <td>0.000</td>\n",
       "      <td>0.989011</td>\n",
       "      <td>0.989040</td>\n",
       "      <td>0.1</td>\n",
       "      <td>3</td>\n",
       "      <td>0.0001</td>\n",
       "      <td>linear</td>\n",
       "      <td>{'C': 0.1, 'degree': 3, 'gamma': 0.0001, 'kern...</td>\n",
       "      <td>1</td>\n",
       "      <td>...</td>\n",
       "      <td>1.000000</td>\n",
       "      <td>0.986301</td>\n",
       "      <td>1.000000</td>\n",
       "      <td>0.986301</td>\n",
       "      <td>1.000000</td>\n",
       "      <td>0.986486</td>\n",
       "      <td>0.004000</td>\n",
       "      <td>0.000000</td>\n",
       "      <td>0.021392</td>\n",
       "      <td>0.005481</td>\n",
       "    </tr>\n",
       "    <tr>\n",
       "      <th>7</th>\n",
       "      <td>0.046</td>\n",
       "      <td>0.002</td>\n",
       "      <td>0.989011</td>\n",
       "      <td>0.986337</td>\n",
       "      <td>0.1</td>\n",
       "      <td>3</td>\n",
       "      <td>0.0001</td>\n",
       "      <td>poly</td>\n",
       "      <td>{'C': 0.1, 'degree': 3, 'gamma': 0.0001, 'kern...</td>\n",
       "      <td>1</td>\n",
       "      <td>...</td>\n",
       "      <td>1.000000</td>\n",
       "      <td>0.986301</td>\n",
       "      <td>1.000000</td>\n",
       "      <td>0.986301</td>\n",
       "      <td>1.000000</td>\n",
       "      <td>0.972973</td>\n",
       "      <td>0.029394</td>\n",
       "      <td>0.004000</td>\n",
       "      <td>0.021392</td>\n",
       "      <td>0.008548</td>\n",
       "    </tr>\n",
       "    <tr>\n",
       "      <th>8</th>\n",
       "      <td>0.002</td>\n",
       "      <td>0.000</td>\n",
       "      <td>0.934066</td>\n",
       "      <td>0.956047</td>\n",
       "      <td>0.1</td>\n",
       "      <td>3</td>\n",
       "      <td>0.0001</td>\n",
       "      <td>rbf</td>\n",
       "      <td>{'C': 0.1, 'degree': 3, 'gamma': 0.0001, 'kern...</td>\n",
       "      <td>76</td>\n",
       "      <td>...</td>\n",
       "      <td>1.000000</td>\n",
       "      <td>0.945205</td>\n",
       "      <td>1.000000</td>\n",
       "      <td>0.958904</td>\n",
       "      <td>0.882353</td>\n",
       "      <td>0.959459</td>\n",
       "      <td>0.004000</td>\n",
       "      <td>0.000000</td>\n",
       "      <td>0.053529</td>\n",
       "      <td>0.010331</td>\n",
       "    </tr>\n",
       "    <tr>\n",
       "      <th>9</th>\n",
       "      <td>0.010</td>\n",
       "      <td>0.000</td>\n",
       "      <td>0.989011</td>\n",
       "      <td>0.989040</td>\n",
       "      <td>0.1</td>\n",
       "      <td>5</td>\n",
       "      <td>0.01</td>\n",
       "      <td>linear</td>\n",
       "      <td>{'C': 0.1, 'degree': 5, 'gamma': 0.01, 'kernel...</td>\n",
       "      <td>1</td>\n",
       "      <td>...</td>\n",
       "      <td>1.000000</td>\n",
       "      <td>0.986301</td>\n",
       "      <td>1.000000</td>\n",
       "      <td>0.986301</td>\n",
       "      <td>1.000000</td>\n",
       "      <td>0.986486</td>\n",
       "      <td>0.006325</td>\n",
       "      <td>0.000000</td>\n",
       "      <td>0.021392</td>\n",
       "      <td>0.005481</td>\n",
       "    </tr>\n",
       "    <tr>\n",
       "      <th>10</th>\n",
       "      <td>0.136</td>\n",
       "      <td>0.000</td>\n",
       "      <td>0.978022</td>\n",
       "      <td>1.000000</td>\n",
       "      <td>0.1</td>\n",
       "      <td>5</td>\n",
       "      <td>0.01</td>\n",
       "      <td>poly</td>\n",
       "      <td>{'C': 0.1, 'degree': 5, 'gamma': 0.01, 'kernel...</td>\n",
       "      <td>49</td>\n",
       "      <td>...</td>\n",
       "      <td>1.000000</td>\n",
       "      <td>1.000000</td>\n",
       "      <td>1.000000</td>\n",
       "      <td>1.000000</td>\n",
       "      <td>1.000000</td>\n",
       "      <td>1.000000</td>\n",
       "      <td>0.076053</td>\n",
       "      <td>0.000000</td>\n",
       "      <td>0.042784</td>\n",
       "      <td>0.000000</td>\n",
       "    </tr>\n",
       "    <tr>\n",
       "      <th>11</th>\n",
       "      <td>0.002</td>\n",
       "      <td>0.000</td>\n",
       "      <td>0.571429</td>\n",
       "      <td>0.571428</td>\n",
       "      <td>0.1</td>\n",
       "      <td>5</td>\n",
       "      <td>0.01</td>\n",
       "      <td>rbf</td>\n",
       "      <td>{'C': 0.1, 'degree': 5, 'gamma': 0.01, 'kernel...</td>\n",
       "      <td>106</td>\n",
       "      <td>...</td>\n",
       "      <td>0.555556</td>\n",
       "      <td>0.575342</td>\n",
       "      <td>0.555556</td>\n",
       "      <td>0.575342</td>\n",
       "      <td>0.588235</td>\n",
       "      <td>0.567568</td>\n",
       "      <td>0.004000</td>\n",
       "      <td>0.000000</td>\n",
       "      <td>0.013268</td>\n",
       "      <td>0.003269</td>\n",
       "    </tr>\n",
       "    <tr>\n",
       "      <th>12</th>\n",
       "      <td>0.010</td>\n",
       "      <td>0.000</td>\n",
       "      <td>0.989011</td>\n",
       "      <td>0.989040</td>\n",
       "      <td>0.1</td>\n",
       "      <td>5</td>\n",
       "      <td>0.001</td>\n",
       "      <td>linear</td>\n",
       "      <td>{'C': 0.1, 'degree': 5, 'gamma': 0.001, 'kerne...</td>\n",
       "      <td>1</td>\n",
       "      <td>...</td>\n",
       "      <td>1.000000</td>\n",
       "      <td>0.986301</td>\n",
       "      <td>1.000000</td>\n",
       "      <td>0.986301</td>\n",
       "      <td>1.000000</td>\n",
       "      <td>0.986486</td>\n",
       "      <td>0.006325</td>\n",
       "      <td>0.000000</td>\n",
       "      <td>0.021392</td>\n",
       "      <td>0.005481</td>\n",
       "    </tr>\n",
       "    <tr>\n",
       "      <th>13</th>\n",
       "      <td>0.140</td>\n",
       "      <td>0.000</td>\n",
       "      <td>0.978022</td>\n",
       "      <td>1.000000</td>\n",
       "      <td>0.1</td>\n",
       "      <td>5</td>\n",
       "      <td>0.001</td>\n",
       "      <td>poly</td>\n",
       "      <td>{'C': 0.1, 'degree': 5, 'gamma': 0.001, 'kerne...</td>\n",
       "      <td>49</td>\n",
       "      <td>...</td>\n",
       "      <td>1.000000</td>\n",
       "      <td>1.000000</td>\n",
       "      <td>1.000000</td>\n",
       "      <td>1.000000</td>\n",
       "      <td>1.000000</td>\n",
       "      <td>1.000000</td>\n",
       "      <td>0.075895</td>\n",
       "      <td>0.000000</td>\n",
       "      <td>0.042784</td>\n",
       "      <td>0.000000</td>\n",
       "    </tr>\n",
       "    <tr>\n",
       "      <th>14</th>\n",
       "      <td>0.002</td>\n",
       "      <td>0.000</td>\n",
       "      <td>0.615385</td>\n",
       "      <td>0.632051</td>\n",
       "      <td>0.1</td>\n",
       "      <td>5</td>\n",
       "      <td>0.001</td>\n",
       "      <td>rbf</td>\n",
       "      <td>{'C': 0.1, 'degree': 5, 'gamma': 0.001, 'kerne...</td>\n",
       "      <td>103</td>\n",
       "      <td>...</td>\n",
       "      <td>0.611111</td>\n",
       "      <td>0.589041</td>\n",
       "      <td>0.555556</td>\n",
       "      <td>0.575342</td>\n",
       "      <td>0.647059</td>\n",
       "      <td>0.648649</td>\n",
       "      <td>0.004000</td>\n",
       "      <td>0.000000</td>\n",
       "      <td>0.046533</td>\n",
       "      <td>0.043963</td>\n",
       "    </tr>\n",
       "    <tr>\n",
       "      <th>15</th>\n",
       "      <td>0.010</td>\n",
       "      <td>0.000</td>\n",
       "      <td>0.989011</td>\n",
       "      <td>0.989040</td>\n",
       "      <td>0.1</td>\n",
       "      <td>5</td>\n",
       "      <td>0.0001</td>\n",
       "      <td>linear</td>\n",
       "      <td>{'C': 0.1, 'degree': 5, 'gamma': 0.0001, 'kern...</td>\n",
       "      <td>1</td>\n",
       "      <td>...</td>\n",
       "      <td>1.000000</td>\n",
       "      <td>0.986301</td>\n",
       "      <td>1.000000</td>\n",
       "      <td>0.986301</td>\n",
       "      <td>1.000000</td>\n",
       "      <td>0.986486</td>\n",
       "      <td>0.006325</td>\n",
       "      <td>0.000000</td>\n",
       "      <td>0.021392</td>\n",
       "      <td>0.005481</td>\n",
       "    </tr>\n",
       "    <tr>\n",
       "      <th>16</th>\n",
       "      <td>0.128</td>\n",
       "      <td>0.002</td>\n",
       "      <td>0.978022</td>\n",
       "      <td>1.000000</td>\n",
       "      <td>0.1</td>\n",
       "      <td>5</td>\n",
       "      <td>0.0001</td>\n",
       "      <td>poly</td>\n",
       "      <td>{'C': 0.1, 'degree': 5, 'gamma': 0.0001, 'kern...</td>\n",
       "      <td>49</td>\n",
       "      <td>...</td>\n",
       "      <td>1.000000</td>\n",
       "      <td>1.000000</td>\n",
       "      <td>1.000000</td>\n",
       "      <td>1.000000</td>\n",
       "      <td>1.000000</td>\n",
       "      <td>1.000000</td>\n",
       "      <td>0.079348</td>\n",
       "      <td>0.004000</td>\n",
       "      <td>0.042784</td>\n",
       "      <td>0.000000</td>\n",
       "    </tr>\n",
       "    <tr>\n",
       "      <th>17</th>\n",
       "      <td>0.000</td>\n",
       "      <td>0.000</td>\n",
       "      <td>0.934066</td>\n",
       "      <td>0.956047</td>\n",
       "      <td>0.1</td>\n",
       "      <td>5</td>\n",
       "      <td>0.0001</td>\n",
       "      <td>rbf</td>\n",
       "      <td>{'C': 0.1, 'degree': 5, 'gamma': 0.0001, 'kern...</td>\n",
       "      <td>76</td>\n",
       "      <td>...</td>\n",
       "      <td>1.000000</td>\n",
       "      <td>0.945205</td>\n",
       "      <td>1.000000</td>\n",
       "      <td>0.958904</td>\n",
       "      <td>0.882353</td>\n",
       "      <td>0.959459</td>\n",
       "      <td>0.000000</td>\n",
       "      <td>0.000000</td>\n",
       "      <td>0.053529</td>\n",
       "      <td>0.010331</td>\n",
       "    </tr>\n",
       "    <tr>\n",
       "      <th>18</th>\n",
       "      <td>0.008</td>\n",
       "      <td>0.000</td>\n",
       "      <td>0.989011</td>\n",
       "      <td>0.989040</td>\n",
       "      <td>0.1</td>\n",
       "      <td>7</td>\n",
       "      <td>0.01</td>\n",
       "      <td>linear</td>\n",
       "      <td>{'C': 0.1, 'degree': 7, 'gamma': 0.01, 'kernel...</td>\n",
       "      <td>1</td>\n",
       "      <td>...</td>\n",
       "      <td>1.000000</td>\n",
       "      <td>0.986301</td>\n",
       "      <td>1.000000</td>\n",
       "      <td>0.986301</td>\n",
       "      <td>1.000000</td>\n",
       "      <td>0.986486</td>\n",
       "      <td>0.007483</td>\n",
       "      <td>0.000000</td>\n",
       "      <td>0.021392</td>\n",
       "      <td>0.005481</td>\n",
       "    </tr>\n",
       "    <tr>\n",
       "      <th>19</th>\n",
       "      <td>0.134</td>\n",
       "      <td>0.000</td>\n",
       "      <td>0.967033</td>\n",
       "      <td>1.000000</td>\n",
       "      <td>0.1</td>\n",
       "      <td>7</td>\n",
       "      <td>0.01</td>\n",
       "      <td>poly</td>\n",
       "      <td>{'C': 0.1, 'degree': 7, 'gamma': 0.01, 'kernel...</td>\n",
       "      <td>61</td>\n",
       "      <td>...</td>\n",
       "      <td>1.000000</td>\n",
       "      <td>1.000000</td>\n",
       "      <td>1.000000</td>\n",
       "      <td>1.000000</td>\n",
       "      <td>1.000000</td>\n",
       "      <td>1.000000</td>\n",
       "      <td>0.062482</td>\n",
       "      <td>0.000000</td>\n",
       "      <td>0.042486</td>\n",
       "      <td>0.000000</td>\n",
       "    </tr>\n",
       "    <tr>\n",
       "      <th>20</th>\n",
       "      <td>0.002</td>\n",
       "      <td>0.000</td>\n",
       "      <td>0.571429</td>\n",
       "      <td>0.571428</td>\n",
       "      <td>0.1</td>\n",
       "      <td>7</td>\n",
       "      <td>0.01</td>\n",
       "      <td>rbf</td>\n",
       "      <td>{'C': 0.1, 'degree': 7, 'gamma': 0.01, 'kernel...</td>\n",
       "      <td>106</td>\n",
       "      <td>...</td>\n",
       "      <td>0.555556</td>\n",
       "      <td>0.575342</td>\n",
       "      <td>0.555556</td>\n",
       "      <td>0.575342</td>\n",
       "      <td>0.588235</td>\n",
       "      <td>0.567568</td>\n",
       "      <td>0.004000</td>\n",
       "      <td>0.000000</td>\n",
       "      <td>0.013268</td>\n",
       "      <td>0.003269</td>\n",
       "    </tr>\n",
       "    <tr>\n",
       "      <th>21</th>\n",
       "      <td>0.010</td>\n",
       "      <td>0.000</td>\n",
       "      <td>0.989011</td>\n",
       "      <td>0.989040</td>\n",
       "      <td>0.1</td>\n",
       "      <td>7</td>\n",
       "      <td>0.001</td>\n",
       "      <td>linear</td>\n",
       "      <td>{'C': 0.1, 'degree': 7, 'gamma': 0.001, 'kerne...</td>\n",
       "      <td>1</td>\n",
       "      <td>...</td>\n",
       "      <td>1.000000</td>\n",
       "      <td>0.986301</td>\n",
       "      <td>1.000000</td>\n",
       "      <td>0.986301</td>\n",
       "      <td>1.000000</td>\n",
       "      <td>0.986486</td>\n",
       "      <td>0.006325</td>\n",
       "      <td>0.000000</td>\n",
       "      <td>0.021392</td>\n",
       "      <td>0.005481</td>\n",
       "    </tr>\n",
       "    <tr>\n",
       "      <th>22</th>\n",
       "      <td>0.142</td>\n",
       "      <td>0.000</td>\n",
       "      <td>0.967033</td>\n",
       "      <td>1.000000</td>\n",
       "      <td>0.1</td>\n",
       "      <td>7</td>\n",
       "      <td>0.001</td>\n",
       "      <td>poly</td>\n",
       "      <td>{'C': 0.1, 'degree': 7, 'gamma': 0.001, 'kerne...</td>\n",
       "      <td>61</td>\n",
       "      <td>...</td>\n",
       "      <td>1.000000</td>\n",
       "      <td>1.000000</td>\n",
       "      <td>1.000000</td>\n",
       "      <td>1.000000</td>\n",
       "      <td>1.000000</td>\n",
       "      <td>1.000000</td>\n",
       "      <td>0.067350</td>\n",
       "      <td>0.000000</td>\n",
       "      <td>0.042486</td>\n",
       "      <td>0.000000</td>\n",
       "    </tr>\n",
       "    <tr>\n",
       "      <th>23</th>\n",
       "      <td>0.004</td>\n",
       "      <td>0.000</td>\n",
       "      <td>0.615385</td>\n",
       "      <td>0.632051</td>\n",
       "      <td>0.1</td>\n",
       "      <td>7</td>\n",
       "      <td>0.001</td>\n",
       "      <td>rbf</td>\n",
       "      <td>{'C': 0.1, 'degree': 7, 'gamma': 0.001, 'kerne...</td>\n",
       "      <td>103</td>\n",
       "      <td>...</td>\n",
       "      <td>0.611111</td>\n",
       "      <td>0.589041</td>\n",
       "      <td>0.555556</td>\n",
       "      <td>0.575342</td>\n",
       "      <td>0.647059</td>\n",
       "      <td>0.648649</td>\n",
       "      <td>0.004899</td>\n",
       "      <td>0.000000</td>\n",
       "      <td>0.046533</td>\n",
       "      <td>0.043963</td>\n",
       "    </tr>\n",
       "    <tr>\n",
       "      <th>24</th>\n",
       "      <td>0.010</td>\n",
       "      <td>0.000</td>\n",
       "      <td>0.989011</td>\n",
       "      <td>0.989040</td>\n",
       "      <td>0.1</td>\n",
       "      <td>7</td>\n",
       "      <td>0.0001</td>\n",
       "      <td>linear</td>\n",
       "      <td>{'C': 0.1, 'degree': 7, 'gamma': 0.0001, 'kern...</td>\n",
       "      <td>1</td>\n",
       "      <td>...</td>\n",
       "      <td>1.000000</td>\n",
       "      <td>0.986301</td>\n",
       "      <td>1.000000</td>\n",
       "      <td>0.986301</td>\n",
       "      <td>1.000000</td>\n",
       "      <td>0.986486</td>\n",
       "      <td>0.006325</td>\n",
       "      <td>0.000000</td>\n",
       "      <td>0.021392</td>\n",
       "      <td>0.005481</td>\n",
       "    </tr>\n",
       "    <tr>\n",
       "      <th>25</th>\n",
       "      <td>0.142</td>\n",
       "      <td>0.000</td>\n",
       "      <td>0.967033</td>\n",
       "      <td>1.000000</td>\n",
       "      <td>0.1</td>\n",
       "      <td>7</td>\n",
       "      <td>0.0001</td>\n",
       "      <td>poly</td>\n",
       "      <td>{'C': 0.1, 'degree': 7, 'gamma': 0.0001, 'kern...</td>\n",
       "      <td>61</td>\n",
       "      <td>...</td>\n",
       "      <td>1.000000</td>\n",
       "      <td>1.000000</td>\n",
       "      <td>1.000000</td>\n",
       "      <td>1.000000</td>\n",
       "      <td>1.000000</td>\n",
       "      <td>1.000000</td>\n",
       "      <td>0.066453</td>\n",
       "      <td>0.000000</td>\n",
       "      <td>0.042486</td>\n",
       "      <td>0.000000</td>\n",
       "    </tr>\n",
       "    <tr>\n",
       "      <th>26</th>\n",
       "      <td>0.002</td>\n",
       "      <td>0.002</td>\n",
       "      <td>0.934066</td>\n",
       "      <td>0.956047</td>\n",
       "      <td>0.1</td>\n",
       "      <td>7</td>\n",
       "      <td>0.0001</td>\n",
       "      <td>rbf</td>\n",
       "      <td>{'C': 0.1, 'degree': 7, 'gamma': 0.0001, 'kern...</td>\n",
       "      <td>76</td>\n",
       "      <td>...</td>\n",
       "      <td>1.000000</td>\n",
       "      <td>0.945205</td>\n",
       "      <td>1.000000</td>\n",
       "      <td>0.958904</td>\n",
       "      <td>0.882353</td>\n",
       "      <td>0.959459</td>\n",
       "      <td>0.004000</td>\n",
       "      <td>0.004000</td>\n",
       "      <td>0.053529</td>\n",
       "      <td>0.010331</td>\n",
       "    </tr>\n",
       "    <tr>\n",
       "      <th>27</th>\n",
       "      <td>0.038</td>\n",
       "      <td>0.000</td>\n",
       "      <td>0.989011</td>\n",
       "      <td>0.989040</td>\n",
       "      <td>1</td>\n",
       "      <td>3</td>\n",
       "      <td>0.01</td>\n",
       "      <td>linear</td>\n",
       "      <td>{'C': 1, 'degree': 3, 'gamma': 0.01, 'kernel':...</td>\n",
       "      <td>1</td>\n",
       "      <td>...</td>\n",
       "      <td>1.000000</td>\n",
       "      <td>0.986301</td>\n",
       "      <td>1.000000</td>\n",
       "      <td>0.986301</td>\n",
       "      <td>1.000000</td>\n",
       "      <td>0.986486</td>\n",
       "      <td>0.011662</td>\n",
       "      <td>0.000000</td>\n",
       "      <td>0.021392</td>\n",
       "      <td>0.005481</td>\n",
       "    </tr>\n",
       "    <tr>\n",
       "      <th>28</th>\n",
       "      <td>0.142</td>\n",
       "      <td>0.004</td>\n",
       "      <td>0.989011</td>\n",
       "      <td>1.000000</td>\n",
       "      <td>1</td>\n",
       "      <td>3</td>\n",
       "      <td>0.01</td>\n",
       "      <td>poly</td>\n",
       "      <td>{'C': 1, 'degree': 3, 'gamma': 0.01, 'kernel':...</td>\n",
       "      <td>1</td>\n",
       "      <td>...</td>\n",
       "      <td>1.000000</td>\n",
       "      <td>1.000000</td>\n",
       "      <td>1.000000</td>\n",
       "      <td>1.000000</td>\n",
       "      <td>1.000000</td>\n",
       "      <td>1.000000</td>\n",
       "      <td>0.069972</td>\n",
       "      <td>0.004899</td>\n",
       "      <td>0.021392</td>\n",
       "      <td>0.000000</td>\n",
       "    </tr>\n",
       "    <tr>\n",
       "      <th>29</th>\n",
       "      <td>0.002</td>\n",
       "      <td>0.000</td>\n",
       "      <td>0.747253</td>\n",
       "      <td>0.991743</td>\n",
       "      <td>1</td>\n",
       "      <td>3</td>\n",
       "      <td>0.01</td>\n",
       "      <td>rbf</td>\n",
       "      <td>{'C': 1, 'degree': 3, 'gamma': 0.01, 'kernel':...</td>\n",
       "      <td>100</td>\n",
       "      <td>...</td>\n",
       "      <td>0.777778</td>\n",
       "      <td>0.986301</td>\n",
       "      <td>0.833333</td>\n",
       "      <td>0.986301</td>\n",
       "      <td>0.647059</td>\n",
       "      <td>1.000000</td>\n",
       "      <td>0.004000</td>\n",
       "      <td>0.000000</td>\n",
       "      <td>0.068756</td>\n",
       "      <td>0.006742</td>\n",
       "    </tr>\n",
       "    <tr>\n",
       "      <th>...</th>\n",
       "      <td>...</td>\n",
       "      <td>...</td>\n",
       "      <td>...</td>\n",
       "      <td>...</td>\n",
       "      <td>...</td>\n",
       "      <td>...</td>\n",
       "      <td>...</td>\n",
       "      <td>...</td>\n",
       "      <td>...</td>\n",
       "      <td>...</td>\n",
       "      <td>...</td>\n",
       "      <td>...</td>\n",
       "      <td>...</td>\n",
       "      <td>...</td>\n",
       "      <td>...</td>\n",
       "      <td>...</td>\n",
       "      <td>...</td>\n",
       "      <td>...</td>\n",
       "      <td>...</td>\n",
       "      <td>...</td>\n",
       "      <td>...</td>\n",
       "    </tr>\n",
       "    <tr>\n",
       "      <th>78</th>\n",
       "      <td>0.144</td>\n",
       "      <td>0.000</td>\n",
       "      <td>0.989011</td>\n",
       "      <td>1.000000</td>\n",
       "      <td>10</td>\n",
       "      <td>7</td>\n",
       "      <td>0.0001</td>\n",
       "      <td>linear</td>\n",
       "      <td>{'C': 10, 'degree': 7, 'gamma': 0.0001, 'kerne...</td>\n",
       "      <td>1</td>\n",
       "      <td>...</td>\n",
       "      <td>1.000000</td>\n",
       "      <td>1.000000</td>\n",
       "      <td>1.000000</td>\n",
       "      <td>1.000000</td>\n",
       "      <td>1.000000</td>\n",
       "      <td>1.000000</td>\n",
       "      <td>0.066212</td>\n",
       "      <td>0.000000</td>\n",
       "      <td>0.021392</td>\n",
       "      <td>0.000000</td>\n",
       "    </tr>\n",
       "    <tr>\n",
       "      <th>79</th>\n",
       "      <td>0.142</td>\n",
       "      <td>0.000</td>\n",
       "      <td>0.967033</td>\n",
       "      <td>1.000000</td>\n",
       "      <td>10</td>\n",
       "      <td>7</td>\n",
       "      <td>0.0001</td>\n",
       "      <td>poly</td>\n",
       "      <td>{'C': 10, 'degree': 7, 'gamma': 0.0001, 'kerne...</td>\n",
       "      <td>61</td>\n",
       "      <td>...</td>\n",
       "      <td>1.000000</td>\n",
       "      <td>1.000000</td>\n",
       "      <td>1.000000</td>\n",
       "      <td>1.000000</td>\n",
       "      <td>1.000000</td>\n",
       "      <td>1.000000</td>\n",
       "      <td>0.066453</td>\n",
       "      <td>0.000000</td>\n",
       "      <td>0.042486</td>\n",
       "      <td>0.000000</td>\n",
       "    </tr>\n",
       "    <tr>\n",
       "      <th>80</th>\n",
       "      <td>0.002</td>\n",
       "      <td>0.000</td>\n",
       "      <td>0.934066</td>\n",
       "      <td>0.969823</td>\n",
       "      <td>10</td>\n",
       "      <td>7</td>\n",
       "      <td>0.0001</td>\n",
       "      <td>rbf</td>\n",
       "      <td>{'C': 10, 'degree': 7, 'gamma': 0.0001, 'kerne...</td>\n",
       "      <td>76</td>\n",
       "      <td>...</td>\n",
       "      <td>1.000000</td>\n",
       "      <td>0.958904</td>\n",
       "      <td>1.000000</td>\n",
       "      <td>0.958904</td>\n",
       "      <td>0.941176</td>\n",
       "      <td>0.972973</td>\n",
       "      <td>0.004000</td>\n",
       "      <td>0.000000</td>\n",
       "      <td>0.078303</td>\n",
       "      <td>0.010192</td>\n",
       "    </tr>\n",
       "    <tr>\n",
       "      <th>81</th>\n",
       "      <td>0.144</td>\n",
       "      <td>0.000</td>\n",
       "      <td>0.989011</td>\n",
       "      <td>1.000000</td>\n",
       "      <td>100</td>\n",
       "      <td>3</td>\n",
       "      <td>0.01</td>\n",
       "      <td>linear</td>\n",
       "      <td>{'C': 100, 'degree': 3, 'gamma': 0.01, 'kernel...</td>\n",
       "      <td>1</td>\n",
       "      <td>...</td>\n",
       "      <td>1.000000</td>\n",
       "      <td>1.000000</td>\n",
       "      <td>1.000000</td>\n",
       "      <td>1.000000</td>\n",
       "      <td>1.000000</td>\n",
       "      <td>1.000000</td>\n",
       "      <td>0.066212</td>\n",
       "      <td>0.000000</td>\n",
       "      <td>0.021392</td>\n",
       "      <td>0.000000</td>\n",
       "    </tr>\n",
       "    <tr>\n",
       "      <th>82</th>\n",
       "      <td>0.146</td>\n",
       "      <td>0.000</td>\n",
       "      <td>0.989011</td>\n",
       "      <td>1.000000</td>\n",
       "      <td>100</td>\n",
       "      <td>3</td>\n",
       "      <td>0.01</td>\n",
       "      <td>poly</td>\n",
       "      <td>{'C': 100, 'degree': 3, 'gamma': 0.01, 'kernel...</td>\n",
       "      <td>1</td>\n",
       "      <td>...</td>\n",
       "      <td>1.000000</td>\n",
       "      <td>1.000000</td>\n",
       "      <td>1.000000</td>\n",
       "      <td>1.000000</td>\n",
       "      <td>1.000000</td>\n",
       "      <td>1.000000</td>\n",
       "      <td>0.071722</td>\n",
       "      <td>0.000000</td>\n",
       "      <td>0.021392</td>\n",
       "      <td>0.000000</td>\n",
       "    </tr>\n",
       "    <tr>\n",
       "      <th>83</th>\n",
       "      <td>0.002</td>\n",
       "      <td>0.000</td>\n",
       "      <td>0.769231</td>\n",
       "      <td>1.000000</td>\n",
       "      <td>100</td>\n",
       "      <td>3</td>\n",
       "      <td>0.01</td>\n",
       "      <td>rbf</td>\n",
       "      <td>{'C': 100, 'degree': 3, 'gamma': 0.01, 'kernel...</td>\n",
       "      <td>94</td>\n",
       "      <td>...</td>\n",
       "      <td>0.777778</td>\n",
       "      <td>1.000000</td>\n",
       "      <td>0.944444</td>\n",
       "      <td>1.000000</td>\n",
       "      <td>0.588235</td>\n",
       "      <td>1.000000</td>\n",
       "      <td>0.004000</td>\n",
       "      <td>0.000000</td>\n",
       "      <td>0.111854</td>\n",
       "      <td>0.000000</td>\n",
       "    </tr>\n",
       "    <tr>\n",
       "      <th>84</th>\n",
       "      <td>0.150</td>\n",
       "      <td>0.000</td>\n",
       "      <td>0.989011</td>\n",
       "      <td>1.000000</td>\n",
       "      <td>100</td>\n",
       "      <td>3</td>\n",
       "      <td>0.001</td>\n",
       "      <td>linear</td>\n",
       "      <td>{'C': 100, 'degree': 3, 'gamma': 0.001, 'kerne...</td>\n",
       "      <td>1</td>\n",
       "      <td>...</td>\n",
       "      <td>1.000000</td>\n",
       "      <td>1.000000</td>\n",
       "      <td>1.000000</td>\n",
       "      <td>1.000000</td>\n",
       "      <td>1.000000</td>\n",
       "      <td>1.000000</td>\n",
       "      <td>0.069857</td>\n",
       "      <td>0.000000</td>\n",
       "      <td>0.021392</td>\n",
       "      <td>0.000000</td>\n",
       "    </tr>\n",
       "    <tr>\n",
       "      <th>85</th>\n",
       "      <td>0.140</td>\n",
       "      <td>0.000</td>\n",
       "      <td>0.989011</td>\n",
       "      <td>1.000000</td>\n",
       "      <td>100</td>\n",
       "      <td>3</td>\n",
       "      <td>0.001</td>\n",
       "      <td>poly</td>\n",
       "      <td>{'C': 100, 'degree': 3, 'gamma': 0.001, 'kerne...</td>\n",
       "      <td>1</td>\n",
       "      <td>...</td>\n",
       "      <td>1.000000</td>\n",
       "      <td>1.000000</td>\n",
       "      <td>1.000000</td>\n",
       "      <td>1.000000</td>\n",
       "      <td>1.000000</td>\n",
       "      <td>1.000000</td>\n",
       "      <td>0.075100</td>\n",
       "      <td>0.000000</td>\n",
       "      <td>0.021392</td>\n",
       "      <td>0.000000</td>\n",
       "    </tr>\n",
       "    <tr>\n",
       "      <th>86</th>\n",
       "      <td>0.000</td>\n",
       "      <td>0.002</td>\n",
       "      <td>0.901099</td>\n",
       "      <td>1.000000</td>\n",
       "      <td>100</td>\n",
       "      <td>3</td>\n",
       "      <td>0.001</td>\n",
       "      <td>rbf</td>\n",
       "      <td>{'C': 100, 'degree': 3, 'gamma': 0.001, 'kerne...</td>\n",
       "      <td>91</td>\n",
       "      <td>...</td>\n",
       "      <td>1.000000</td>\n",
       "      <td>1.000000</td>\n",
       "      <td>1.000000</td>\n",
       "      <td>1.000000</td>\n",
       "      <td>0.823529</td>\n",
       "      <td>1.000000</td>\n",
       "      <td>0.000000</td>\n",
       "      <td>0.004000</td>\n",
       "      <td>0.087199</td>\n",
       "      <td>0.000000</td>\n",
       "    </tr>\n",
       "    <tr>\n",
       "      <th>87</th>\n",
       "      <td>0.150</td>\n",
       "      <td>0.000</td>\n",
       "      <td>0.989011</td>\n",
       "      <td>1.000000</td>\n",
       "      <td>100</td>\n",
       "      <td>3</td>\n",
       "      <td>0.0001</td>\n",
       "      <td>linear</td>\n",
       "      <td>{'C': 100, 'degree': 3, 'gamma': 0.0001, 'kern...</td>\n",
       "      <td>1</td>\n",
       "      <td>...</td>\n",
       "      <td>1.000000</td>\n",
       "      <td>1.000000</td>\n",
       "      <td>1.000000</td>\n",
       "      <td>1.000000</td>\n",
       "      <td>1.000000</td>\n",
       "      <td>1.000000</td>\n",
       "      <td>0.069857</td>\n",
       "      <td>0.000000</td>\n",
       "      <td>0.021392</td>\n",
       "      <td>0.000000</td>\n",
       "    </tr>\n",
       "    <tr>\n",
       "      <th>88</th>\n",
       "      <td>0.182</td>\n",
       "      <td>0.002</td>\n",
       "      <td>0.989011</td>\n",
       "      <td>1.000000</td>\n",
       "      <td>100</td>\n",
       "      <td>3</td>\n",
       "      <td>0.0001</td>\n",
       "      <td>poly</td>\n",
       "      <td>{'C': 100, 'degree': 3, 'gamma': 0.0001, 'kern...</td>\n",
       "      <td>1</td>\n",
       "      <td>...</td>\n",
       "      <td>1.000000</td>\n",
       "      <td>1.000000</td>\n",
       "      <td>1.000000</td>\n",
       "      <td>1.000000</td>\n",
       "      <td>1.000000</td>\n",
       "      <td>1.000000</td>\n",
       "      <td>0.087040</td>\n",
       "      <td>0.004000</td>\n",
       "      <td>0.021392</td>\n",
       "      <td>0.000000</td>\n",
       "    </tr>\n",
       "    <tr>\n",
       "      <th>89</th>\n",
       "      <td>0.002</td>\n",
       "      <td>0.000</td>\n",
       "      <td>0.912088</td>\n",
       "      <td>0.980783</td>\n",
       "      <td>100</td>\n",
       "      <td>3</td>\n",
       "      <td>0.0001</td>\n",
       "      <td>rbf</td>\n",
       "      <td>{'C': 100, 'degree': 3, 'gamma': 0.0001, 'kern...</td>\n",
       "      <td>88</td>\n",
       "      <td>...</td>\n",
       "      <td>1.000000</td>\n",
       "      <td>0.972603</td>\n",
       "      <td>1.000000</td>\n",
       "      <td>0.972603</td>\n",
       "      <td>0.882353</td>\n",
       "      <td>0.986486</td>\n",
       "      <td>0.004000</td>\n",
       "      <td>0.000000</td>\n",
       "      <td>0.080153</td>\n",
       "      <td>0.006680</td>\n",
       "    </tr>\n",
       "    <tr>\n",
       "      <th>90</th>\n",
       "      <td>0.144</td>\n",
       "      <td>0.000</td>\n",
       "      <td>0.989011</td>\n",
       "      <td>1.000000</td>\n",
       "      <td>100</td>\n",
       "      <td>5</td>\n",
       "      <td>0.01</td>\n",
       "      <td>linear</td>\n",
       "      <td>{'C': 100, 'degree': 5, 'gamma': 0.01, 'kernel...</td>\n",
       "      <td>1</td>\n",
       "      <td>...</td>\n",
       "      <td>1.000000</td>\n",
       "      <td>1.000000</td>\n",
       "      <td>1.000000</td>\n",
       "      <td>1.000000</td>\n",
       "      <td>1.000000</td>\n",
       "      <td>1.000000</td>\n",
       "      <td>0.066212</td>\n",
       "      <td>0.000000</td>\n",
       "      <td>0.021392</td>\n",
       "      <td>0.000000</td>\n",
       "    </tr>\n",
       "    <tr>\n",
       "      <th>91</th>\n",
       "      <td>0.142</td>\n",
       "      <td>0.000</td>\n",
       "      <td>0.978022</td>\n",
       "      <td>1.000000</td>\n",
       "      <td>100</td>\n",
       "      <td>5</td>\n",
       "      <td>0.01</td>\n",
       "      <td>poly</td>\n",
       "      <td>{'C': 100, 'degree': 5, 'gamma': 0.01, 'kernel...</td>\n",
       "      <td>49</td>\n",
       "      <td>...</td>\n",
       "      <td>1.000000</td>\n",
       "      <td>1.000000</td>\n",
       "      <td>1.000000</td>\n",
       "      <td>1.000000</td>\n",
       "      <td>1.000000</td>\n",
       "      <td>1.000000</td>\n",
       "      <td>0.076000</td>\n",
       "      <td>0.000000</td>\n",
       "      <td>0.042784</td>\n",
       "      <td>0.000000</td>\n",
       "    </tr>\n",
       "    <tr>\n",
       "      <th>92</th>\n",
       "      <td>0.002</td>\n",
       "      <td>0.000</td>\n",
       "      <td>0.769231</td>\n",
       "      <td>1.000000</td>\n",
       "      <td>100</td>\n",
       "      <td>5</td>\n",
       "      <td>0.01</td>\n",
       "      <td>rbf</td>\n",
       "      <td>{'C': 100, 'degree': 5, 'gamma': 0.01, 'kernel...</td>\n",
       "      <td>94</td>\n",
       "      <td>...</td>\n",
       "      <td>0.777778</td>\n",
       "      <td>1.000000</td>\n",
       "      <td>0.944444</td>\n",
       "      <td>1.000000</td>\n",
       "      <td>0.588235</td>\n",
       "      <td>1.000000</td>\n",
       "      <td>0.004000</td>\n",
       "      <td>0.000000</td>\n",
       "      <td>0.111854</td>\n",
       "      <td>0.000000</td>\n",
       "    </tr>\n",
       "    <tr>\n",
       "      <th>93</th>\n",
       "      <td>0.148</td>\n",
       "      <td>0.000</td>\n",
       "      <td>0.989011</td>\n",
       "      <td>1.000000</td>\n",
       "      <td>100</td>\n",
       "      <td>5</td>\n",
       "      <td>0.001</td>\n",
       "      <td>linear</td>\n",
       "      <td>{'C': 100, 'degree': 5, 'gamma': 0.001, 'kerne...</td>\n",
       "      <td>1</td>\n",
       "      <td>...</td>\n",
       "      <td>1.000000</td>\n",
       "      <td>1.000000</td>\n",
       "      <td>1.000000</td>\n",
       "      <td>1.000000</td>\n",
       "      <td>1.000000</td>\n",
       "      <td>1.000000</td>\n",
       "      <td>0.069971</td>\n",
       "      <td>0.000000</td>\n",
       "      <td>0.021392</td>\n",
       "      <td>0.000000</td>\n",
       "    </tr>\n",
       "    <tr>\n",
       "      <th>94</th>\n",
       "      <td>0.140</td>\n",
       "      <td>0.000</td>\n",
       "      <td>0.978022</td>\n",
       "      <td>1.000000</td>\n",
       "      <td>100</td>\n",
       "      <td>5</td>\n",
       "      <td>0.001</td>\n",
       "      <td>poly</td>\n",
       "      <td>{'C': 100, 'degree': 5, 'gamma': 0.001, 'kerne...</td>\n",
       "      <td>49</td>\n",
       "      <td>...</td>\n",
       "      <td>1.000000</td>\n",
       "      <td>1.000000</td>\n",
       "      <td>1.000000</td>\n",
       "      <td>1.000000</td>\n",
       "      <td>1.000000</td>\n",
       "      <td>1.000000</td>\n",
       "      <td>0.082219</td>\n",
       "      <td>0.000000</td>\n",
       "      <td>0.042784</td>\n",
       "      <td>0.000000</td>\n",
       "    </tr>\n",
       "    <tr>\n",
       "      <th>95</th>\n",
       "      <td>0.000</td>\n",
       "      <td>0.002</td>\n",
       "      <td>0.901099</td>\n",
       "      <td>1.000000</td>\n",
       "      <td>100</td>\n",
       "      <td>5</td>\n",
       "      <td>0.001</td>\n",
       "      <td>rbf</td>\n",
       "      <td>{'C': 100, 'degree': 5, 'gamma': 0.001, 'kerne...</td>\n",
       "      <td>91</td>\n",
       "      <td>...</td>\n",
       "      <td>1.000000</td>\n",
       "      <td>1.000000</td>\n",
       "      <td>1.000000</td>\n",
       "      <td>1.000000</td>\n",
       "      <td>0.823529</td>\n",
       "      <td>1.000000</td>\n",
       "      <td>0.000000</td>\n",
       "      <td>0.004000</td>\n",
       "      <td>0.087199</td>\n",
       "      <td>0.000000</td>\n",
       "    </tr>\n",
       "    <tr>\n",
       "      <th>96</th>\n",
       "      <td>0.150</td>\n",
       "      <td>0.000</td>\n",
       "      <td>0.989011</td>\n",
       "      <td>1.000000</td>\n",
       "      <td>100</td>\n",
       "      <td>5</td>\n",
       "      <td>0.0001</td>\n",
       "      <td>linear</td>\n",
       "      <td>{'C': 100, 'degree': 5, 'gamma': 0.0001, 'kern...</td>\n",
       "      <td>1</td>\n",
       "      <td>...</td>\n",
       "      <td>1.000000</td>\n",
       "      <td>1.000000</td>\n",
       "      <td>1.000000</td>\n",
       "      <td>1.000000</td>\n",
       "      <td>1.000000</td>\n",
       "      <td>1.000000</td>\n",
       "      <td>0.069857</td>\n",
       "      <td>0.000000</td>\n",
       "      <td>0.021392</td>\n",
       "      <td>0.000000</td>\n",
       "    </tr>\n",
       "    <tr>\n",
       "      <th>97</th>\n",
       "      <td>0.126</td>\n",
       "      <td>0.000</td>\n",
       "      <td>0.978022</td>\n",
       "      <td>1.000000</td>\n",
       "      <td>100</td>\n",
       "      <td>5</td>\n",
       "      <td>0.0001</td>\n",
       "      <td>poly</td>\n",
       "      <td>{'C': 100, 'degree': 5, 'gamma': 0.0001, 'kern...</td>\n",
       "      <td>49</td>\n",
       "      <td>...</td>\n",
       "      <td>1.000000</td>\n",
       "      <td>1.000000</td>\n",
       "      <td>1.000000</td>\n",
       "      <td>1.000000</td>\n",
       "      <td>1.000000</td>\n",
       "      <td>1.000000</td>\n",
       "      <td>0.079398</td>\n",
       "      <td>0.000000</td>\n",
       "      <td>0.042784</td>\n",
       "      <td>0.000000</td>\n",
       "    </tr>\n",
       "    <tr>\n",
       "      <th>98</th>\n",
       "      <td>0.000</td>\n",
       "      <td>0.000</td>\n",
       "      <td>0.912088</td>\n",
       "      <td>0.980783</td>\n",
       "      <td>100</td>\n",
       "      <td>5</td>\n",
       "      <td>0.0001</td>\n",
       "      <td>rbf</td>\n",
       "      <td>{'C': 100, 'degree': 5, 'gamma': 0.0001, 'kern...</td>\n",
       "      <td>88</td>\n",
       "      <td>...</td>\n",
       "      <td>1.000000</td>\n",
       "      <td>0.972603</td>\n",
       "      <td>1.000000</td>\n",
       "      <td>0.972603</td>\n",
       "      <td>0.882353</td>\n",
       "      <td>0.986486</td>\n",
       "      <td>0.000000</td>\n",
       "      <td>0.000000</td>\n",
       "      <td>0.080153</td>\n",
       "      <td>0.006680</td>\n",
       "    </tr>\n",
       "    <tr>\n",
       "      <th>99</th>\n",
       "      <td>0.150</td>\n",
       "      <td>0.000</td>\n",
       "      <td>0.989011</td>\n",
       "      <td>1.000000</td>\n",
       "      <td>100</td>\n",
       "      <td>7</td>\n",
       "      <td>0.01</td>\n",
       "      <td>linear</td>\n",
       "      <td>{'C': 100, 'degree': 7, 'gamma': 0.01, 'kernel...</td>\n",
       "      <td>1</td>\n",
       "      <td>...</td>\n",
       "      <td>1.000000</td>\n",
       "      <td>1.000000</td>\n",
       "      <td>1.000000</td>\n",
       "      <td>1.000000</td>\n",
       "      <td>1.000000</td>\n",
       "      <td>1.000000</td>\n",
       "      <td>0.069857</td>\n",
       "      <td>0.000000</td>\n",
       "      <td>0.021392</td>\n",
       "      <td>0.000000</td>\n",
       "    </tr>\n",
       "    <tr>\n",
       "      <th>100</th>\n",
       "      <td>0.132</td>\n",
       "      <td>0.000</td>\n",
       "      <td>0.967033</td>\n",
       "      <td>1.000000</td>\n",
       "      <td>100</td>\n",
       "      <td>7</td>\n",
       "      <td>0.01</td>\n",
       "      <td>poly</td>\n",
       "      <td>{'C': 100, 'degree': 7, 'gamma': 0.01, 'kernel...</td>\n",
       "      <td>61</td>\n",
       "      <td>...</td>\n",
       "      <td>1.000000</td>\n",
       "      <td>1.000000</td>\n",
       "      <td>1.000000</td>\n",
       "      <td>1.000000</td>\n",
       "      <td>1.000000</td>\n",
       "      <td>1.000000</td>\n",
       "      <td>0.061449</td>\n",
       "      <td>0.000000</td>\n",
       "      <td>0.042486</td>\n",
       "      <td>0.000000</td>\n",
       "    </tr>\n",
       "    <tr>\n",
       "      <th>101</th>\n",
       "      <td>0.002</td>\n",
       "      <td>0.000</td>\n",
       "      <td>0.769231</td>\n",
       "      <td>1.000000</td>\n",
       "      <td>100</td>\n",
       "      <td>7</td>\n",
       "      <td>0.01</td>\n",
       "      <td>rbf</td>\n",
       "      <td>{'C': 100, 'degree': 7, 'gamma': 0.01, 'kernel...</td>\n",
       "      <td>94</td>\n",
       "      <td>...</td>\n",
       "      <td>0.777778</td>\n",
       "      <td>1.000000</td>\n",
       "      <td>0.944444</td>\n",
       "      <td>1.000000</td>\n",
       "      <td>0.588235</td>\n",
       "      <td>1.000000</td>\n",
       "      <td>0.004000</td>\n",
       "      <td>0.000000</td>\n",
       "      <td>0.111854</td>\n",
       "      <td>0.000000</td>\n",
       "    </tr>\n",
       "    <tr>\n",
       "      <th>102</th>\n",
       "      <td>0.152</td>\n",
       "      <td>0.000</td>\n",
       "      <td>0.989011</td>\n",
       "      <td>1.000000</td>\n",
       "      <td>100</td>\n",
       "      <td>7</td>\n",
       "      <td>0.001</td>\n",
       "      <td>linear</td>\n",
       "      <td>{'C': 100, 'degree': 7, 'gamma': 0.001, 'kerne...</td>\n",
       "      <td>1</td>\n",
       "      <td>...</td>\n",
       "      <td>1.000000</td>\n",
       "      <td>1.000000</td>\n",
       "      <td>1.000000</td>\n",
       "      <td>1.000000</td>\n",
       "      <td>1.000000</td>\n",
       "      <td>1.000000</td>\n",
       "      <td>0.071386</td>\n",
       "      <td>0.000000</td>\n",
       "      <td>0.021392</td>\n",
       "      <td>0.000000</td>\n",
       "    </tr>\n",
       "    <tr>\n",
       "      <th>103</th>\n",
       "      <td>0.134</td>\n",
       "      <td>0.002</td>\n",
       "      <td>0.967033</td>\n",
       "      <td>1.000000</td>\n",
       "      <td>100</td>\n",
       "      <td>7</td>\n",
       "      <td>0.001</td>\n",
       "      <td>poly</td>\n",
       "      <td>{'C': 100, 'degree': 7, 'gamma': 0.001, 'kerne...</td>\n",
       "      <td>61</td>\n",
       "      <td>...</td>\n",
       "      <td>1.000000</td>\n",
       "      <td>1.000000</td>\n",
       "      <td>1.000000</td>\n",
       "      <td>1.000000</td>\n",
       "      <td>1.000000</td>\n",
       "      <td>1.000000</td>\n",
       "      <td>0.062482</td>\n",
       "      <td>0.004000</td>\n",
       "      <td>0.042486</td>\n",
       "      <td>0.000000</td>\n",
       "    </tr>\n",
       "    <tr>\n",
       "      <th>104</th>\n",
       "      <td>0.000</td>\n",
       "      <td>0.000</td>\n",
       "      <td>0.901099</td>\n",
       "      <td>1.000000</td>\n",
       "      <td>100</td>\n",
       "      <td>7</td>\n",
       "      <td>0.001</td>\n",
       "      <td>rbf</td>\n",
       "      <td>{'C': 100, 'degree': 7, 'gamma': 0.001, 'kerne...</td>\n",
       "      <td>91</td>\n",
       "      <td>...</td>\n",
       "      <td>1.000000</td>\n",
       "      <td>1.000000</td>\n",
       "      <td>1.000000</td>\n",
       "      <td>1.000000</td>\n",
       "      <td>0.823529</td>\n",
       "      <td>1.000000</td>\n",
       "      <td>0.000000</td>\n",
       "      <td>0.000000</td>\n",
       "      <td>0.087199</td>\n",
       "      <td>0.000000</td>\n",
       "    </tr>\n",
       "    <tr>\n",
       "      <th>105</th>\n",
       "      <td>0.148</td>\n",
       "      <td>0.002</td>\n",
       "      <td>0.989011</td>\n",
       "      <td>1.000000</td>\n",
       "      <td>100</td>\n",
       "      <td>7</td>\n",
       "      <td>0.0001</td>\n",
       "      <td>linear</td>\n",
       "      <td>{'C': 100, 'degree': 7, 'gamma': 0.0001, 'kern...</td>\n",
       "      <td>1</td>\n",
       "      <td>...</td>\n",
       "      <td>1.000000</td>\n",
       "      <td>1.000000</td>\n",
       "      <td>1.000000</td>\n",
       "      <td>1.000000</td>\n",
       "      <td>1.000000</td>\n",
       "      <td>1.000000</td>\n",
       "      <td>0.067941</td>\n",
       "      <td>0.004000</td>\n",
       "      <td>0.021392</td>\n",
       "      <td>0.000000</td>\n",
       "    </tr>\n",
       "    <tr>\n",
       "      <th>106</th>\n",
       "      <td>0.140</td>\n",
       "      <td>0.000</td>\n",
       "      <td>0.967033</td>\n",
       "      <td>1.000000</td>\n",
       "      <td>100</td>\n",
       "      <td>7</td>\n",
       "      <td>0.0001</td>\n",
       "      <td>poly</td>\n",
       "      <td>{'C': 100, 'degree': 7, 'gamma': 0.0001, 'kern...</td>\n",
       "      <td>61</td>\n",
       "      <td>...</td>\n",
       "      <td>1.000000</td>\n",
       "      <td>1.000000</td>\n",
       "      <td>1.000000</td>\n",
       "      <td>1.000000</td>\n",
       "      <td>1.000000</td>\n",
       "      <td>1.000000</td>\n",
       "      <td>0.070143</td>\n",
       "      <td>0.000000</td>\n",
       "      <td>0.042486</td>\n",
       "      <td>0.000000</td>\n",
       "    </tr>\n",
       "    <tr>\n",
       "      <th>107</th>\n",
       "      <td>0.002</td>\n",
       "      <td>0.000</td>\n",
       "      <td>0.912088</td>\n",
       "      <td>0.980783</td>\n",
       "      <td>100</td>\n",
       "      <td>7</td>\n",
       "      <td>0.0001</td>\n",
       "      <td>rbf</td>\n",
       "      <td>{'C': 100, 'degree': 7, 'gamma': 0.0001, 'kern...</td>\n",
       "      <td>88</td>\n",
       "      <td>...</td>\n",
       "      <td>1.000000</td>\n",
       "      <td>0.972603</td>\n",
       "      <td>1.000000</td>\n",
       "      <td>0.972603</td>\n",
       "      <td>0.882353</td>\n",
       "      <td>0.986486</td>\n",
       "      <td>0.004000</td>\n",
       "      <td>0.000000</td>\n",
       "      <td>0.080153</td>\n",
       "      <td>0.006680</td>\n",
       "    </tr>\n",
       "  </tbody>\n",
       "</table>\n",
       "<p>108 rows × 24 columns</p>\n",
       "</div>"
      ],
      "text/plain": [
       "     mean_fit_time  mean_score_time  mean_test_score  mean_train_score  \\\n",
       "0            0.012            0.000         0.989011          0.989040   \n",
       "1            0.194            0.000         0.989011          1.000000   \n",
       "2            0.002            0.002         0.571429          0.571428   \n",
       "3            0.016            0.004         0.989011          0.989040   \n",
       "4            0.152            0.000         0.989011          1.000000   \n",
       "5            0.000            0.002         0.615385          0.632051   \n",
       "6            0.012            0.000         0.989011          0.989040   \n",
       "7            0.046            0.002         0.989011          0.986337   \n",
       "8            0.002            0.000         0.934066          0.956047   \n",
       "9            0.010            0.000         0.989011          0.989040   \n",
       "10           0.136            0.000         0.978022          1.000000   \n",
       "11           0.002            0.000         0.571429          0.571428   \n",
       "12           0.010            0.000         0.989011          0.989040   \n",
       "13           0.140            0.000         0.978022          1.000000   \n",
       "14           0.002            0.000         0.615385          0.632051   \n",
       "15           0.010            0.000         0.989011          0.989040   \n",
       "16           0.128            0.002         0.978022          1.000000   \n",
       "17           0.000            0.000         0.934066          0.956047   \n",
       "18           0.008            0.000         0.989011          0.989040   \n",
       "19           0.134            0.000         0.967033          1.000000   \n",
       "20           0.002            0.000         0.571429          0.571428   \n",
       "21           0.010            0.000         0.989011          0.989040   \n",
       "22           0.142            0.000         0.967033          1.000000   \n",
       "23           0.004            0.000         0.615385          0.632051   \n",
       "24           0.010            0.000         0.989011          0.989040   \n",
       "25           0.142            0.000         0.967033          1.000000   \n",
       "26           0.002            0.002         0.934066          0.956047   \n",
       "27           0.038            0.000         0.989011          0.989040   \n",
       "28           0.142            0.004         0.989011          1.000000   \n",
       "29           0.002            0.000         0.747253          0.991743   \n",
       "..             ...              ...              ...               ...   \n",
       "78           0.144            0.000         0.989011          1.000000   \n",
       "79           0.142            0.000         0.967033          1.000000   \n",
       "80           0.002            0.000         0.934066          0.969823   \n",
       "81           0.144            0.000         0.989011          1.000000   \n",
       "82           0.146            0.000         0.989011          1.000000   \n",
       "83           0.002            0.000         0.769231          1.000000   \n",
       "84           0.150            0.000         0.989011          1.000000   \n",
       "85           0.140            0.000         0.989011          1.000000   \n",
       "86           0.000            0.002         0.901099          1.000000   \n",
       "87           0.150            0.000         0.989011          1.000000   \n",
       "88           0.182            0.002         0.989011          1.000000   \n",
       "89           0.002            0.000         0.912088          0.980783   \n",
       "90           0.144            0.000         0.989011          1.000000   \n",
       "91           0.142            0.000         0.978022          1.000000   \n",
       "92           0.002            0.000         0.769231          1.000000   \n",
       "93           0.148            0.000         0.989011          1.000000   \n",
       "94           0.140            0.000         0.978022          1.000000   \n",
       "95           0.000            0.002         0.901099          1.000000   \n",
       "96           0.150            0.000         0.989011          1.000000   \n",
       "97           0.126            0.000         0.978022          1.000000   \n",
       "98           0.000            0.000         0.912088          0.980783   \n",
       "99           0.150            0.000         0.989011          1.000000   \n",
       "100          0.132            0.000         0.967033          1.000000   \n",
       "101          0.002            0.000         0.769231          1.000000   \n",
       "102          0.152            0.000         0.989011          1.000000   \n",
       "103          0.134            0.002         0.967033          1.000000   \n",
       "104          0.000            0.000         0.901099          1.000000   \n",
       "105          0.148            0.002         0.989011          1.000000   \n",
       "106          0.140            0.000         0.967033          1.000000   \n",
       "107          0.002            0.000         0.912088          0.980783   \n",
       "\n",
       "    param_C param_degree param_gamma param_kernel  \\\n",
       "0       0.1            3        0.01       linear   \n",
       "1       0.1            3        0.01         poly   \n",
       "2       0.1            3        0.01          rbf   \n",
       "3       0.1            3       0.001       linear   \n",
       "4       0.1            3       0.001         poly   \n",
       "5       0.1            3       0.001          rbf   \n",
       "6       0.1            3      0.0001       linear   \n",
       "7       0.1            3      0.0001         poly   \n",
       "8       0.1            3      0.0001          rbf   \n",
       "9       0.1            5        0.01       linear   \n",
       "10      0.1            5        0.01         poly   \n",
       "11      0.1            5        0.01          rbf   \n",
       "12      0.1            5       0.001       linear   \n",
       "13      0.1            5       0.001         poly   \n",
       "14      0.1            5       0.001          rbf   \n",
       "15      0.1            5      0.0001       linear   \n",
       "16      0.1            5      0.0001         poly   \n",
       "17      0.1            5      0.0001          rbf   \n",
       "18      0.1            7        0.01       linear   \n",
       "19      0.1            7        0.01         poly   \n",
       "20      0.1            7        0.01          rbf   \n",
       "21      0.1            7       0.001       linear   \n",
       "22      0.1            7       0.001         poly   \n",
       "23      0.1            7       0.001          rbf   \n",
       "24      0.1            7      0.0001       linear   \n",
       "25      0.1            7      0.0001         poly   \n",
       "26      0.1            7      0.0001          rbf   \n",
       "27        1            3        0.01       linear   \n",
       "28        1            3        0.01         poly   \n",
       "29        1            3        0.01          rbf   \n",
       "..      ...          ...         ...          ...   \n",
       "78       10            7      0.0001       linear   \n",
       "79       10            7      0.0001         poly   \n",
       "80       10            7      0.0001          rbf   \n",
       "81      100            3        0.01       linear   \n",
       "82      100            3        0.01         poly   \n",
       "83      100            3        0.01          rbf   \n",
       "84      100            3       0.001       linear   \n",
       "85      100            3       0.001         poly   \n",
       "86      100            3       0.001          rbf   \n",
       "87      100            3      0.0001       linear   \n",
       "88      100            3      0.0001         poly   \n",
       "89      100            3      0.0001          rbf   \n",
       "90      100            5        0.01       linear   \n",
       "91      100            5        0.01         poly   \n",
       "92      100            5        0.01          rbf   \n",
       "93      100            5       0.001       linear   \n",
       "94      100            5       0.001         poly   \n",
       "95      100            5       0.001          rbf   \n",
       "96      100            5      0.0001       linear   \n",
       "97      100            5      0.0001         poly   \n",
       "98      100            5      0.0001          rbf   \n",
       "99      100            7        0.01       linear   \n",
       "100     100            7        0.01         poly   \n",
       "101     100            7        0.01          rbf   \n",
       "102     100            7       0.001       linear   \n",
       "103     100            7       0.001         poly   \n",
       "104     100            7       0.001          rbf   \n",
       "105     100            7      0.0001       linear   \n",
       "106     100            7      0.0001         poly   \n",
       "107     100            7      0.0001          rbf   \n",
       "\n",
       "                                                params  rank_test_score  \\\n",
       "0    {'C': 0.1, 'degree': 3, 'gamma': 0.01, 'kernel...                1   \n",
       "1    {'C': 0.1, 'degree': 3, 'gamma': 0.01, 'kernel...                1   \n",
       "2    {'C': 0.1, 'degree': 3, 'gamma': 0.01, 'kernel...              106   \n",
       "3    {'C': 0.1, 'degree': 3, 'gamma': 0.001, 'kerne...                1   \n",
       "4    {'C': 0.1, 'degree': 3, 'gamma': 0.001, 'kerne...                1   \n",
       "5    {'C': 0.1, 'degree': 3, 'gamma': 0.001, 'kerne...              103   \n",
       "6    {'C': 0.1, 'degree': 3, 'gamma': 0.0001, 'kern...                1   \n",
       "7    {'C': 0.1, 'degree': 3, 'gamma': 0.0001, 'kern...                1   \n",
       "8    {'C': 0.1, 'degree': 3, 'gamma': 0.0001, 'kern...               76   \n",
       "9    {'C': 0.1, 'degree': 5, 'gamma': 0.01, 'kernel...                1   \n",
       "10   {'C': 0.1, 'degree': 5, 'gamma': 0.01, 'kernel...               49   \n",
       "11   {'C': 0.1, 'degree': 5, 'gamma': 0.01, 'kernel...              106   \n",
       "12   {'C': 0.1, 'degree': 5, 'gamma': 0.001, 'kerne...                1   \n",
       "13   {'C': 0.1, 'degree': 5, 'gamma': 0.001, 'kerne...               49   \n",
       "14   {'C': 0.1, 'degree': 5, 'gamma': 0.001, 'kerne...              103   \n",
       "15   {'C': 0.1, 'degree': 5, 'gamma': 0.0001, 'kern...                1   \n",
       "16   {'C': 0.1, 'degree': 5, 'gamma': 0.0001, 'kern...               49   \n",
       "17   {'C': 0.1, 'degree': 5, 'gamma': 0.0001, 'kern...               76   \n",
       "18   {'C': 0.1, 'degree': 7, 'gamma': 0.01, 'kernel...                1   \n",
       "19   {'C': 0.1, 'degree': 7, 'gamma': 0.01, 'kernel...               61   \n",
       "20   {'C': 0.1, 'degree': 7, 'gamma': 0.01, 'kernel...              106   \n",
       "21   {'C': 0.1, 'degree': 7, 'gamma': 0.001, 'kerne...                1   \n",
       "22   {'C': 0.1, 'degree': 7, 'gamma': 0.001, 'kerne...               61   \n",
       "23   {'C': 0.1, 'degree': 7, 'gamma': 0.001, 'kerne...              103   \n",
       "24   {'C': 0.1, 'degree': 7, 'gamma': 0.0001, 'kern...                1   \n",
       "25   {'C': 0.1, 'degree': 7, 'gamma': 0.0001, 'kern...               61   \n",
       "26   {'C': 0.1, 'degree': 7, 'gamma': 0.0001, 'kern...               76   \n",
       "27   {'C': 1, 'degree': 3, 'gamma': 0.01, 'kernel':...                1   \n",
       "28   {'C': 1, 'degree': 3, 'gamma': 0.01, 'kernel':...                1   \n",
       "29   {'C': 1, 'degree': 3, 'gamma': 0.01, 'kernel':...              100   \n",
       "..                                                 ...              ...   \n",
       "78   {'C': 10, 'degree': 7, 'gamma': 0.0001, 'kerne...                1   \n",
       "79   {'C': 10, 'degree': 7, 'gamma': 0.0001, 'kerne...               61   \n",
       "80   {'C': 10, 'degree': 7, 'gamma': 0.0001, 'kerne...               76   \n",
       "81   {'C': 100, 'degree': 3, 'gamma': 0.01, 'kernel...                1   \n",
       "82   {'C': 100, 'degree': 3, 'gamma': 0.01, 'kernel...                1   \n",
       "83   {'C': 100, 'degree': 3, 'gamma': 0.01, 'kernel...               94   \n",
       "84   {'C': 100, 'degree': 3, 'gamma': 0.001, 'kerne...                1   \n",
       "85   {'C': 100, 'degree': 3, 'gamma': 0.001, 'kerne...                1   \n",
       "86   {'C': 100, 'degree': 3, 'gamma': 0.001, 'kerne...               91   \n",
       "87   {'C': 100, 'degree': 3, 'gamma': 0.0001, 'kern...                1   \n",
       "88   {'C': 100, 'degree': 3, 'gamma': 0.0001, 'kern...                1   \n",
       "89   {'C': 100, 'degree': 3, 'gamma': 0.0001, 'kern...               88   \n",
       "90   {'C': 100, 'degree': 5, 'gamma': 0.01, 'kernel...                1   \n",
       "91   {'C': 100, 'degree': 5, 'gamma': 0.01, 'kernel...               49   \n",
       "92   {'C': 100, 'degree': 5, 'gamma': 0.01, 'kernel...               94   \n",
       "93   {'C': 100, 'degree': 5, 'gamma': 0.001, 'kerne...                1   \n",
       "94   {'C': 100, 'degree': 5, 'gamma': 0.001, 'kerne...               49   \n",
       "95   {'C': 100, 'degree': 5, 'gamma': 0.001, 'kerne...               91   \n",
       "96   {'C': 100, 'degree': 5, 'gamma': 0.0001, 'kern...                1   \n",
       "97   {'C': 100, 'degree': 5, 'gamma': 0.0001, 'kern...               49   \n",
       "98   {'C': 100, 'degree': 5, 'gamma': 0.0001, 'kern...               88   \n",
       "99   {'C': 100, 'degree': 7, 'gamma': 0.01, 'kernel...                1   \n",
       "100  {'C': 100, 'degree': 7, 'gamma': 0.01, 'kernel...               61   \n",
       "101  {'C': 100, 'degree': 7, 'gamma': 0.01, 'kernel...               94   \n",
       "102  {'C': 100, 'degree': 7, 'gamma': 0.001, 'kerne...                1   \n",
       "103  {'C': 100, 'degree': 7, 'gamma': 0.001, 'kerne...               61   \n",
       "104  {'C': 100, 'degree': 7, 'gamma': 0.001, 'kerne...               91   \n",
       "105  {'C': 100, 'degree': 7, 'gamma': 0.0001, 'kern...                1   \n",
       "106  {'C': 100, 'degree': 7, 'gamma': 0.0001, 'kern...               61   \n",
       "107  {'C': 100, 'degree': 7, 'gamma': 0.0001, 'kern...               88   \n",
       "\n",
       "          ...         split2_test_score  split2_train_score  \\\n",
       "0         ...                  1.000000            0.986301   \n",
       "1         ...                  1.000000            1.000000   \n",
       "2         ...                  0.555556            0.575342   \n",
       "3         ...                  1.000000            0.986301   \n",
       "4         ...                  1.000000            1.000000   \n",
       "5         ...                  0.611111            0.589041   \n",
       "6         ...                  1.000000            0.986301   \n",
       "7         ...                  1.000000            0.986301   \n",
       "8         ...                  1.000000            0.945205   \n",
       "9         ...                  1.000000            0.986301   \n",
       "10        ...                  1.000000            1.000000   \n",
       "11        ...                  0.555556            0.575342   \n",
       "12        ...                  1.000000            0.986301   \n",
       "13        ...                  1.000000            1.000000   \n",
       "14        ...                  0.611111            0.589041   \n",
       "15        ...                  1.000000            0.986301   \n",
       "16        ...                  1.000000            1.000000   \n",
       "17        ...                  1.000000            0.945205   \n",
       "18        ...                  1.000000            0.986301   \n",
       "19        ...                  1.000000            1.000000   \n",
       "20        ...                  0.555556            0.575342   \n",
       "21        ...                  1.000000            0.986301   \n",
       "22        ...                  1.000000            1.000000   \n",
       "23        ...                  0.611111            0.589041   \n",
       "24        ...                  1.000000            0.986301   \n",
       "25        ...                  1.000000            1.000000   \n",
       "26        ...                  1.000000            0.945205   \n",
       "27        ...                  1.000000            0.986301   \n",
       "28        ...                  1.000000            1.000000   \n",
       "29        ...                  0.777778            0.986301   \n",
       "..        ...                       ...                 ...   \n",
       "78        ...                  1.000000            1.000000   \n",
       "79        ...                  1.000000            1.000000   \n",
       "80        ...                  1.000000            0.958904   \n",
       "81        ...                  1.000000            1.000000   \n",
       "82        ...                  1.000000            1.000000   \n",
       "83        ...                  0.777778            1.000000   \n",
       "84        ...                  1.000000            1.000000   \n",
       "85        ...                  1.000000            1.000000   \n",
       "86        ...                  1.000000            1.000000   \n",
       "87        ...                  1.000000            1.000000   \n",
       "88        ...                  1.000000            1.000000   \n",
       "89        ...                  1.000000            0.972603   \n",
       "90        ...                  1.000000            1.000000   \n",
       "91        ...                  1.000000            1.000000   \n",
       "92        ...                  0.777778            1.000000   \n",
       "93        ...                  1.000000            1.000000   \n",
       "94        ...                  1.000000            1.000000   \n",
       "95        ...                  1.000000            1.000000   \n",
       "96        ...                  1.000000            1.000000   \n",
       "97        ...                  1.000000            1.000000   \n",
       "98        ...                  1.000000            0.972603   \n",
       "99        ...                  1.000000            1.000000   \n",
       "100       ...                  1.000000            1.000000   \n",
       "101       ...                  0.777778            1.000000   \n",
       "102       ...                  1.000000            1.000000   \n",
       "103       ...                  1.000000            1.000000   \n",
       "104       ...                  1.000000            1.000000   \n",
       "105       ...                  1.000000            1.000000   \n",
       "106       ...                  1.000000            1.000000   \n",
       "107       ...                  1.000000            0.972603   \n",
       "\n",
       "     split3_test_score  split3_train_score  split4_test_score  \\\n",
       "0             1.000000            0.986301           1.000000   \n",
       "1             1.000000            1.000000           1.000000   \n",
       "2             0.555556            0.575342           0.588235   \n",
       "3             1.000000            0.986301           1.000000   \n",
       "4             1.000000            1.000000           1.000000   \n",
       "5             0.555556            0.575342           0.647059   \n",
       "6             1.000000            0.986301           1.000000   \n",
       "7             1.000000            0.986301           1.000000   \n",
       "8             1.000000            0.958904           0.882353   \n",
       "9             1.000000            0.986301           1.000000   \n",
       "10            1.000000            1.000000           1.000000   \n",
       "11            0.555556            0.575342           0.588235   \n",
       "12            1.000000            0.986301           1.000000   \n",
       "13            1.000000            1.000000           1.000000   \n",
       "14            0.555556            0.575342           0.647059   \n",
       "15            1.000000            0.986301           1.000000   \n",
       "16            1.000000            1.000000           1.000000   \n",
       "17            1.000000            0.958904           0.882353   \n",
       "18            1.000000            0.986301           1.000000   \n",
       "19            1.000000            1.000000           1.000000   \n",
       "20            0.555556            0.575342           0.588235   \n",
       "21            1.000000            0.986301           1.000000   \n",
       "22            1.000000            1.000000           1.000000   \n",
       "23            0.555556            0.575342           0.647059   \n",
       "24            1.000000            0.986301           1.000000   \n",
       "25            1.000000            1.000000           1.000000   \n",
       "26            1.000000            0.958904           0.882353   \n",
       "27            1.000000            0.986301           1.000000   \n",
       "28            1.000000            1.000000           1.000000   \n",
       "29            0.833333            0.986301           0.647059   \n",
       "..                 ...                 ...                ...   \n",
       "78            1.000000            1.000000           1.000000   \n",
       "79            1.000000            1.000000           1.000000   \n",
       "80            1.000000            0.958904           0.941176   \n",
       "81            1.000000            1.000000           1.000000   \n",
       "82            1.000000            1.000000           1.000000   \n",
       "83            0.944444            1.000000           0.588235   \n",
       "84            1.000000            1.000000           1.000000   \n",
       "85            1.000000            1.000000           1.000000   \n",
       "86            1.000000            1.000000           0.823529   \n",
       "87            1.000000            1.000000           1.000000   \n",
       "88            1.000000            1.000000           1.000000   \n",
       "89            1.000000            0.972603           0.882353   \n",
       "90            1.000000            1.000000           1.000000   \n",
       "91            1.000000            1.000000           1.000000   \n",
       "92            0.944444            1.000000           0.588235   \n",
       "93            1.000000            1.000000           1.000000   \n",
       "94            1.000000            1.000000           1.000000   \n",
       "95            1.000000            1.000000           0.823529   \n",
       "96            1.000000            1.000000           1.000000   \n",
       "97            1.000000            1.000000           1.000000   \n",
       "98            1.000000            0.972603           0.882353   \n",
       "99            1.000000            1.000000           1.000000   \n",
       "100           1.000000            1.000000           1.000000   \n",
       "101           0.944444            1.000000           0.588235   \n",
       "102           1.000000            1.000000           1.000000   \n",
       "103           1.000000            1.000000           1.000000   \n",
       "104           1.000000            1.000000           0.823529   \n",
       "105           1.000000            1.000000           1.000000   \n",
       "106           1.000000            1.000000           1.000000   \n",
       "107           1.000000            0.972603           0.882353   \n",
       "\n",
       "     split4_train_score  std_fit_time  std_score_time  std_test_score  \\\n",
       "0              0.986486      0.007483        0.000000        0.021392   \n",
       "1              1.000000      0.096871        0.000000        0.021392   \n",
       "2              0.567568      0.004000        0.004000        0.013268   \n",
       "3              0.986486      0.004899        0.004899        0.021392   \n",
       "4              1.000000      0.080349        0.000000        0.021392   \n",
       "5              0.648649      0.000000        0.004000        0.046533   \n",
       "6              0.986486      0.004000        0.000000        0.021392   \n",
       "7              0.972973      0.029394        0.004000        0.021392   \n",
       "8              0.959459      0.004000        0.000000        0.053529   \n",
       "9              0.986486      0.006325        0.000000        0.021392   \n",
       "10             1.000000      0.076053        0.000000        0.042784   \n",
       "11             0.567568      0.004000        0.000000        0.013268   \n",
       "12             0.986486      0.006325        0.000000        0.021392   \n",
       "13             1.000000      0.075895        0.000000        0.042784   \n",
       "14             0.648649      0.004000        0.000000        0.046533   \n",
       "15             0.986486      0.006325        0.000000        0.021392   \n",
       "16             1.000000      0.079348        0.004000        0.042784   \n",
       "17             0.959459      0.000000        0.000000        0.053529   \n",
       "18             0.986486      0.007483        0.000000        0.021392   \n",
       "19             1.000000      0.062482        0.000000        0.042486   \n",
       "20             0.567568      0.004000        0.000000        0.013268   \n",
       "21             0.986486      0.006325        0.000000        0.021392   \n",
       "22             1.000000      0.067350        0.000000        0.042486   \n",
       "23             0.648649      0.004899        0.000000        0.046533   \n",
       "24             0.986486      0.006325        0.000000        0.021392   \n",
       "25             1.000000      0.066453        0.000000        0.042486   \n",
       "26             0.959459      0.004000        0.004000        0.053529   \n",
       "27             0.986486      0.011662        0.000000        0.021392   \n",
       "28             1.000000      0.069972        0.004899        0.021392   \n",
       "29             1.000000      0.004000        0.000000        0.068756   \n",
       "..                  ...           ...             ...             ...   \n",
       "78             1.000000      0.066212        0.000000        0.021392   \n",
       "79             1.000000      0.066453        0.000000        0.042486   \n",
       "80             0.972973      0.004000        0.000000        0.078303   \n",
       "81             1.000000      0.066212        0.000000        0.021392   \n",
       "82             1.000000      0.071722        0.000000        0.021392   \n",
       "83             1.000000      0.004000        0.000000        0.111854   \n",
       "84             1.000000      0.069857        0.000000        0.021392   \n",
       "85             1.000000      0.075100        0.000000        0.021392   \n",
       "86             1.000000      0.000000        0.004000        0.087199   \n",
       "87             1.000000      0.069857        0.000000        0.021392   \n",
       "88             1.000000      0.087040        0.004000        0.021392   \n",
       "89             0.986486      0.004000        0.000000        0.080153   \n",
       "90             1.000000      0.066212        0.000000        0.021392   \n",
       "91             1.000000      0.076000        0.000000        0.042784   \n",
       "92             1.000000      0.004000        0.000000        0.111854   \n",
       "93             1.000000      0.069971        0.000000        0.021392   \n",
       "94             1.000000      0.082219        0.000000        0.042784   \n",
       "95             1.000000      0.000000        0.004000        0.087199   \n",
       "96             1.000000      0.069857        0.000000        0.021392   \n",
       "97             1.000000      0.079398        0.000000        0.042784   \n",
       "98             0.986486      0.000000        0.000000        0.080153   \n",
       "99             1.000000      0.069857        0.000000        0.021392   \n",
       "100            1.000000      0.061449        0.000000        0.042486   \n",
       "101            1.000000      0.004000        0.000000        0.111854   \n",
       "102            1.000000      0.071386        0.000000        0.021392   \n",
       "103            1.000000      0.062482        0.004000        0.042486   \n",
       "104            1.000000      0.000000        0.000000        0.087199   \n",
       "105            1.000000      0.067941        0.004000        0.021392   \n",
       "106            1.000000      0.070143        0.000000        0.042486   \n",
       "107            0.986486      0.004000        0.000000        0.080153   \n",
       "\n",
       "     std_train_score  \n",
       "0           0.005481  \n",
       "1           0.000000  \n",
       "2           0.003269  \n",
       "3           0.005481  \n",
       "4           0.000000  \n",
       "5           0.043963  \n",
       "6           0.005481  \n",
       "7           0.008548  \n",
       "8           0.010331  \n",
       "9           0.005481  \n",
       "10          0.000000  \n",
       "11          0.003269  \n",
       "12          0.005481  \n",
       "13          0.000000  \n",
       "14          0.043963  \n",
       "15          0.005481  \n",
       "16          0.000000  \n",
       "17          0.010331  \n",
       "18          0.005481  \n",
       "19          0.000000  \n",
       "20          0.003269  \n",
       "21          0.005481  \n",
       "22          0.000000  \n",
       "23          0.043963  \n",
       "24          0.005481  \n",
       "25          0.000000  \n",
       "26          0.010331  \n",
       "27          0.005481  \n",
       "28          0.000000  \n",
       "29          0.006742  \n",
       "..               ...  \n",
       "78          0.000000  \n",
       "79          0.000000  \n",
       "80          0.010192  \n",
       "81          0.000000  \n",
       "82          0.000000  \n",
       "83          0.000000  \n",
       "84          0.000000  \n",
       "85          0.000000  \n",
       "86          0.000000  \n",
       "87          0.000000  \n",
       "88          0.000000  \n",
       "89          0.006680  \n",
       "90          0.000000  \n",
       "91          0.000000  \n",
       "92          0.000000  \n",
       "93          0.000000  \n",
       "94          0.000000  \n",
       "95          0.000000  \n",
       "96          0.000000  \n",
       "97          0.000000  \n",
       "98          0.006680  \n",
       "99          0.000000  \n",
       "100         0.000000  \n",
       "101         0.000000  \n",
       "102         0.000000  \n",
       "103         0.000000  \n",
       "104         0.000000  \n",
       "105         0.000000  \n",
       "106         0.000000  \n",
       "107         0.006680  \n",
       "\n",
       "[108 rows x 24 columns]"
      ]
     },
     "execution_count": 88,
     "metadata": {},
     "output_type": "execute_result"
    }
   ],
   "source": [
    "pd.DataFrame(clf.cv_results_ )"
   ]
  },
  {
   "cell_type": "markdown",
   "metadata": {},
   "source": [
    "`best_params_`: Parameter setting that gave the best results on the hold out data."
   ]
  },
  {
   "cell_type": "code",
   "execution_count": 89,
   "metadata": {},
   "outputs": [
    {
     "data": {
      "text/plain": [
       "{'C': 0.1, 'degree': 3, 'gamma': 0.01, 'kernel': 'linear'}"
      ]
     },
     "execution_count": 89,
     "metadata": {},
     "output_type": "execute_result"
    }
   ],
   "source": [
    "clf.best_params_"
   ]
  },
  {
   "cell_type": "markdown",
   "metadata": {},
   "source": [
    "`best_estimator_`: Estimator that was chosen by the search, i.e. estimator which gave highest score (or smallest loss if specified) on the left out data. "
   ]
  },
  {
   "cell_type": "code",
   "execution_count": 79,
   "metadata": {},
   "outputs": [
    {
     "data": {
      "text/plain": [
       "SVC(C=0.1, cache_size=200, class_weight=None, coef0=0.0,\n",
       "  decision_function_shape='ovr', degree=3, gamma=0.01, kernel='linear',\n",
       "  max_iter=-1, probability=False, random_state=None, shrinking=True,\n",
       "  tol=0.001, verbose=False)"
      ]
     },
     "execution_count": 79,
     "metadata": {},
     "output_type": "execute_result"
    }
   ],
   "source": [
    "clf.best_estimator_"
   ]
  },
  {
   "cell_type": "markdown",
   "metadata": {},
   "source": [
    "`best_score_`: Mean cross-validated score of the best_estimator"
   ]
  },
  {
   "cell_type": "code",
   "execution_count": 90,
   "metadata": {},
   "outputs": [
    {
     "data": {
      "text/plain": [
       "0.989010989010989"
      ]
     },
     "execution_count": 90,
     "metadata": {},
     "output_type": "execute_result"
    }
   ],
   "source": [
    "clf.best_score_ "
   ]
  },
  {
   "cell_type": "markdown",
   "metadata": {},
   "source": [
    "### Model preditction"
   ]
  },
  {
   "cell_type": "code",
   "execution_count": 81,
   "metadata": {},
   "outputs": [
    {
     "data": {
      "text/plain": [
       "array([0, 0, 0, 0, 1, 0, 1, 1, 1, 0, 1, 0, 1, 1, 1, 1, 0, 1, 1, 1, 0, 0,\n",
       "       1, 0, 1, 0, 1, 1, 0, 0, 0, 0, 0, 0, 1, 1, 1, 0, 1])"
      ]
     },
     "execution_count": 81,
     "metadata": {},
     "output_type": "execute_result"
    }
   ],
   "source": [
    "y_pred = clf.predict(X_test)\n",
    "y_pred"
   ]
  },
  {
   "cell_type": "markdown",
   "metadata": {},
   "source": [
    "### Model evaluation"
   ]
  },
  {
   "cell_type": "markdown",
   "metadata": {},
   "source": [
    "**Accuracy**"
   ]
  },
  {
   "cell_type": "code",
   "execution_count": 82,
   "metadata": {},
   "outputs": [
    {
     "data": {
      "text/plain": [
       "0.9743589743589743"
      ]
     },
     "execution_count": 82,
     "metadata": {},
     "output_type": "execute_result"
    }
   ],
   "source": [
    "from sklearn.metrics import accuracy_score\n",
    "accuracy_score(y_pred, y_test)"
   ]
  },
  {
   "cell_type": "markdown",
   "metadata": {},
   "source": [
    "**Confusion matrix**"
   ]
  },
  {
   "cell_type": "code",
   "execution_count": 83,
   "metadata": {},
   "outputs": [
    {
     "data": {
      "text/plain": [
       "array([[19,  1],\n",
       "       [ 0, 19]], dtype=int64)"
      ]
     },
     "execution_count": 83,
     "metadata": {},
     "output_type": "execute_result"
    }
   ],
   "source": [
    "from sklearn.metrics import confusion_matrix\n",
    "cnf_matrix = confusion_matrix(y_test, y_pred)\n",
    "cnf_matrix"
   ]
  },
  {
   "cell_type": "code",
   "execution_count": 84,
   "metadata": {},
   "outputs": [
    {
     "name": "stdout",
     "output_type": "stream",
     "text": [
      "Confusion matrix, without normalization\n"
     ]
    },
    {
     "data": {
      "image/png": "[encoded data removed]",
      "text/plain": [
       "<matplotlib.figure.Figure at 0xb2be908>"
      ]
     },
     "metadata": {},
     "output_type": "display_data"
    }
   ],
   "source": [
    "# Plot non-normalized confusion matrix\n",
    "hf.plot_confusion_matrix(cnf_matrix, classes=[\"class 0\", \"class 1\"],\n",
    "                      title='Confusion matrix, without normalization')"
   ]
  },
  {
   "cell_type": "markdown",
   "metadata": {},
   "source": [
    "**Seclected classification metrics**\n",
    "\n",
    "\\begin{equation} \n",
    "\\text{precision} = \\frac{TP}{TP+FP}\n",
    "\\end{equation}\n",
    "\n",
    "\\begin{equation} \n",
    "\\text{recall} = \\frac{TP}{TP+FN}\n",
    "\\end{equation}\n",
    "\n",
    "\\begin{equation} \n",
    "\\text{F1-score} = 2 \\times \\frac{\\text{precision} \\times \\text{recall}}{\\text{precision}+\\text{recall}}\n",
    "\\end{equation}"
   ]
  },
  {
   "cell_type": "code",
   "execution_count": 85,
   "metadata": {},
   "outputs": [
    {
     "name": "stdout",
     "output_type": "stream",
     "text": [
      "             precision    recall  f1-score   support\n",
      "\n",
      "          0       1.00      0.95      0.97        20\n",
      "          1       0.95      1.00      0.97        19\n",
      "\n",
      "avg / total       0.98      0.97      0.97        39\n",
      "\n"
     ]
    }
   ],
   "source": [
    "from sklearn.metrics import classification_report\n",
    "print(classification_report(y_test, y_pred))"
   ]
  },
  {
   "cell_type": "code",
   "execution_count": null,
   "metadata": {},
   "outputs": [],
   "source": []
  }
 ],
 "metadata": {
  "kernelspec": {
   "display_name": "Python 3",
   "language": "python",
   "name": "python3"
  },
  "language_info": {
   "codemirror_mode": {
    "name": "ipython",
    "version": 3
   },
   "file_extension": ".py",
   "mimetype": "text/x-python",
   "name": "python",
   "nbconvert_exporter": "python",
   "pygments_lexer": "ipython3",
   "version": "3.6.4"
  },
  "livereveal": {
   "scroll": true,
   "start_slideshow_at": "selected"
  }
 },
 "nbformat": 4,
 "nbformat_minor": 2
}
