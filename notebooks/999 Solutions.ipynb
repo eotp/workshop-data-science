{
 "cells": [
  {
   "cell_type": "markdown",
   "metadata": {},
   "source": [
    "# Soultion files"
   ]
  },
  {
   "cell_type": "markdown",
   "metadata": {},
   "source": [
    "Here you find the soultions to the challanges. "
   ]
  },
  {
   "cell_type": "code",
   "execution_count": null,
   "metadata": {},
   "outputs": [],
   "source": [
    "%matplotlib inline"
   ]
  },
  {
   "cell_type": "markdown",
   "metadata": {},
   "source": [
    "**Import statements**"
   ]
  },
  {
   "cell_type": "code",
   "execution_count": null,
   "metadata": {},
   "outputs": [],
   "source": [
    "import numpy as np\n",
    "import pandas as pd\n",
    "\n",
    "import matplotlib.pyplot as plt\n",
    "import seaborn as sns"
   ]
  },
  {
   "cell_type": "markdown",
   "metadata": {},
   "source": [
    "**Global settings**"
   ]
  },
  {
   "cell_type": "code",
   "execution_count": null,
   "metadata": {},
   "outputs": [],
   "source": [
    "pd.options.display.max_rows = 999\n",
    "pd.options.display.max_columns = 100\n",
    "plt.rcParams[\"figure.figsize\"] = [15,6]"
   ]
  },
  {
   "cell_type": "markdown",
   "metadata": {},
   "source": [
    "## The Python ecosystem - Plotting with Python"
   ]
  },
  {
   "cell_type": "code",
   "execution_count": null,
   "metadata": {},
   "outputs": [],
   "source": [
    "# %load ../src/_solutions/mpl_plot_customization.py\n",
    "## solution matplotlib challenge \n",
    "fig, ax = plt.subplots(figsize=(10,6))\n",
    "ax.plot(X, C, color=\"green\", label=\"cosine\")\n",
    "ax.plot(X, S, linestyle=\"--\", linewidth=3.5, label=\"sine\")\n",
    "ax.set_title(\"My awesome matplotlib figure\", size=16)\n",
    "ax.legend(fontsize=12)\n",
    "ax.set_xlim([-4,4])\n",
    "ax.set_xticks([-np.pi, 0, np.pi])\n",
    "ax.set_yticks([-1, 0, 1])\n",
    "ax.set_xticklabels(['$-\\pi$', '$0$', '$+\\pi$'], size=12)\n",
    "ax.grid()\n",
    "\n",
    "filepath = \"../figures/my_awesome_mpl_figure.png\"\n",
    "fig.savefig(filepath, dpi=300)"
   ]
  },
  {
   "cell_type": "markdown",
   "metadata": {},
   "source": [
    "## Exploratory Data Analysis in Action - Data preparation"
   ]
  },
  {
   "cell_type": "code",
   "execution_count": null,
   "metadata": {},
   "outputs": [],
   "source": [
    "# %load ../src/_solutions/features_above_threshold.py\n",
    "## solution challenge \n",
    "def features_above_threshold(df, threshold=0.5):    \n",
    "    cols2keep = df.notnull().sum()/df.shape[0] > threshold \n",
    "    rv = df.columns[cols2keep.values]\n",
    "    return rv"
   ]
  },
  {
   "cell_type": "code",
   "execution_count": null,
   "metadata": {},
   "outputs": [],
   "source": [
    "# %load ../src/_solutions/infere_mission_data.py\n",
    "## solution challenge \n",
    "df_clean[\"Mission Date\"] = pd.to_datetime(df_clean[\"Mission Date\"], infer_datetime_format=True)"
   ]
  },
  {
   "cell_type": "code",
   "execution_count": null,
   "metadata": {},
   "outputs": [],
   "source": [
    "# %load ../src/_solutions/altitude_in_meters.py\n",
    "## solution challenge \n",
    "df_clean[\"Altitude (meters)\"] = df_clean[\"Altitude (Hundreds of Feet)\"].apply(lambda x: x*100*0.3048)"
   ]
  },
  {
   "cell_type": "code",
   "execution_count": null,
   "metadata": {},
   "outputs": [],
   "source": [
    "# %load ../src/_solutions/limit_altitude.py\n",
    "## solution challenge \n",
    "# replace values with np.nan\n",
    "df_clean.loc[df_clean[\"Altitude (meters)\"] > max_height, \"Altitude (meters)\"] = np.nan"
   ]
  },
  {
   "cell_type": "code",
   "execution_count": null,
   "metadata": {},
   "outputs": [],
   "source": [
    "# %load ../src/_solutions/limit_coordinates.py\n",
    "## solution challenge \n",
    "print(df_clean.loc[((df_clean['Target Longitude'] > 180) |\n",
    "                    (df_clean['Target Longitude'] < -180) | \n",
    "                    (df_clean['Target Latitude'] > 90 )| \n",
    "                    (df_clean['Target Latitude'] < -90)), \n",
    "                   ['Target Longitude', 'Target Latitude']].count())\n",
    "\n",
    "df_clean.loc[((df_clean['Target Longitude'] > 180) |\n",
    "                    (df_clean['Target Longitude'] < -180) | \n",
    "                    (df_clean['Target Latitude'] > 90 )| \n",
    "                    (df_clean['Target Latitude'] < -90)), \n",
    "                   ['Target Longitude', 'Target Latitude']] = np.nan"
   ]
  },
  {
   "cell_type": "markdown",
   "metadata": {},
   "source": [
    "## Exploratory Data Analysis in Action - EDA: Airplanes"
   ]
  },
  {
   "cell_type": "markdown",
   "metadata": {},
   "source": [
    "> **Q1: Which type of airplane is mostly engaged?**"
   ]
  },
  {
   "cell_type": "code",
   "execution_count": null,
   "metadata": {},
   "outputs": [],
   "source": [
    "# %load ../src/_solutions/eda_airplanes_q1.py\n",
    "# EDA: Airplanes - Q1\n",
    "\n",
    "print(\"Unique airplanes:\\n\",df_airpl[\"Aircraft Series\"].unique())\n",
    "print(\"---------------------------------------\")\n",
    "print(\"Most enganged airplanes:\\n\",df_airpl[\"Aircraft Series\"].value_counts())\n",
    "print(\"---------------------------------------\")\n",
    "df_airpl[\"Aircraft Series\"].value_counts().plot.bar(rot=0);"
   ]
  },
  {
   "cell_type": "markdown",
   "metadata": {},
   "source": [
    "> **Q2: At what height do airplanes operate? At what height to the 10 most common airplane types operate?**"
   ]
  },
  {
   "cell_type": "code",
   "execution_count": null,
   "metadata": {},
   "outputs": [],
   "source": [
    "# %load ../src/_solutions/eda_airplanes_q2.py\n",
    "# EDA: Airplanes - Q2\n",
    "\n",
    "fig, ax = plt.subplots(3,1, figsize=(16,18))\n",
    "# get operating height\n",
    "print(\"Operating height for each aircraft:\\n\",df_airpl.groupby(\"Aircraft Series\")[\"Altitude (meters)\"].agg([\"mean\", \"min\", \"max\"]).dropna())\n",
    "df_airpl.groupby(\"Aircraft Series\")[\"Altitude (meters)\"].mean().dropna().sort_values(ascending=False).plot.bar(rot=0, ax=ax[0])\n",
    "plt.ylabel(\"Mean altitude (meters)\");\n",
    "print(\"---------------------------------------\")\n",
    "# compute 10 most common airplane types\n",
    "list_ten_most_common = df_airpl[\"Aircraft Series\"].value_counts()[:10].index\n",
    "print(\"10 most common airplane types:\\n\", list_ten_most_common)\n",
    "\n",
    "ten_most_common = df_airpl.loc[df_airpl[\"Aircraft Series\"].isin(list_ten_most_common)]\n",
    "print(ten_most_common.shape)\n",
    "print(\"---------------------------------------\")\n",
    "sns.boxplot(x=\"Aircraft Series\", y=\"Altitude (meters)\", data=ten_most_common, ax=ax[1])\n",
    "sns.violinplot(x=\"Aircraft Series\", y=\"Altitude (meters)\", hue=\"Country\", split=True, data=ten_most_common, ax=ax[2]);"
   ]
  },
  {
   "cell_type": "markdown",
   "metadata": {},
   "source": [
    "> **Q3: Which type of airplane carried the heaviest bombs? Which were the 10 most dangerous airplane types with respect to carried explosives?**"
   ]
  },
  {
   "cell_type": "code",
   "execution_count": null,
   "metadata": {},
   "outputs": [],
   "source": [
    "# %load ../src/_solutions/eda_airplanes_q3.py\n",
    "# EDA: Airplanes - Q3\n",
    "\n",
    "fig, ax = plt.subplots(2,1, figsize=(16,12))\n",
    "\n",
    "df_airpl.columns\n",
    "(df_airpl.groupby('Aircraft Series')['High Explosives Weight (Tons)'].\n",
    " max().\n",
    " dropna().\n",
    " sort_values(ascending=False).\n",
    " plot.bar(ax=ax[0]))\n",
    "ax[0].set_title(\"Aircrafs carring the heaviest explosives weights\")\n",
    "\n",
    "# compute most devastating aircrafts\n",
    "list_ten_dangerous = (df_airpl.groupby('Aircraft Series')['High Explosives Weight (Tons)'].\n",
    "                      max().sort_values(ascending=False).\n",
    "                      dropna()[:10].index)\n",
    "ten_dangerous = df_airpl.loc[df_airpl[\"Aircraft Series\"].isin(list_ten_dangerous)]\n",
    "\n",
    "sns.boxplot(x=\"Aircraft Series\", y=\"High Explosives Weight (Tons)\", data=ten_dangerous, ax=ax[1]);\n",
    "plt.tight_layout()"
   ]
  },
  {
   "cell_type": "markdown",
   "metadata": {},
   "source": [
    "> **Q4: Which Allied Force uses which airplane when and where?**   "
   ]
  },
  {
   "cell_type": "code",
   "execution_count": null,
   "metadata": {},
   "outputs": [],
   "source": [
    "# %load ../src/_solutions/eda_airplanes_q4.py\n",
    "# EDA: Airplanes - Q3\n",
    "\n",
    "def plot_airplane_type_over_europe(gdf, airplane=\"B17\", \n",
    "                                   years=[1940, 1941 ,1942, 1943, 1944, 1945], \n",
    "                                   kdp=False, aoi=europe):\n",
    "    fig = plt.figure(figsize=(16,12))\n",
    "    for e, y in enumerate(years):\n",
    "        _gdf = gdf.loc[(gdf[\"year\"]==y) & (gdf[\"Aircraft Series\"]==airplane)].copy()\n",
    "        _gdf.Country.replace(np.nan, \"unknown\", inplace=True)\n",
    "        ax = fig.add_subplot(3,2,e+1)\n",
    "        ax.set_aspect('equal')\n",
    "        aoi.plot(ax=ax, facecolor='lightgray', edgecolor=\"white\")\n",
    "        if _gdf.shape[0] > 2:\n",
    "            if kdp:\n",
    "                sns.kdeplot(_gdf['Target Longitude'], _gdf['Target Latitude'], \n",
    "                            cmap=\"viridis\", shade=True, shade_lowest=False, bw=0.25, ax=ax)   \n",
    "            else:\n",
    "                _gdf.plot(ax=ax, marker='o', cmap='Set1', categorical=True,\n",
    "                          column='Country', legend=True, markersize=5, alpha=1)\n",
    "        ax.set_title(\"Year: \" + str(y), size=16)\n",
    "    plt.tight_layout()\n",
    "    plt.suptitle(\"Attacks of airplane {} for different years\".format(airplane), size=22)\n",
    "    plt.subplots_adjust(top=0.92)\n",
    "    return fig, ax\n",
    "    \n",
    "    \n",
    "# run\n",
    "plot_airplane_type_over_europe(df_airpl, airplane=\"B17\", kdp=False);"
   ]
  },
  {
   "cell_type": "markdown",
   "metadata": {},
   "source": [
    "## Exploratory Data Analysis in Action - EDA: Targets"
   ]
  },
  {
   "cell_type": "markdown",
   "metadata": {},
   "source": [
    "> **Q1: Which cities were the 15 most frequent targets?**"
   ]
  },
  {
   "cell_type": "code",
   "execution_count": null,
   "metadata": {},
   "outputs": [],
   "source": [
    "# %load ../src/_solutions/eda_targets_q1.py\n",
    "# EDA: Target - Q1\n",
    "\n",
    "print(\"Number of unique cities in the data set:\\n\", df_tar['Target City'].nunique())\n",
    "print(\"---------------------------------------\")\n",
    "most_frequent_cities = df_tar['Target City'].value_counts().sort_values(ascending=False)[:15]\n",
    "print(\"Most frequent cities:\\n\", most_frequent_cities)\n",
    "print(\"---------------------------------------\")"
   ]
  },
  {
   "cell_type": "markdown",
   "metadata": {},
   "source": [
    "> **Q2: How much high explosives (in tons) went down on the 25 most frequent targets?**"
   ]
  },
  {
   "cell_type": "code",
   "execution_count": null,
   "metadata": {},
   "outputs": [],
   "source": [
    "# %load ../src/_solutions/eda_targets_q2.py\n",
    "# EDA: Target - Q2\n",
    "\n",
    "list_most_frequent_cities = most_frequent_cities.index\n",
    "df_cities = df_tar.loc[df_tar[\"Target City\"].isin(list_most_frequent_cities)]\n",
    "print(\"Summed high explosives (in tons) per city:\\n\", \n",
    "      df_cities.groupby(\"Target City\")[\"High Explosives Weight (Tons)\"].sum().sort_values(ascending=False))\n",
    "# plot\n",
    "df_cities.groupby(\"Target City\")[\"High Explosives Weight (Tons)\"].sum().sort_values(ascending=False).plot.bar()\n",
    "plt.ylabel(\"High Explosives in tons\", size=12);"
   ]
  },
  {
   "cell_type": "markdown",
   "metadata": {},
   "source": [
    "> **Q3: How did the aerial attacks change over time for the 15 most frequent targeted cities?**"
   ]
  },
  {
   "cell_type": "code",
   "execution_count": null,
   "metadata": {},
   "outputs": [],
   "source": [
    "# %load ../src/_solutions/eda_targets_q3.py\n",
    "# EDA: Target - Q3\n",
    "\n",
    "df_daily_index=pd.date_range(start=df_cities[\"Mission Date\"].min(), end=df_cities[\"Mission Date\"].max(), freq=\"d\")\n",
    "df_cities.set_index(\"Mission Date\", inplace=True)\n",
    "\n",
    "fig, ax = plt.subplots(15,1,sharey=True, figsize=(10,32)) \n",
    "for e, city in enumerate(list_most_frequent_cities):\n",
    "    s = df_cities.loc[df_cities[\"Target City\"]==city, \"High Explosives Weight (Tons)\"].resample(\"d\").sum()\n",
    "    s = s.reindex(df_daily_index)\n",
    "    s.cumsum().plot(ax=ax[e])\n",
    "    ax[e].set_title(city.capitalize())\n",
    "plt.tight_layout()\n",
    "plt.suptitle(\"Accumulated high explosives weight (in Tons) due to arial attacks\\nfor the 15 most frequent targeted cities in Germany\", size=18)\n",
    "plt.subplots_adjust(top=0.95)"
   ]
  }
 ],
 "metadata": {
  "kernelspec": {
   "display_name": "Python 3",
   "language": "python",
   "name": "python3"
  },
  "language_info": {
   "codemirror_mode": {
    "name": "ipython",
    "version": 3
   },
   "file_extension": ".py",
   "mimetype": "text/x-python",
   "name": "python",
   "nbconvert_exporter": "python",
   "pygments_lexer": "ipython3",
   "version": "3.6.4"
  }
 },
 "nbformat": 4,
 "nbformat_minor": 2
}
