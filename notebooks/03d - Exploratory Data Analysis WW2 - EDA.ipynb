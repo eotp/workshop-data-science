{
 "cells": [
  {
   "cell_type": "markdown",
   "metadata": {},
   "source": [
    "# Exploratory Data Analysis in Action - EDA\n",
    "\n"
   ]
  },
  {
   "cell_type": "markdown",
   "metadata": {},
   "source": [
    "In this section we explore the [_Arial Bombing Data Set_](https://www.kaggle.com/usaf/world-war-ii) and apply techniques referred to as __Exploratory Data Analysis__:\n",
    "\n",
    "\n",
    "__Statistics__\n",
    "\n",
    "* Mean, median\n",
    "* variance, standard deviation\n",
    "* Quantiles and Five number summary\n",
    "* $\\cdots$\n",
    "\n",
    "\n",
    "__Plotting__   \n",
    "\n",
    "* Histograms \n",
    "* Box plots\n",
    "* Violin plots\n",
    "* Scatter plots\n",
    "* Kernel density plots\n",
    "* $\\cdots$\n",
    "\n"
   ]
  },
  {
   "cell_type": "markdown",
   "metadata": {},
   "source": [
    "<img src=\"./_img/phd053104s_data_by_numbers.gif\", style=\"height: 350px;\"> \n",
    "\n",
    "Source: [PHD Comics](http://phdcomics.com/comics/archive.php?comicid=462)"
   ]
  },
  {
   "cell_type": "markdown",
   "metadata": {},
   "source": [
    "## Define research questions "
   ]
  },
  {
   "cell_type": "markdown",
   "metadata": {},
   "source": [
    "We perform a EDA guided by research questions which are of particular interest for us.\n",
    "\n",
    "Here are some suggestions (_feel free to add some more questions to the list_):\n",
    "\n",
    "__@Number of attacks__\n",
    "- Q1: How many attacks were launched between 1939 and 1945 over Europe? \n",
    "- Q2: Which Allied Force was responsible for the most of the attacks? Did this change over time? \n",
    "- Q3: Which Allied Force launched the most attacks against Germany?\n",
    "- Q4: Is there a seasonal pattern in the attacks  against Germany (e.g. winter vs. summer)?\n",
    "- Q5: Which area experienced the highest number of attacks? Did the area change over time?\n",
    "\n",
    "\n",
    "\n",
    "__@Airplanes__\n",
    "- Which type of airplane is mostly engaged?\n",
    "- At what height do airplanes operate?\n",
    "- Which Allied Force uses which airplane when and where?\n",
    "- Which type of airplane carried the heaviest bombs?\n",
    "\n",
    "__@Targets__\n",
    "- Which cities were the 15 most frequent targets?\n",
    "- How much high explosives (in tons) went down on the 25 most frequent targets?\n",
    "- How did the aerial attacks change over time for the 15 most frequent targeted cities?"
   ]
  },
  {
   "cell_type": "markdown",
   "metadata": {},
   "source": [
    "## @Number of attacks\n",
    "\n",
    "### [Exploratory Data Analysis in Action - EDA: Number of attacks](03e - Exploratory Data Analysis WW2 - EDA-Number of attacks.ipynb)"
   ]
  },
  {
   "cell_type": "markdown",
   "metadata": {},
   "source": [
    "## @Airplanes\n",
    "\n",
    "### [Exploratory Data Analysis in Action - EDA: Airplanes](03f - Exploratory Data Analysis WW2 - EDA-Airplanes.ipynb)"
   ]
  },
  {
   "cell_type": "markdown",
   "metadata": {},
   "source": [
    "## @Targets\n",
    "### [Exploratory Data Analysis in Action - EDA: Targets](03g - Exploratory Data Analysis WW2 - EDA-Targets.ipynb)"
   ]
  },
  {
   "cell_type": "code",
   "execution_count": null,
   "metadata": {},
   "outputs": [],
   "source": []
  }
 ],
 "metadata": {
  "hide_input": false,
  "kernelspec": {
   "display_name": "Python 3",
   "language": "python",
   "name": "python3"
  },
  "language_info": {
   "codemirror_mode": {
    "name": "ipython",
    "version": 3
   },
   "file_extension": ".py",
   "mimetype": "text/x-python",
   "name": "python",
   "nbconvert_exporter": "python",
   "pygments_lexer": "ipython3",
   "version": "3.6.4"
  }
 },
 "nbformat": 4,
 "nbformat_minor": 2
}
