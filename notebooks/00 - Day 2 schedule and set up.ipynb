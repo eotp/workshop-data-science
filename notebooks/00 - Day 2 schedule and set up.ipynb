{
 "cells": [
  {
   "cell_type": "markdown",
   "metadata": {
    "slideshow": {
     "slide_type": "slide"
    }
   },
   "source": [
    "# Workshop on Data Science and Predictive Modeling\n",
    "\n",
    "## @CODE University Berlin\n",
    "\n",
    "March 12 and 19th, 2018, 13:30 to 16:30   \n",
    "\n",
    "\n",
    "\n",
    "**Instructor**   \n",
    "Joachim Krois (Charité $-$ Universitätsmedizin Berlin)   \n",
    "email: joachim.krois@charite.de \n"
   ]
  },
  {
   "cell_type": "markdown",
   "metadata": {
    "slideshow": {
     "slide_type": "slide"
    }
   },
   "source": [
    "# Schedule\n",
    "\n",
    "\n",
    "<ol start=\"0\">\n",
    "  <li>Update local workshop repository</li>\n",
    "  <li>Fire up the conda environment `data-science` and start a notebook server</li>\n",
    "  <li>Finish the section on Exploratory Data Analysis</li>\n",
    "  <li>Predictive Modeling</li>\n",
    "</ol>"
   ]
  },
  {
   "cell_type": "markdown",
   "metadata": {
    "slideshow": {
     "slide_type": "subslide"
    }
   },
   "source": [
    "## Update local workshop repository\n",
    "\n",
    "There are some new files and notebooks available on the github repository.\n",
    "\n",
    "**repo: https://github.com/eotp/workshop-data-science**\n",
    "\n",
    "***\n",
    "\n",
    "**Instructions:**\n",
    "\n",
    "Switch to the folder with the `.git` file.\n",
    "\n",
    "    cd mystuff\n",
    "  \n",
    "Run the `git` command.\n",
    "\n",
    "    git pull origin master \n",
    " \n",
    "Alternatively, visit the github repository [online](https://github.com/eotp/workshop-data-science), click on `download`, save the archive and extract the files into a folder of your choice."
   ]
  },
  {
   "cell_type": "markdown",
   "metadata": {
    "slideshow": {
     "slide_type": "fragment"
    }
   },
   "source": [
    "If you get a conflict message you may run the git commands:\n",
    "\n",
    "    git fetch origin\n",
    "    git reset --hard origin/master\n",
    "    \n",
    "Please note that local changes will be lost."
   ]
  },
  {
   "cell_type": "markdown",
   "metadata": {
    "slideshow": {
     "slide_type": "subslide"
    }
   },
   "source": [
    "\n",
    "## Fire up the environment and start the notebook server\n",
    "\n",
    "First, we **activate our conda environment** by executing one of the following commands:\n",
    "\n",
    "@LINUX & MAC OS\n",
    "\n",
    "    source activate data-science\n",
    "    \n",
    "@WINDOS    \n",
    "\n",
    "    activate data-science\n",
    "   \n",
    "***\n",
    "\n",
    "Second, we **fire up a notebook server** by executing the following command (make sure to launch the notebook sever from within your working directory):\n",
    "\n",
    "    jupyter notebook\n",
    "    \n",
    "If everything worked out fine, a new browser window opens automatically and shows the file system of your current working directory.\n"
   ]
  },
  {
   "cell_type": "markdown",
   "metadata": {
    "slideshow": {
     "slide_type": "subslide"
    }
   },
   "source": [
    "## Summary\n",
    "\n",
    "* Update local workshop repository \n",
    "* Fire up the environment and start the notebook server"
   ]
  }
 ],
 "metadata": {
  "celltoolbar": "Slideshow",
  "kernelspec": {
   "display_name": "Python 3",
   "language": "python",
   "name": "python3"
  },
  "language_info": {
   "codemirror_mode": {
    "name": "ipython",
    "version": 3
   },
   "file_extension": ".py",
   "mimetype": "text/x-python",
   "name": "python",
   "nbconvert_exporter": "python",
   "pygments_lexer": "ipython3",
   "version": "3.6.4"
  },
  "livereveal": {
   "scroll": true,
   "start_slideshow_at": "selected"
  }
 },
 "nbformat": 4,
 "nbformat_minor": 2
}
