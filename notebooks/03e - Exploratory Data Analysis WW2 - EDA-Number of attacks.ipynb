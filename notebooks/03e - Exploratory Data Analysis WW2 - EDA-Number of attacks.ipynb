{
 "cells": [
  {
   "cell_type": "markdown",
   "metadata": {},
   "source": [
    "# Exploratory Data Analysis in Action - EDA: Number of attacks\n",
    "\n"
   ]
  },
  {
   "cell_type": "markdown",
   "metadata": {},
   "source": [
    "In this section we explore the [_Arial Bombing Data Set_](https://www.kaggle.com/usaf/world-war-ii) and apply techniques referred to as __Exploratory Data Analysis__."
   ]
  },
  {
   "cell_type": "markdown",
   "metadata": {},
   "source": [
    "**Import statements**\n",
    "\n"
   ]
  },
  {
   "cell_type": "code",
   "execution_count": null,
   "metadata": {},
   "outputs": [],
   "source": [
    "import numpy as np\n",
    "import pandas as pd\n",
    "import matplotlib.pyplot as plt\n",
    "%matplotlib inline"
   ]
  },
  {
   "cell_type": "markdown",
   "metadata": {},
   "source": [
    "**Global settings**"
   ]
  },
  {
   "cell_type": "code",
   "execution_count": null,
   "metadata": {},
   "outputs": [],
   "source": [
    "pd.options.display.max_rows = 999\n",
    "pd.options.display.max_columns = 100\n",
    "plt.rcParams[\"figure.figsize\"] = [15,6]"
   ]
  },
  {
   "cell_type": "markdown",
   "metadata": {},
   "source": [
    "**Load data set**"
   ]
  },
  {
   "cell_type": "code",
   "execution_count": null,
   "metadata": {},
   "outputs": [],
   "source": [
    "import pickle\n",
    "gdf_europe = pickle.load( open( \"../datasets/gdf_europe.p\", \"rb\" ) )\n",
    "europe = pickle.load( open( \"../datasets/europe.p\", \"rb\" ) )"
   ]
  },
  {
   "cell_type": "markdown",
   "metadata": {},
   "source": [
    "## Research questions "
   ]
  },
  {
   "cell_type": "markdown",
   "metadata": {},
   "source": [
    "__@Number of attacks__\n",
    "- Q1: How many attacks were launched between 1939 and 1945 over Europe? \n",
    "- Q2: Which Allied Force was responsible for the most of the attacks? Did this change over time? \n",
    "- Q3: Which Allied Force launched the most attacks against Germany?\n",
    "- Q4: Is there a seasonal pattern in the attacks  against Germany (e.g. winter vs. summer)?\n",
    "- Q5: Which area experienced the highest number of attacks? Did the area change over time?"
   ]
  },
  {
   "cell_type": "code",
   "execution_count": null,
   "metadata": {},
   "outputs": [],
   "source": [
    "df_noa = gdf_europe.copy()"
   ]
  },
  {
   "cell_type": "markdown",
   "metadata": {},
   "source": [
    "> **Q1: How many attacks were launched between 1939 and 1945 over Europe?**"
   ]
  },
  {
   "cell_type": "code",
   "execution_count": null,
   "metadata": {},
   "outputs": [],
   "source": [
    "df_noa.shape[0]"
   ]
  },
  {
   "cell_type": "code",
   "execution_count": null,
   "metadata": {},
   "outputs": [],
   "source": [
    "df_noa[\"Mission ID\"].nunique()"
   ]
  },
  {
   "cell_type": "code",
   "execution_count": null,
   "metadata": {},
   "outputs": [],
   "source": [
    "df_noa.groupby(\"year\")[\"Mission ID\"].count()"
   ]
  },
  {
   "cell_type": "code",
   "execution_count": null,
   "metadata": {},
   "outputs": [],
   "source": [
    "df_noa.groupby(\"year\")[\"Mission ID\"].count().plot.bar(rot=0, title=\"Allied Attacks\", color=\"k\");"
   ]
  },
  {
   "cell_type": "code",
   "execution_count": null,
   "metadata": {},
   "outputs": [],
   "source": [
    "fig, ax = plt.subplots(nrows=2, ncols=1)\n",
    "df_noa.groupby(\"Mission Date\").count()[\"Mission ID\"].plot(ax=ax[0])\n",
    "ax[0].set_title(\"Allied Attacks\", size=14)\n",
    "df_noa.groupby(\"Mission Date\").count()[\"Mission ID\"].cumsum().plot(ax=ax[1])\n",
    "ax[1].set_title(\"Cumulated Allied Attacks\", size=14)\n",
    "plt.tight_layout()"
   ]
  },
  {
   "cell_type": "markdown",
   "metadata": {},
   "source": [
    "> **Q2: Which Allied Force was responsible for the most of the attacks? Did this change over time?**"
   ]
  },
  {
   "cell_type": "code",
   "execution_count": null,
   "metadata": {},
   "outputs": [],
   "source": [
    "df_noa.columns"
   ]
  },
  {
   "cell_type": "code",
   "execution_count": null,
   "metadata": {},
   "outputs": [],
   "source": [
    "df_noa[\"Country\"].unique()"
   ]
  },
  {
   "cell_type": "code",
   "execution_count": null,
   "metadata": {},
   "outputs": [],
   "source": [
    "df_noa[\"Country\"].value_counts()"
   ]
  },
  {
   "cell_type": "code",
   "execution_count": null,
   "metadata": {},
   "outputs": [],
   "source": [
    "df_noa[\"Country\"].value_counts(dropna=False)"
   ]
  },
  {
   "cell_type": "code",
   "execution_count": null,
   "metadata": {},
   "outputs": [],
   "source": [
    "df_noa[\"Country\"].value_counts(dropna=False).plot.pie()\n",
    "plt.axis(\"equal\");"
   ]
  },
  {
   "cell_type": "code",
   "execution_count": null,
   "metadata": {},
   "outputs": [],
   "source": [
    "df_noa.groupby(\"year\")[\"Country\"].value_counts(dropna=False)"
   ]
  },
  {
   "cell_type": "code",
   "execution_count": null,
   "metadata": {},
   "outputs": [],
   "source": [
    "df_noa.groupby(\"year\")[\"Country\"].value_counts(dropna=False).unstack().plot.bar()\n",
    "plt.title(\"Allied Attacks\", size=16);"
   ]
  },
  {
   "cell_type": "markdown",
   "metadata": {},
   "source": [
    "> **Q3: Which Allied Force launched the most attacks against Germany?**"
   ]
  },
  {
   "cell_type": "code",
   "execution_count": null,
   "metadata": {},
   "outputs": [],
   "source": [
    "df_noa.columns"
   ]
  },
  {
   "cell_type": "code",
   "execution_count": null,
   "metadata": {},
   "outputs": [],
   "source": [
    "df_noa[\"Target Country\"].unique()"
   ]
  },
  {
   "cell_type": "code",
   "execution_count": null,
   "metadata": {},
   "outputs": [],
   "source": [
    "df_noa_germany = df_noa.loc[df_noa[\"Target Country\"]==\"GERMANY\"]\n",
    "df_noa_germany.shape"
   ]
  },
  {
   "cell_type": "code",
   "execution_count": null,
   "metadata": {},
   "outputs": [],
   "source": [
    "df_noa_germany.groupby(\"Country\")[\"Mission ID\"].count()"
   ]
  },
  {
   "cell_type": "markdown",
   "metadata": {},
   "source": [
    "> Q4: Is there a seasonal pattern in the attacks of the Allied Forces against Germany (e.g. winter vs. summer)?"
   ]
  },
  {
   "cell_type": "code",
   "execution_count": null,
   "metadata": {},
   "outputs": [],
   "source": [
    "df_noa_germany.groupby(\"month\")[\"Mission ID\"].count().plot.bar(color=\"k\");"
   ]
  },
  {
   "cell_type": "code",
   "execution_count": null,
   "metadata": {},
   "outputs": [],
   "source": [
    "df_noa_germany.groupby([\"month\", \"Country\"])[\"Mission ID\"].count().unstack().plot.bar();"
   ]
  },
  {
   "cell_type": "code",
   "execution_count": null,
   "metadata": {},
   "outputs": [],
   "source": [
    "df_noa_germany.groupby([\"year\",\"month\"])[\"Mission ID\"].count().plot.bar(color=\"k\");"
   ]
  },
  {
   "cell_type": "markdown",
   "metadata": {},
   "source": [
    "> **Q5: Which area in Germany experienced the highest number of attacks? Did the area change over time?**"
   ]
  },
  {
   "cell_type": "code",
   "execution_count": null,
   "metadata": {},
   "outputs": [],
   "source": [
    "df_noa_germany.crs"
   ]
  },
  {
   "cell_type": "code",
   "execution_count": null,
   "metadata": {},
   "outputs": [],
   "source": [
    "base = europe.plot(facecolor='lightgray')\n",
    "df_noa_germany.plot(ax=base, alpha=0.4);"
   ]
  },
  {
   "cell_type": "markdown",
   "metadata": {},
   "source": [
    "**Clean data set**"
   ]
  },
  {
   "cell_type": "code",
   "execution_count": null,
   "metadata": {},
   "outputs": [],
   "source": [
    "# subset germany\n",
    "germany = europe.loc[europe.name==\"Germany\"]\n",
    "# get bounding box of germany\n",
    "bounds_germany = germany.geometry.bounds\n",
    "bounds_germany = pd.concat([bounds_germany[[\"maxx\", \"maxy\"]].max(),\n",
    "                            bounds_germany[[\"minx\", \"miny\"]].min()])\n",
    "bounds_germany"
   ]
  },
  {
   "cell_type": "code",
   "execution_count": null,
   "metadata": {},
   "outputs": [],
   "source": [
    "import geopandas as gpd\n",
    "from shapely.geometry import Polygon\n",
    "# generate polygon for bounding box\n",
    "poly_germany = gpd.GeoSeries([Polygon([(bounds_germany.minx,bounds_germany.miny), \n",
    "                                       (bounds_germany.maxx,bounds_germany.miny), \n",
    "                                       (bounds_germany.maxx,bounds_germany.maxy), \n",
    "                                       (bounds_germany.minx,bounds_germany.maxy)])])\n",
    "bb_germany = gpd.GeoDataFrame({'geometry': poly_germany})\n",
    "# set crs\n",
    "bb_germany.crs = {'init': 'epsg:4326'}"
   ]
  },
  {
   "cell_type": "code",
   "execution_count": null,
   "metadata": {},
   "outputs": [],
   "source": [
    "# subest data sets by bounding box\n",
    "gdf_noa_germany = gpd.sjoin(df_noa_germany, bb_germany, \n",
    "                            how=\"inner\", op='intersects').drop(\"index_right\", axis=1)\n",
    "germany = gpd.overlay(europe, bb_germany, how='intersection')\n",
    "# set crs\n",
    "germany.crs = {'init': 'epsg:4326'}"
   ]
  },
  {
   "cell_type": "code",
   "execution_count": null,
   "metadata": {},
   "outputs": [],
   "source": [
    "# check results\n",
    "base = germany.plot(facecolor='lightgray', edgecolor=\"white\")\n",
    "gdf_noa_germany.plot(ax=base)"
   ]
  },
  {
   "cell_type": "markdown",
   "metadata": {},
   "source": [
    "Save data to disk for further usage"
   ]
  },
  {
   "cell_type": "code",
   "execution_count": null,
   "metadata": {},
   "outputs": [],
   "source": [
    "import pickle\n",
    "pickle.dump(germany, open(\"../datasets/germany.p\", \"wb\"))\n",
    "pickle.dump(gdf_noa_germany, open(\"../datasets/gdf_germany.p\", \"wb\"))"
   ]
  },
  {
   "cell_type": "code",
   "execution_count": null,
   "metadata": {},
   "outputs": [],
   "source": [
    "fig = plt.figure(figsize=(16,12))\n",
    "years = [1940, 1941 ,1942, 1943, 1944, 1945]\n",
    "for e in range(len(years)):\n",
    "    ax = fig.add_subplot(3,2,e+1)\n",
    "    ax.set_aspect('equal')\n",
    "    germany.plot(ax=ax, facecolor='lightgray', edgecolor=\"white\")\n",
    "    _ = gdf_noa_germany.loc[gdf_europe.year == years[e]].copy()\n",
    "    _.Country.replace(np.nan, \"unknown\", inplace=True)\n",
    "    _.plot(ax=ax, marker='o', cmap='Set1', categorical=True,           \n",
    "           column='Country', legend=True, \n",
    "           markersize=5, alpha=1)\n",
    "    ax.set_title(\"Year: \" + str(years[e]), size=16)    \n",
    "plt.tight_layout()\n",
    "plt.suptitle(\"Attacks over Germany for different years\", size=22)\n",
    "plt.subplots_adjust(top=0.92)"
   ]
  },
  {
   "cell_type": "markdown",
   "metadata": {},
   "source": [
    "[**Kernel Density Plot**](https://en.wikipedia.org/wiki/Kernel_density_estimation)"
   ]
  },
  {
   "cell_type": "code",
   "execution_count": null,
   "metadata": {},
   "outputs": [],
   "source": [
    "import seaborn as sns"
   ]
  },
  {
   "cell_type": "code",
   "execution_count": null,
   "metadata": {},
   "outputs": [],
   "source": [
    "base = germany.plot(facecolor='lightgray', edgecolor=\"white\")\n",
    "kdp_germany = sns.kdeplot(gdf_noa_germany['Target Longitude'], # x-axis\n",
    "                          gdf_noa_germany['Target Latitude'],  # y-axis\n",
    "                          cmap=\"viridis\",                      # colormap\n",
    "                          shade=True,                          # Shade in the area under the KDE curve\n",
    "                          shade_lowest=False,                  # shade the lowest contour\n",
    "                          bw=0.2                               # method to determine kernel size\n",
    "                          )                                    # 'scott', 'silverman', scalar, pair of scalars"
   ]
  },
  {
   "cell_type": "code",
   "execution_count": null,
   "metadata": {
    "scrolled": false
   },
   "outputs": [],
   "source": [
    "fig = plt.figure(figsize=(16,12))\n",
    "years = [1940, 1941 ,1942, 1943, 1944, 1945]\n",
    "for e, y in enumerate(years):\n",
    "    _gdf = gdf_noa_germany.loc[gdf_noa_germany[\"year\"]==y]\n",
    "    ax = plt.subplot(3,2,e+1)\n",
    "    ax.set_aspect('equal')\n",
    "    germany.plot(ax=ax, facecolor='lightgray', edgecolor=\"white\")\n",
    "    sns.kdeplot(_gdf['Target Longitude'], _gdf['Target Latitude'], \n",
    "                cmap=\"viridis\", shade=True, shade_lowest=False, bw=0.2, ax=ax)   \n",
    "    ax.set_title(\"Year: \" + str(y), size=16)\n",
    "plt.tight_layout()"
   ]
  },
  {
   "cell_type": "markdown",
   "metadata": {},
   "source": [
    "**Nicer plotting with user-defined function**"
   ]
  },
  {
   "cell_type": "code",
   "execution_count": null,
   "metadata": {},
   "outputs": [],
   "source": [
    "import os\n",
    "import sys\n",
    "    \n",
    "# add the 'src' directory as one where we can import modules\n",
    "src_dir = os.path.abspath(os.path.join(os.getcwd(), os.pardir, 'src'))\n",
    "sys.path.append(src_dir)\n",
    "print(src_dir)"
   ]
  },
  {
   "cell_type": "code",
   "execution_count": null,
   "metadata": {},
   "outputs": [],
   "source": [
    "import helper_funcs as hf\n",
    "hf.cuteplot(gpd_df=gdf_noa_germany, crs=\"Mollweide\", \n",
    "            kdp=True, map_extend=(-1,20,45,57))"
   ]
  },
  {
   "cell_type": "markdown",
   "metadata": {},
   "source": [
    "**Interactive [Heatmap](https://en.wikipedia.org/wiki/Heat_map) using folium**"
   ]
  },
  {
   "cell_type": "code",
   "execution_count": null,
   "metadata": {},
   "outputs": [],
   "source": [
    "import folium\n",
    "from folium import plugins\n",
    "\n",
    "m = folium.Map([51.163375, 10.447683], zoom_start=6, \n",
    "               max_zoom=10)\n",
    "   \n",
    "# convert to (n, 2) list of list format for heatmap\n",
    "# https://github.com/python-visualization/folium/issues/782\n",
    "location = gdf_noa_germany[[ 'Target Latitude', 'Target Longitude']].as_matrix().tolist()\n",
    "\n",
    "# plot heatmap\n",
    "m.add_child(plugins.HeatMap(location , radius=20))\n",
    "m"
   ]
  }
 ],
 "metadata": {
  "hide_input": false,
  "kernelspec": {
   "display_name": "Python 3",
   "language": "python",
   "name": "python3"
  },
  "language_info": {
   "codemirror_mode": {
    "name": "ipython",
    "version": 3
   },
   "file_extension": ".py",
   "mimetype": "text/x-python",
   "name": "python",
   "nbconvert_exporter": "python",
   "pygments_lexer": "ipython3",
   "version": "3.6.4"
  }
 },
 "nbformat": 4,
 "nbformat_minor": 2
}
