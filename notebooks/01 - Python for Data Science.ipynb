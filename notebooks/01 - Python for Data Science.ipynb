{
 "cells": [
  {
   "cell_type": "markdown",
   "metadata": {
    "slideshow": {
     "slide_type": "slide"
    }
   },
   "source": [
    "# Introduction to Data Science with Python"
   ]
  },
  {
   "cell_type": "markdown",
   "metadata": {
    "slideshow": {
     "slide_type": "fragment"
    }
   },
   "source": [
    "* What is data science?\n",
    "* Why Python?    "
   ]
  },
  {
   "cell_type": "markdown",
   "metadata": {
    "slideshow": {
     "slide_type": "slide"
    }
   },
   "source": [
    "## What is data science?\n",
    "   "
   ]
  },
  {
   "cell_type": "markdown",
   "metadata": {
    "slideshow": {
     "slide_type": "fragment"
    }
   },
   "source": [
    "_Data science [...] is an **interdisciplinary field of scientific methods, processes, and systems** to extract **knowledge or insights from data**[...]_ ([Wikipedia](https://en.wikipedia.org/wiki/Data_science))"
   ]
  },
  {
   "cell_type": "markdown",
   "metadata": {
    "slideshow": {
     "slide_type": "fragment"
    }
   },
   "source": [
    "_It employs techniques and theories drawn from many fields within the broad areas of_\n",
    "* _mathematics_, \n",
    "* _statistics_, \n",
    "* _information science_, and \n",
    "* _computer science_, in particular from the subdomains of \n",
    "    * _machine learning_, \n",
    "    * _classification_, \n",
    "    * _cluster analysis_, \n",
    "    * _data mining_, \n",
    "    * _databases_, and \n",
    "    * _visualization._"
   ]
  },
  {
   "cell_type": "markdown",
   "metadata": {
    "slideshow": {
     "slide_type": "subslide"
    }
   },
   "source": [
    "The [Harvard Business Review](https://hbr.org/2012/10/data-scientist-the-sexiest-job-of-the-21st-century)  (2012) referred to data science as \"**The Sexiest Job of the 21st Century**\"."
   ]
  },
  {
   "cell_type": "markdown",
   "metadata": {
    "slideshow": {
     "slide_type": "fragment"
    }
   },
   "source": [
    "<img src=\"./_img/data_science.png\"  style=\"height: 600px;\"> \n",
    "\n",
    "Source: [Michael Barber](https://towardsdatascience.com/introduction-to-statistics-e9d72d818745)"
   ]
  },
  {
   "cell_type": "markdown",
   "metadata": {
    "slideshow": {
     "slide_type": "slide"
    }
   },
   "source": [
    "## Why Python?"
   ]
  },
  {
   "cell_type": "markdown",
   "metadata": {
    "slideshow": {
     "slide_type": "subslide"
    }
   },
   "source": [
    "* __A powerful, all-purpose language with a great syntax (*\"executable pseudocode\"*)__\n",
    "\n",
    "<img src=\"./_img/xkcd_learning_curve_wave_python.png\"  style=\"height: 600px;\"> \n",
    "\n",
    "Source: [Fabien Maussion](http://fabienmaussion.info/)"
   ]
  },
  {
   "cell_type": "markdown",
   "metadata": {
    "slideshow": {
     "slide_type": "subslide"
    }
   },
   "source": [
    "* __Interoperability with other languages__\n",
    "\n",
    "[Guido van Rossum](https://gvanrossum.github.io//index.html) (creator of Python aka Benevolent Dictator For Life (BDFL))\n",
    "\n",
    "_... I never intended Python to be the primary language for programmers ..._\n",
    "\n",
    "_... bridge the gap between the shell and C ..._\n",
    "\n",
    "\n",
    "\n",
    "\n",
    "<img src=\"./_img/guido.png\"  style=\"height: 500px;\">\n",
    "\n",
    "Source: [SD Times](https://sdtimes.com/guido-van-rossum/python-creator-proposes-type-annotations-programming-language/) (2014\n",
    ") & [A Conversation with Guido van Rossum](https://www.artima.com/intv/)  (2002)"
   ]
  },
  {
   "cell_type": "markdown",
   "metadata": {
    "slideshow": {
     "slide_type": "subslide"
    }
   },
   "source": [
    "* __Open and encouraging community__\n",
    "\n",
    "<img src=\"./_img/growth_major_languages-1-1400x1200.png\"  style=\"height: 650px;\">\n",
    "\n",
    "Source: [Blog post by David Robinson](https://stackoverflow.blog/2017/09/06/incredible-growth-python/) (September 6, 2017)\n",
    "\n",
    "\n"
   ]
  },
  {
   "cell_type": "markdown",
   "metadata": {
    "slideshow": {
     "slide_type": "subslide"
    }
   },
   "source": [
    "* __Batteries included and third-party modules__ \n",
    "\n",
    "<img src=\"https://imgs.xkcd.com/comics/python.png\"  style=\"height: 650px;\">\n",
    "\n",
    "Source: [xkcd](https://xkcd.com/353/)"
   ]
  },
  {
   "cell_type": "markdown",
   "metadata": {
    "slideshow": {
     "slide_type": "subslide"
    }
   },
   "source": [
    "* __Python ecosystem__\n",
    "\n",
    "\n",
    "\n",
    "<img src=\"./_img/python_ecosystem3.png\"  style=\"height: 700px;\">\n",
    "\n",
    "***\n",
    "    conda install <YOUR-PACKAGE-OF-CHOICE> # conda package manager\n",
    "    pip install <YOUR-PACKAGE-OF-CHOICE>   # tool for installing Python packages\n",
    "    \n",
    "    >>> import <YOUR-PACKAGE-OF-CHOICE>"
   ]
  },
  {
   "cell_type": "markdown",
   "metadata": {
    "slideshow": {
     "slide_type": "subslide"
    }
   },
   "source": [
    "## Why Python?\n",
    "\n",
    "**Summary**\n",
    "\n",
    "* A powerful, all-purpose language with a great syntax\n",
    "* Interoperability with other languages\n",
    "* Open and encouraging community\n",
    "* Batteries included and third-party modules \n",
    "* Python ecosystem"
   ]
  }
 ],
 "metadata": {
  "celltoolbar": "Slideshow",
  "kernelspec": {
   "display_name": "Python 3",
   "language": "python",
   "name": "python3"
  },
  "language_info": {
   "codemirror_mode": {
    "name": "ipython",
    "version": 3
   },
   "file_extension": ".py",
   "mimetype": "text/x-python",
   "name": "python",
   "nbconvert_exporter": "python",
   "pygments_lexer": "ipython3",
   "version": "3.6.4"
  },
  "livereveal": {
   "scroll": true,
   "start_slideshow_at": "selected"
  }
 },
 "nbformat": 4,
 "nbformat_minor": 2
}
