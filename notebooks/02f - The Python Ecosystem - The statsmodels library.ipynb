{
 "cells": [
  {
   "cell_type": "markdown",
   "metadata": {
    "slideshow": {
     "slide_type": "-"
    }
   },
   "source": [
    "# The Python ecosystem - The statsmodels library"
   ]
  },
  {
   "cell_type": "markdown",
   "metadata": {},
   "source": [
    "http://www.statsmodels.org/dev/examples/notebooks/generated/kernel_density.html"
   ]
  },
  {
   "cell_type": "markdown",
   "metadata": {},
   "source": [
    "[statsmodels](http://www.statsmodels.org/dev/index.html#) is a Python module that provides classes and functions for the estimation of many different **statistical models**, as well as for conducting **statistical tests**, and **statistical data exploration**.\n",
    "\n",
    "\n",
    "* Regression Analsyis\n",
    "* Linear Mixed Effects Models\n",
    "* ANOVA\n",
    "* Time Series analysis\n",
    "* Parametric and Nonparametric Statistical Methods\n",
    "* Multivariate Statistics multivariate\n",
    "* Distributions\n",
    "* and many more...\n",
    "\n",
    "\n"
   ]
  },
  {
   "cell_type": "markdown",
   "metadata": {},
   "source": [
    "**Add the `src` directory as one where we can import modules**"
   ]
  },
  {
   "cell_type": "code",
   "execution_count": 1,
   "metadata": {},
   "outputs": [
    {
     "name": "stdout",
     "output_type": "stream",
     "text": [
      "C:\\Users\\josi\\Documents\\workshop-data-science\\src\n"
     ]
    }
   ],
   "source": [
    "import os\n",
    "import sys\n",
    "\n",
    "# add the 'src' directory as one where we can import modules\n",
    "src_dir = os.path.abspath(os.path.join(os.getcwd(), os.pardir, 'src'))\n",
    "sys.path.append(src_dir)\n",
    "print(src_dir)"
   ]
  },
  {
   "cell_type": "code",
   "execution_count": 2,
   "metadata": {},
   "outputs": [],
   "source": [
    "import helper_funcs as hf"
   ]
  },
  {
   "cell_type": "markdown",
   "metadata": {},
   "source": [
    "**Load libraries**"
   ]
  },
  {
   "cell_type": "code",
   "execution_count": 3,
   "metadata": {},
   "outputs": [],
   "source": [
    "import numpy as np\n",
    "import pandas as pd\n",
    "import matplotlib.pyplot as plt\n",
    "% matplotlib inline"
   ]
  },
  {
   "cell_type": "markdown",
   "metadata": {},
   "source": [
    "## Population and Sample Statistics"
   ]
  },
  {
   "cell_type": "markdown",
   "metadata": {},
   "source": [
    "[Inferential statistics](https://en.wikipedia.org/wiki/Statistical_inference) is all about using **sample results** to make decisions or predictions about a **population**. Basically, a numerical value is assigned to a population parameter based on the information collected from a sample."
   ]
  },
  {
   "cell_type": "markdown",
   "metadata": {},
   "source": [
    "**Load the data set**\n",
    "\n",
    "Source [Crowder, M. and Hand, D. (1990)](https://stat.ethz.ch/R-manual/R-devel/library/datasets/html/ChickWeight.html)"
   ]
  },
  {
   "cell_type": "code",
   "execution_count": 4,
   "metadata": {},
   "outputs": [],
   "source": [
    "chicken, chick_diet1, chick_diet2, chick_diet3, chick_diet4 = hf.load_chicken()"
   ]
  },
  {
   "cell_type": "code",
   "execution_count": 5,
   "metadata": {},
   "outputs": [
    {
     "data": {
      "text/html": [
       "<div>\n",
       "<style scoped>\n",
       "    .dataframe tbody tr th:only-of-type {\n",
       "        vertical-align: middle;\n",
       "    }\n",
       "\n",
       "    .dataframe tbody tr th {\n",
       "        vertical-align: top;\n",
       "    }\n",
       "\n",
       "    .dataframe thead th {\n",
       "        text-align: right;\n",
       "    }\n",
       "</style>\n",
       "<table border=\"1\" class=\"dataframe\">\n",
       "  <thead>\n",
       "    <tr style=\"text-align: right;\">\n",
       "      <th></th>\n",
       "      <th>Chick</th>\n",
       "      <th>Diet</th>\n",
       "      <th>weight</th>\n",
       "    </tr>\n",
       "  </thead>\n",
       "  <tbody>\n",
       "    <tr>\n",
       "      <th>0</th>\n",
       "      <td>1</td>\n",
       "      <td>1</td>\n",
       "      <td>111.666667</td>\n",
       "    </tr>\n",
       "    <tr>\n",
       "      <th>1</th>\n",
       "      <td>2</td>\n",
       "      <td>1</td>\n",
       "      <td>119.916667</td>\n",
       "    </tr>\n",
       "    <tr>\n",
       "      <th>2</th>\n",
       "      <td>3</td>\n",
       "      <td>1</td>\n",
       "      <td>115.833333</td>\n",
       "    </tr>\n",
       "    <tr>\n",
       "      <th>3</th>\n",
       "      <td>4</td>\n",
       "      <td>1</td>\n",
       "      <td>99.333333</td>\n",
       "    </tr>\n",
       "    <tr>\n",
       "      <th>4</th>\n",
       "      <td>5</td>\n",
       "      <td>1</td>\n",
       "      <td>126.666667</td>\n",
       "    </tr>\n",
       "    <tr>\n",
       "      <th>5</th>\n",
       "      <td>6</td>\n",
       "      <td>1</td>\n",
       "      <td>113.750000</td>\n",
       "    </tr>\n",
       "    <tr>\n",
       "      <th>6</th>\n",
       "      <td>7</td>\n",
       "      <td>1</td>\n",
       "      <td>150.000000</td>\n",
       "    </tr>\n",
       "    <tr>\n",
       "      <th>7</th>\n",
       "      <td>8</td>\n",
       "      <td>1</td>\n",
       "      <td>92.000000</td>\n",
       "    </tr>\n",
       "    <tr>\n",
       "      <th>8</th>\n",
       "      <td>9</td>\n",
       "      <td>1</td>\n",
       "      <td>81.166667</td>\n",
       "    </tr>\n",
       "    <tr>\n",
       "      <th>9</th>\n",
       "      <td>10</td>\n",
       "      <td>1</td>\n",
       "      <td>83.083333</td>\n",
       "    </tr>\n",
       "    <tr>\n",
       "      <th>10</th>\n",
       "      <td>11</td>\n",
       "      <td>1</td>\n",
       "      <td>129.916667</td>\n",
       "    </tr>\n",
       "    <tr>\n",
       "      <th>11</th>\n",
       "      <td>12</td>\n",
       "      <td>1</td>\n",
       "      <td>114.083333</td>\n",
       "    </tr>\n",
       "    <tr>\n",
       "      <th>12</th>\n",
       "      <td>13</td>\n",
       "      <td>1</td>\n",
       "      <td>67.833333</td>\n",
       "    </tr>\n",
       "    <tr>\n",
       "      <th>13</th>\n",
       "      <td>14</td>\n",
       "      <td>1</td>\n",
       "      <td>151.333333</td>\n",
       "    </tr>\n",
       "    <tr>\n",
       "      <th>14</th>\n",
       "      <td>15</td>\n",
       "      <td>1</td>\n",
       "      <td>60.125000</td>\n",
       "    </tr>\n",
       "    <tr>\n",
       "      <th>15</th>\n",
       "      <td>16</td>\n",
       "      <td>1</td>\n",
       "      <td>49.714286</td>\n",
       "    </tr>\n",
       "    <tr>\n",
       "      <th>16</th>\n",
       "      <td>17</td>\n",
       "      <td>1</td>\n",
       "      <td>92.500000</td>\n",
       "    </tr>\n",
       "    <tr>\n",
       "      <th>17</th>\n",
       "      <td>18</td>\n",
       "      <td>1</td>\n",
       "      <td>37.000000</td>\n",
       "    </tr>\n",
       "    <tr>\n",
       "      <th>18</th>\n",
       "      <td>19</td>\n",
       "      <td>1</td>\n",
       "      <td>86.750000</td>\n",
       "    </tr>\n",
       "    <tr>\n",
       "      <th>19</th>\n",
       "      <td>20</td>\n",
       "      <td>1</td>\n",
       "      <td>78.416667</td>\n",
       "    </tr>\n",
       "    <tr>\n",
       "      <th>20</th>\n",
       "      <td>21</td>\n",
       "      <td>2</td>\n",
       "      <td>184.500000</td>\n",
       "    </tr>\n",
       "    <tr>\n",
       "      <th>21</th>\n",
       "      <td>22</td>\n",
       "      <td>2</td>\n",
       "      <td>104.250000</td>\n",
       "    </tr>\n",
       "    <tr>\n",
       "      <th>22</th>\n",
       "      <td>23</td>\n",
       "      <td>2</td>\n",
       "      <td>111.416667</td>\n",
       "    </tr>\n",
       "    <tr>\n",
       "      <th>23</th>\n",
       "      <td>24</td>\n",
       "      <td>2</td>\n",
       "      <td>66.250000</td>\n",
       "    </tr>\n",
       "    <tr>\n",
       "      <th>24</th>\n",
       "      <td>25</td>\n",
       "      <td>2</td>\n",
       "      <td>143.083333</td>\n",
       "    </tr>\n",
       "    <tr>\n",
       "      <th>25</th>\n",
       "      <td>26</td>\n",
       "      <td>2</td>\n",
       "      <td>131.000000</td>\n",
       "    </tr>\n",
       "    <tr>\n",
       "      <th>26</th>\n",
       "      <td>27</td>\n",
       "      <td>2</td>\n",
       "      <td>110.416667</td>\n",
       "    </tr>\n",
       "    <tr>\n",
       "      <th>27</th>\n",
       "      <td>28</td>\n",
       "      <td>2</td>\n",
       "      <td>129.916667</td>\n",
       "    </tr>\n",
       "    <tr>\n",
       "      <th>28</th>\n",
       "      <td>29</td>\n",
       "      <td>2</td>\n",
       "      <td>141.833333</td>\n",
       "    </tr>\n",
       "    <tr>\n",
       "      <th>29</th>\n",
       "      <td>30</td>\n",
       "      <td>2</td>\n",
       "      <td>103.500000</td>\n",
       "    </tr>\n",
       "    <tr>\n",
       "      <th>30</th>\n",
       "      <td>31</td>\n",
       "      <td>3</td>\n",
       "      <td>128.583333</td>\n",
       "    </tr>\n",
       "    <tr>\n",
       "      <th>31</th>\n",
       "      <td>32</td>\n",
       "      <td>3</td>\n",
       "      <td>157.583333</td>\n",
       "    </tr>\n",
       "    <tr>\n",
       "      <th>32</th>\n",
       "      <td>33</td>\n",
       "      <td>3</td>\n",
       "      <td>109.750000</td>\n",
       "    </tr>\n",
       "    <tr>\n",
       "      <th>33</th>\n",
       "      <td>34</td>\n",
       "      <td>3</td>\n",
       "      <td>168.833333</td>\n",
       "    </tr>\n",
       "    <tr>\n",
       "      <th>34</th>\n",
       "      <td>35</td>\n",
       "      <td>3</td>\n",
       "      <td>193.166667</td>\n",
       "    </tr>\n",
       "    <tr>\n",
       "      <th>35</th>\n",
       "      <td>36</td>\n",
       "      <td>3</td>\n",
       "      <td>134.916667</td>\n",
       "    </tr>\n",
       "    <tr>\n",
       "      <th>36</th>\n",
       "      <td>37</td>\n",
       "      <td>3</td>\n",
       "      <td>102.500000</td>\n",
       "    </tr>\n",
       "    <tr>\n",
       "      <th>37</th>\n",
       "      <td>38</td>\n",
       "      <td>3</td>\n",
       "      <td>142.333333</td>\n",
       "    </tr>\n",
       "    <tr>\n",
       "      <th>38</th>\n",
       "      <td>39</td>\n",
       "      <td>3</td>\n",
       "      <td>134.250000</td>\n",
       "    </tr>\n",
       "    <tr>\n",
       "      <th>39</th>\n",
       "      <td>40</td>\n",
       "      <td>3</td>\n",
       "      <td>157.583333</td>\n",
       "    </tr>\n",
       "    <tr>\n",
       "      <th>40</th>\n",
       "      <td>41</td>\n",
       "      <td>4</td>\n",
       "      <td>128.416667</td>\n",
       "    </tr>\n",
       "    <tr>\n",
       "      <th>41</th>\n",
       "      <td>42</td>\n",
       "      <td>4</td>\n",
       "      <td>149.083333</td>\n",
       "    </tr>\n",
       "    <tr>\n",
       "      <th>42</th>\n",
       "      <td>43</td>\n",
       "      <td>4</td>\n",
       "      <td>143.000000</td>\n",
       "    </tr>\n",
       "    <tr>\n",
       "      <th>43</th>\n",
       "      <td>44</td>\n",
       "      <td>4</td>\n",
       "      <td>102.100000</td>\n",
       "    </tr>\n",
       "    <tr>\n",
       "      <th>44</th>\n",
       "      <td>45</td>\n",
       "      <td>4</td>\n",
       "      <td>119.583333</td>\n",
       "    </tr>\n",
       "    <tr>\n",
       "      <th>45</th>\n",
       "      <td>46</td>\n",
       "      <td>4</td>\n",
       "      <td>134.083333</td>\n",
       "    </tr>\n",
       "    <tr>\n",
       "      <th>46</th>\n",
       "      <td>47</td>\n",
       "      <td>4</td>\n",
       "      <td>127.916667</td>\n",
       "    </tr>\n",
       "    <tr>\n",
       "      <th>47</th>\n",
       "      <td>48</td>\n",
       "      <td>4</td>\n",
       "      <td>157.666667</td>\n",
       "    </tr>\n",
       "    <tr>\n",
       "      <th>48</th>\n",
       "      <td>49</td>\n",
       "      <td>4</td>\n",
       "      <td>137.750000</td>\n",
       "    </tr>\n",
       "    <tr>\n",
       "      <th>49</th>\n",
       "      <td>50</td>\n",
       "      <td>4</td>\n",
       "      <td>147.500000</td>\n",
       "    </tr>\n",
       "  </tbody>\n",
       "</table>\n",
       "</div>"
      ],
      "text/plain": [
       "    Chick  Diet      weight\n",
       "0       1     1  111.666667\n",
       "1       2     1  119.916667\n",
       "2       3     1  115.833333\n",
       "3       4     1   99.333333\n",
       "4       5     1  126.666667\n",
       "5       6     1  113.750000\n",
       "6       7     1  150.000000\n",
       "7       8     1   92.000000\n",
       "8       9     1   81.166667\n",
       "9      10     1   83.083333\n",
       "10     11     1  129.916667\n",
       "11     12     1  114.083333\n",
       "12     13     1   67.833333\n",
       "13     14     1  151.333333\n",
       "14     15     1   60.125000\n",
       "15     16     1   49.714286\n",
       "16     17     1   92.500000\n",
       "17     18     1   37.000000\n",
       "18     19     1   86.750000\n",
       "19     20     1   78.416667\n",
       "20     21     2  184.500000\n",
       "21     22     2  104.250000\n",
       "22     23     2  111.416667\n",
       "23     24     2   66.250000\n",
       "24     25     2  143.083333\n",
       "25     26     2  131.000000\n",
       "26     27     2  110.416667\n",
       "27     28     2  129.916667\n",
       "28     29     2  141.833333\n",
       "29     30     2  103.500000\n",
       "30     31     3  128.583333\n",
       "31     32     3  157.583333\n",
       "32     33     3  109.750000\n",
       "33     34     3  168.833333\n",
       "34     35     3  193.166667\n",
       "35     36     3  134.916667\n",
       "36     37     3  102.500000\n",
       "37     38     3  142.333333\n",
       "38     39     3  134.250000\n",
       "39     40     3  157.583333\n",
       "40     41     4  128.416667\n",
       "41     42     4  149.083333\n",
       "42     43     4  143.000000\n",
       "43     44     4  102.100000\n",
       "44     45     4  119.583333\n",
       "45     46     4  134.083333\n",
       "46     47     4  127.916667\n",
       "47     48     4  157.666667\n",
       "48     49     4  137.750000\n",
       "49     50     4  147.500000"
      ]
     },
     "execution_count": 5,
     "metadata": {},
     "output_type": "execute_result"
    }
   ],
   "source": [
    "chicken"
   ]
  },
  {
   "cell_type": "code",
   "execution_count": 6,
   "metadata": {},
   "outputs": [
    {
     "data": {
      "text/plain": [
       "<matplotlib.axes._subplots.AxesSubplot at 0x85420f0>"
      ]
     },
     "execution_count": 6,
     "metadata": {},
     "output_type": "execute_result"
    },
    {
     "data": {
      "image/png": "[encoded data removed]",
      "text/plain": [
       "<matplotlib.figure.Figure at 0x84f3c50>"
      ]
     },
     "metadata": {},
     "output_type": "display_data"
    }
   ],
   "source": [
    "chicken[\"weight\"].plot.hist()"
   ]
  },
  {
   "cell_type": "markdown",
   "metadata": {},
   "source": [
    "## Point Estimate and Confidence Intervall"
   ]
  },
  {
   "cell_type": "markdown",
   "metadata": {},
   "source": [
    "Given a sample, the value of the computed sample statistic gives a point estimate of the corresponding population parameter. For example, the sample mean $(\\bar x)$, is a point estimate of the corresponding population mean, $\\mu$, or the sample standard deviation $s$ is a point estimate for the population standard deviation $\\sigma$. \n",
    "\n",
    "* [__sampling error__](https://en.wikipedia.org/wiki/Sampling_error) (the point estimate almost always differs from the true value of the population)\n",
    "\n",
    "\n",
    "### Intervall Estimate \n",
    "\n",
    "Instead of assigning a single value to a population parameter, an interval estimation gives a probabilistic statement, relating the given interval to the probability that this interval actually contains the true (unknown) population parameter.\n",
    "\n",
    "\n",
    "The level of confidence is chosen a priori and thus depends on the users preferences. It is denoted by\n",
    "\n",
    "$$100(1-\\alpha)$$\n",
    "\n",
    "Although any value of confidence level can be chosen, the most common values are 90%, 95%, and 99%. When expressed as probability, the confidence level is called the confidence coefficient and is denoted by (1−$\\alpha$). Most common confidence coefficients are 0.90, 0.95, and 0.99, respectively.\n",
    "\n",
    "A 100(1−$\\alpha$)% confidence interval is an interval estimate around a population parameter $\\theta$ (here, the Greek letter $\\theta$ is a placeholder for any population parameter of interest such as the mean $\\mu$, or the standard deviation $\\sigma$, among others) that, under repeated random samples of size N, is expected to include $\\theta$'s true value 100(1−$\\alpha$)%  of the time (Lovric 2010).\n",
    "\n",
    "The actual number added to and subtracted from the point estimate is called the margin of error.\n",
    "\n",
    "$$CI:\\text{Point estimate} \\pm \\text{Margin of error (ME)}$$\n",
    "\n",
    "\n",
    "Thus, the margin of error (ME) is expressed as\n",
    "\n",
    "\n",
    "$$ME = z^*_{\\alpha/2} \\times \\frac{\\sigma}{\\sqrt{n}}$$"
   ]
  },
  {
   "cell_type": "code",
   "execution_count": 7,
   "metadata": {},
   "outputs": [],
   "source": [
    "from statsmodels.stats.weightstats import DescrStatsW\n",
    "d_stats = DescrStatsW(chicken[\"weight\"])"
   ]
  },
  {
   "cell_type": "code",
   "execution_count": 8,
   "metadata": {},
   "outputs": [
    {
     "data": {
      "text/plain": [
       "119.27711904761904"
      ]
     },
     "execution_count": 8,
     "metadata": {},
     "output_type": "execute_result"
    }
   ],
   "source": [
    "d_mean = d_stats.mean\n",
    "d_mean"
   ]
  },
  {
   "cell_type": "code",
   "execution_count": 9,
   "metadata": {},
   "outputs": [
    {
     "name": "stdout",
     "output_type": "stream",
     "text": [
      "(109.8933055094369, 128.66093258580116)\n"
     ]
    }
   ],
   "source": [
    "alpha = 0.05\n",
    "d_conf_int = d_stats.tconfint_mean(alpha=alpha, alternative=\"two-sided\") \n",
    "print(d_conf_int)"
   ]
  },
  {
   "cell_type": "code",
   "execution_count": 10,
   "metadata": {},
   "outputs": [
    {
     "name": "stdout",
     "output_type": "stream",
     "text": [
      "We are 95% confident that the true weight of chicken is between 109.9 and 128.7 gramm.\n"
     ]
    }
   ],
   "source": [
    "sig_level = int((1-alpha)*100)\n",
    "lower_ci = np.round(d_conf_int[0],1)\n",
    "upper_ci = np.round(d_conf_int[1],1)\n",
    "\n",
    "(print(\"We are {}% confident that the true weight of chicken is between {} and {} gramm.\".\n",
    "       format(sig_level, lower_ci, upper_ci)))"
   ]
  },
  {
   "cell_type": "markdown",
   "metadata": {},
   "source": [
    "## Hypothesis Testing"
   ]
  },
  {
   "cell_type": "code",
   "execution_count": 11,
   "metadata": {},
   "outputs": [
    {
     "data": {
      "text/plain": [
       "Diet\n",
       "1     98.054464\n",
       "2    122.616667\n",
       "3    142.950000\n",
       "4    134.710000\n",
       "Name: weight, dtype: float64"
      ]
     },
     "execution_count": 11,
     "metadata": {},
     "output_type": "execute_result"
    }
   ],
   "source": [
    "chicken.groupby(\"Diet\")[\"weight\"].mean() "
   ]
  },
  {
   "cell_type": "code",
   "execution_count": 12,
   "metadata": {},
   "outputs": [
    {
     "data": {
      "text/html": [
       "<div>\n",
       "<style scoped>\n",
       "    .dataframe tbody tr th:only-of-type {\n",
       "        vertical-align: middle;\n",
       "    }\n",
       "\n",
       "    .dataframe tbody tr th {\n",
       "        vertical-align: top;\n",
       "    }\n",
       "\n",
       "    .dataframe thead th {\n",
       "        text-align: right;\n",
       "    }\n",
       "</style>\n",
       "<table border=\"1\" class=\"dataframe\">\n",
       "  <thead>\n",
       "    <tr style=\"text-align: right;\">\n",
       "      <th></th>\n",
       "      <th>group</th>\n",
       "      <th>lower_ci</th>\n",
       "      <th>mean</th>\n",
       "      <th>upper_ci</th>\n",
       "    </tr>\n",
       "  </thead>\n",
       "  <tbody>\n",
       "    <tr>\n",
       "      <th>0</th>\n",
       "      <td>1</td>\n",
       "      <td>83.5053</td>\n",
       "      <td>98.0545</td>\n",
       "      <td>112.604</td>\n",
       "    </tr>\n",
       "    <tr>\n",
       "      <th>1</th>\n",
       "      <td>2</td>\n",
       "      <td>100.127</td>\n",
       "      <td>122.617</td>\n",
       "      <td>145.107</td>\n",
       "    </tr>\n",
       "    <tr>\n",
       "      <th>2</th>\n",
       "      <td>3</td>\n",
       "      <td>123.424</td>\n",
       "      <td>142.95</td>\n",
       "      <td>162.476</td>\n",
       "    </tr>\n",
       "    <tr>\n",
       "      <th>3</th>\n",
       "      <td>4</td>\n",
       "      <td>123.142</td>\n",
       "      <td>134.71</td>\n",
       "      <td>146.278</td>\n",
       "    </tr>\n",
       "  </tbody>\n",
       "</table>\n",
       "</div>"
      ],
      "text/plain": [
       "  group lower_ci     mean upper_ci\n",
       "0     1  83.5053  98.0545  112.604\n",
       "1     2  100.127  122.617  145.107\n",
       "2     3  123.424   142.95  162.476\n",
       "3     4  123.142   134.71  146.278"
      ]
     },
     "execution_count": 12,
     "metadata": {},
     "output_type": "execute_result"
    }
   ],
   "source": [
    "def compute_ci(df, group, var, alpha=0.05):\n",
    "    groups = df[group].unique()\n",
    "    rv = pd.DataFrame({\"group\":None, \n",
    "                       \"mean\":None,\n",
    "                       \"lower_ci\":None,\n",
    "                       \"upper_ci\":None}, \n",
    "                      index=range(len(groups)))\n",
    "    for e, g in enumerate(groups):        \n",
    "        stats = DescrStatsW(df.loc[df[group] == g, var])\n",
    "        group_mean = stats.mean\n",
    "        group_ci = stats.tconfint_mean(alpha=alpha) \n",
    "        rv.loc[e] = {\"group\":g, \n",
    "                     \"mean\":group_mean,\n",
    "                     \"lower_ci\":group_ci[0],\n",
    "                     \"upper_ci\":group_ci[1]}\n",
    "    return rv\n",
    "        \n",
    "group_stats = compute_ci(df=chicken, group=\"Diet\", var=\"weight\")    \n",
    "group_stats"
   ]
  },
  {
   "cell_type": "code",
   "execution_count": 13,
   "metadata": {},
   "outputs": [
    {
     "data": {
      "image/png": "[encoded data removed]",
      "text/plain": [
       "<matplotlib.figure.Figure at 0x9241390>"
      ]
     },
     "metadata": {},
     "output_type": "display_data"
    }
   ],
   "source": [
    "groups = group_stats[\"group\"].values\n",
    "\n",
    "fig, ax = plt.subplots()\n",
    "ax.plot(group_stats[\"mean\"].values, groups, \"o\")\n",
    "\n",
    "for e,i in enumerate(group_stats[\"group\"]):\n",
    "    upper = group_stats[\"upper_ci\"].values[e]\n",
    "    lower = group_stats[\"lower_ci\"].values[e]\n",
    "    ax.plot((upper, lower),\n",
    "            (i,i), \"k--\")\n",
    "    ax.legend([\"mean\", \"ci interval\"]);"
   ]
  },
  {
   "cell_type": "markdown",
   "metadata": {},
   "source": [
    "A very common problem that scientists face is the assessment of significance in scattered statistical data. Owing to the limited availability of observational data, scientists apply **inferential statistical methods to decide if the observed data contains significant information or if the scattered data is nothing more than the manifestation of the inherently probabilistic nature of the data generation process**.\n",
    "\n",
    "The framework of hypothesis testing is all about making statistical inferences about populations based on samples taken from the population. Any hypothesis test involves the **collection of data (sampling)**. If the **hypothesis** is assumed to be correct, the scientist can calculate the **expected results** of an experiment. If the **observed data** differs significantly from the expected results, then one considers the assumption to be incorrect. Thus, based on the observed data the scientist makes a **decision** as to whether or not there is sufficient evidence, based upon analyses of the data, that the model - the hypothesis - should be rejected, or that there is not sufficient evidence to reject the stated hypothesis."
   ]
  },
  {
   "cell_type": "markdown",
   "metadata": {},
   "source": [
    "### Testing for differences in the mean (t-test)\n",
    "\n",
    "* variables normally distribiuted and independant\n",
    "* variance equal or not\n",
    "\n",
    "\n",
    "\n",
    "Null hypothesis\n",
    "$H_0:\\quad \\mu_1 = \\mu_2$\n",
    "\n",
    "Alternative hypothesis\n",
    "$H_A:\\quad \\mu_1 \\ne \\mu_2$\n"
   ]
  },
  {
   "cell_type": "code",
   "execution_count": 14,
   "metadata": {},
   "outputs": [],
   "source": [
    "from statsmodels.stats.weightstats import ttest_ind"
   ]
  },
  {
   "cell_type": "code",
   "execution_count": 15,
   "metadata": {},
   "outputs": [
    {
     "data": {
      "text/plain": [
       "0.05167087050146631"
      ]
     },
     "execution_count": 15,
     "metadata": {},
     "output_type": "execute_result"
    }
   ],
   "source": [
    "t, p, degf = ttest_ind(chick_diet1, chick_diet2)\n",
    "p"
   ]
  },
  {
   "cell_type": "markdown",
   "metadata": {},
   "source": [
    "## Multiple comparisons"
   ]
  },
  {
   "cell_type": "markdown",
   "metadata": {},
   "source": [
    "The problem with multiple comparisons is that the more hypotheses are tested on a particular data set, the more likely it is to incorrectly reject the null hypothesis. Thus, methods of multiple comparison require a higher significance threshold ($\\alpha$) for individual comparisons, in order to compensate for the number of inferences being made.\n",
    "\n",
    "\n",
    "**The Family-wise error rate**\n",
    "\n",
    "The family-wise error rate is the probability of making one or more false discoveries, or [__Type I errors__]() when performing multiple hypotheses tests.\n",
    "\n",
    "Recall that at a significance level of $\\alpha=0.05$, the probability of making a Type I error is equal to $0.05$ or $5\\%$. Consequently, the probability of not making a Type I error is $1−\\alpha=1−0.05=0.95$\n",
    "\n",
    "\n",
    "Written more formally, for a family of $C$ tests, the probability of making a Type I error for the whole family is\n",
    "\n",
    "$$(1-\\alpha)^C\\text{.}$$\n",
    "\n",
    "Let us now consider $C=4$ and $\\alpha=0.05$.\n",
    "\n",
    "Thus, if we make 4 multiple comparisons on one data set, the probability of making one or more Type I errors on the family of tests is $(1−\\alpha)^C = (1−0.05)^4 = 0.81$\n",
    "\n",
    "\n",
    "Null hypothesis\n",
    "$H_0:\\quad \\mu_1 = \\mu_2 = \\mu_3 = \\mu_4$\n",
    "\n",
    "Alternative hypothesis\n",
    "$H_A:\\quad \\mu_1 \\ne \\mu_2 \\ne \\mu_3 \\ne \\mu_4$\n"
   ]
  },
  {
   "cell_type": "code",
   "execution_count": 16,
   "metadata": {
    "scrolled": true
   },
   "outputs": [
    {
     "data": {
      "text/html": [
       "<table class=\"simpletable\">\n",
       "<caption>Multiple Comparison of Means - Tukey HSD,FWER=0.05</caption>\n",
       "<tr>\n",
       "  <th>group1</th> <th>group2</th> <th>meandiff</th>   <th>lower</th>   <th>upper</th>  <th>reject</th>\n",
       "</tr>\n",
       "<tr>\n",
       "     <td>1</td>      <td>2</td>    <td>24.5622</td>  <td>-4.4462</td> <td>53.5706</td>  <td>False</td>\n",
       "</tr>\n",
       "<tr>\n",
       "     <td>1</td>      <td>3</td>    <td>44.8955</td>  <td>15.8871</td> <td>73.9039</td>  <td>True</td> \n",
       "</tr>\n",
       "<tr>\n",
       "     <td>1</td>      <td>4</td>    <td>36.6555</td>  <td>7.6471</td>  <td>65.6639</td>  <td>True</td> \n",
       "</tr>\n",
       "<tr>\n",
       "     <td>2</td>      <td>3</td>    <td>20.3333</td> <td>-13.1627</td> <td>53.8294</td>  <td>False</td>\n",
       "</tr>\n",
       "<tr>\n",
       "     <td>2</td>      <td>4</td>    <td>12.0933</td> <td>-21.4027</td> <td>45.5894</td>  <td>False</td>\n",
       "</tr>\n",
       "<tr>\n",
       "     <td>3</td>      <td>4</td>     <td>-8.24</td>   <td>-41.736</td> <td>25.256</td>   <td>False</td>\n",
       "</tr>\n",
       "</table>"
      ],
      "text/plain": [
       "<class 'statsmodels.iolib.table.SimpleTable'>"
      ]
     },
     "execution_count": 16,
     "metadata": {},
     "output_type": "execute_result"
    }
   ],
   "source": [
    "from statsmodels.sandbox.stats.multicomp import MultiComparison\n",
    "mult_comp = MultiComparison(chicken[\"weight\"], chicken[\"Diet\"])\n",
    "mult_comp.tukeyhsd(alpha=0.05).summary()"
   ]
  },
  {
   "cell_type": "code",
   "execution_count": 17,
   "metadata": {},
   "outputs": [
    {
     "data": {
      "image/png": "[encoded data removed]",
      "text/plain": [
       "<matplotlib.figure.Figure at 0x92246a0>"
      ]
     },
     "metadata": {},
     "output_type": "display_data"
    }
   ],
   "source": [
    "_ = mult_comp.tukeyhsd(alpha=0.05).plot_simultaneous()"
   ]
  }
 ],
 "metadata": {
  "kernelspec": {
   "display_name": "Python 3",
   "language": "python",
   "name": "python3"
  },
  "language_info": {
   "codemirror_mode": {
    "name": "ipython",
    "version": 3
   },
   "file_extension": ".py",
   "mimetype": "text/x-python",
   "name": "python",
   "nbconvert_exporter": "python",
   "pygments_lexer": "ipython3",
   "version": "3.6.4"
  },
  "livereveal": {
   "scroll": true,
   "start_slideshow_at": "selected"
  }
 },
 "nbformat": 4,
 "nbformat_minor": 2
}
