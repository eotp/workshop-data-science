{
 "cells": [
  {
   "cell_type": "markdown",
   "metadata": {
    "slideshow": {
     "slide_type": "slide"
    }
   },
   "source": [
    "# Workshop on Data Science and Predictive Modelling\n",
    "\n",
    "## @CODE University Berlin\n",
    "\n",
    "March 12 and 19th, 2018, 13:30 to 16:30   \n",
    "\n",
    "\n",
    "\n",
    "**Instructors**   \n",
    "Joachim Krois (Charité $-$ Universitätsmedizin Berlin)   \n",
    "email: joachim.krois@charite.de\n",
    "\n",
    "Jonas Geistert (Technische Universität Berlin)   \n",
    "email: geistert@tu-berlin.de   \n"
   ]
  },
  {
   "cell_type": "markdown",
   "metadata": {
    "slideshow": {
     "slide_type": "slide"
    }
   },
   "source": [
    "# Schedule\n",
    "\n",
    "\n",
    "<ol start=\"0\">\n",
    "  <li>Set up of computational environment</li>\n",
    "  <li>Introduction to Data Science with Python</li>\n",
    "  <li>The Python Ecosystem</li>\n",
    "  <li>Exploratory Data Analysis</li>\n",
    "  <li>Predictive Modeling</li>\n",
    "</ol>"
   ]
  },
  {
   "cell_type": "markdown",
   "metadata": {
    "slideshow": {
     "slide_type": "slide"
    }
   },
   "source": [
    "# Set up of computational environment\n",
    "\n",
    "This workshop is a hands-on workshop! Hence, we first have to share the code and prepare our computational environment."
   ]
  },
  {
   "cell_type": "markdown",
   "metadata": {
    "slideshow": {
     "slide_type": "subslide"
    }
   },
   "source": [
    "## Code and data sets\n",
    "\n",
    "All relevant code snippets and data sets, respectively, are hosted on [github](https://github.com/). Clone/download the workshop materials into a folder on your machine.\n",
    "\n",
    "**repo: https://github.com/eotp/workshop-data-science**\n",
    "\n",
    "***\n",
    "\n",
    "**Instructions:**\n",
    "\n",
    "Switch to a folder of your choice.\n",
    "\n",
    "    cd mystuff\n",
    "  \n",
    "Run the `git` command.\n",
    "\n",
    "    git clone https://github.com/eotp/workshop-data-science\n",
    " \n",
    "Alternatively, vist the github repository [online](https://github.com/eotp/workshop-data-science), click on `download`, save the archive and extract the files into a folder of your choice.\n"
   ]
  },
  {
   "cell_type": "markdown",
   "metadata": {
    "slideshow": {
     "slide_type": "subslide"
    }
   },
   "source": [
    "## Python and the package manager Conda\n",
    "\n",
    "We use Python througout the workshop. We further use some additional packages, and installing them individually can be a bit difficult. Hence, we recommend to install [Miniconda](https://github.com/conda/conda), which comes with Python (please use 3.x, 3.6 is fine) and the package manager Conda.    \n",
    "(_Note that Conda is a part of the [Anaconda](https://www.anaconda.com/download/) distribution. If you are already using the Anaconda distribution you may skip installing Miniconda!_)\n",
    "\n",
    "Download Miniconda [here](https://conda.io/miniconda.html) and follow the installation instructions. "
   ]
  },
  {
   "cell_type": "markdown",
   "metadata": {
    "slideshow": {
     "slide_type": "subslide"
    }
   },
   "source": [
    "## Creating a conda environment\n",
    "\n",
    "Once you have installed the Conda package manager, we create a virtual environment by installing Python and all other packages used during this workshop.\n",
    "\n",
    "Move to your working directory and type one of the following commands with respect to your operating system.\n",
    "\n",
    "@LINUX   \n",
    "\n",
    "    conda create -n data-science -f requirements.yml   \n",
    "    \n",
    "@MAC OS\n",
    "\n",
    "    conda create -n data-science -f requirements_MACOS.yml   \n",
    "    \n",
    "@WINDOS\n",
    "\n",
    "    conda create -n data-science -f requirements_WIN.yml   \n",
    "\n"
   ]
  },
  {
   "cell_type": "markdown",
   "metadata": {
    "slideshow": {
     "slide_type": "subslide"
    }
   },
   "source": [
    "## Jupyter notebooks\n",
    "We will teach Python using the [Jupyter notebook](http://jupyter.org/), a programming environment that runs in a web browser. For this to work you will need a reasonably up-to-date browser. The current versions of the Chrome, Safari and Firefox browsers are all supported (some older browsers, including Internet Explorer version 9 and below, are not). \n",
    "\n",
    "\n",
    "First, we **activate our recently created environment** by executing one of the follwing commands:\n",
    "\n",
    "@LINUX & MAC OS\n",
    "\n",
    "    source activate data-science\n",
    "    \n",
    "@WINDOS    \n",
    "\n",
    "    activate data-science\n",
    "   \n",
    "\n",
    "Second, we **fire up a notebook server** by executing the following command (make sure to lauch the notbook sever from within your working directory):\n",
    "\n",
    "    jupyter notebook\n",
    "    \n",
    "If everything worked out fine, a new browser window opens automatically and shows the file system of your current working directory."
   ]
  },
  {
   "cell_type": "markdown",
   "metadata": {
    "slideshow": {
     "slide_type": "subslide"
    }
   },
   "source": [
    "## Summary\n",
    "\n",
    "* Clone/download workshop materials   \n",
    "* Download the [conda package manager](https://conda.io/miniconda.html) and create a Conda environment   \n",
    "* Install additional packages/libraries such as numpy, pandas, matplotlib, scikit-learn, among others\n",
    "* Launch the Jupyter notebook server"
   ]
  }
 ],
 "metadata": {
  "celltoolbar": "Slideshow",
  "kernelspec": {
   "display_name": "Python 3",
   "language": "python",
   "name": "python3"
  },
  "language_info": {
   "codemirror_mode": {
    "name": "ipython",
    "version": 3
   },
   "file_extension": ".py",
   "mimetype": "text/x-python",
   "name": "python",
   "nbconvert_exporter": "python",
   "pygments_lexer": "ipython3",
   "version": "3.6.4"
  },
  "livereveal": {
   "scroll": true,
   "start_slideshow_at": "selected"
  }
 },
 "nbformat": 4,
 "nbformat_minor": 2
}
