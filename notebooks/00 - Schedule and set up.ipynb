{
 "cells": [
  {
   "cell_type": "markdown",
   "metadata": {
    "slideshow": {
     "slide_type": "slide"
    }
   },
   "source": [
    "# Workshop on Data Science and Predictive Modelling\n",
    "\n",
    "## @CODE University Berlin\n",
    "\n",
    "March 12 and 19th, 2018, 13:30 to 16:30   \n",
    "\n",
    "\n",
    "\n",
    "**Instructors**   \n",
    "Joachim Krois (Charité $-$ Universitätsmedizin Berlin)   \n",
    "email: joachim.krois@charite.de\n",
    "\n",
    "Jonas Geistert (Technische Universität Berlin)   \n",
    "email: geistert@tu-berlin.de   \n"
   ]
  },
  {
   "cell_type": "markdown",
   "metadata": {
    "slideshow": {
     "slide_type": "slide"
    }
   },
   "source": [
    "# Schedule\n",
    "\n",
    "\n",
    "\n",
    "1. Set up of computational environment\n",
    "2. Introduction to Data Science with Python  \n",
    "3. **Exploratory Data Analysis** (March 12, 2018)\n",
    "4. **Predictive Modeling** (March 19, 2018)\n",
    "\n",
    "\n"
   ]
  },
  {
   "cell_type": "markdown",
   "metadata": {
    "slideshow": {
     "slide_type": "slide"
    }
   },
   "source": [
    "# Set up of computational environment\n",
    "\n",
    "This workshop is a hands-on workshop! Hence, we first have to share the code and prepare our computational environment."
   ]
  },
  {
   "cell_type": "markdown",
   "metadata": {
    "slideshow": {
     "slide_type": "subslide"
    }
   },
   "source": [
    "## Code and data sets\n",
    "\n",
    "All relevant conde and data sets respectve are hostes on github. Clone/download workshop materials into a folder on your machine.\n",
    "\n",
    "**repo: https://github.com/eotp/workshop-data-science**\n",
    "\n",
    "***\n",
    "\n",
    "**Instructions:**\n",
    "\n",
    "Switch to a folder of your choice.\n",
    "\n",
    "    cd mystuff\n",
    "  \n",
    "Run the `git` command.\n",
    "\n",
    "    git clone https://github.com/eotp/workshop-data-science\n",
    " \n",
    "Alternatively, vist the github repository online, click on `download`, save the archive and extract the files into a folder of your choice.\n"
   ]
  },
  {
   "cell_type": "markdown",
   "metadata": {
    "slideshow": {
     "slide_type": "subslide"
    }
   },
   "source": [
    "## Python and the package manager Conda\n",
    "\n",
    "We use Python througout the workshop. We further use some additional packages, and installing them individually can be a bit difficult. Hence, we recommend to install [Miniconda](https://github.com/conda/conda), which comes with Python (please use 3.x, 3.6 is fine) and the package manager Conda.    \n",
    "(_Note that Conda is a part of the [Anaconda](https://www.anaconda.com/download/) distribution. If you are already using the Anaconda distribution you may skip installing Miniconda!_)\n",
    "\n",
    "Download Miniconda [here](https://conda.io/miniconda.html) and follow the installation instructions. "
   ]
  },
  {
   "cell_type": "markdown",
   "metadata": {
    "slideshow": {
     "slide_type": "subslide"
    }
   },
   "source": [
    "## Creating a conda environment\n",
    "\n",
    "\n"
   ]
  },
  {
   "cell_type": "markdown",
   "metadata": {
    "slideshow": {
     "slide_type": "subslide"
    }
   },
   "source": [
    "## Jupyter notebooks\n",
    "We will teach Python using the [Jupyter notebook](http://jupyter.org/), a programming environment that runs in a web browser. For this to work you will need a reasonably up-to-date browser. The current versions of the Chrome, Safari and Firefox browsers are all supported (some older browsers, including Internet Explorer version 9 and below, are not). "
   ]
  },
  {
   "cell_type": "code",
   "execution_count": null,
   "metadata": {
    "collapsed": true
   },
   "outputs": [],
   "source": []
  },
  {
   "cell_type": "markdown",
   "metadata": {
    "slideshow": {
     "slide_type": "fragment"
    }
   },
   "source": [
    "**Summary**\n",
    "\n",
    "* Clone/download workshop materials   \n",
    "* Download the [conda package manager](https://conda.io/miniconda.html) and create a `conda` environment   \n",
    "* Install additional packages/libraries such as `numpy`, `pandas`, `matplotlib`, `scikit-learn`, among others"
   ]
  },
  {
   "cell_type": "markdown",
   "metadata": {
    "slideshow": {
     "slide_type": "slide"
    }
   },
   "source": [
    "# Schedule\n",
    "\n",
    "\n",
    "\n",
    "\n",
    "\n",
    "## Set up of computational environment\n",
    "\n",
    "* Clone/download workshop materials   \n",
    "* Download the [conda package manager](https://conda.io/miniconda.html) and create a `conda` environment   \n",
    "* Install additional packages/libraries such as `numpy`, `pandas`, `matplotlib`, `scikit-learn`, among others\n",
    "\n",
    "\n",
    "## Introduction to Data Science with Python\n",
    "\n",
    "* What is data science?   \n",
    "* Why Python?   \n",
    "* The Python ecosystem   \n",
    "\n",
    "\n",
    "## Part A - Exploratory Data Analysis (March 12, 2018)\n",
    "The first part of the workshop focuses on data I/O, data munging, data visualizations and basic statistics.\n",
    "\n",
    "* data I/O\n",
    "* data types and level of measurement (numeric,  categorical, ...)\n",
    "* dealing with missing values\n",
    "* indexing, subsetting, filtering\n",
    "* descriptive statistics\n",
    "* split-apply-combine paradigm\n",
    "* visualizations\n",
    "\n",
    "\n",
    "## Part B - Predictive Modeling (March 19, 2018)\n",
    "The second part of the workshop focuses on predictive modeling with shallow learning algorithms.\n",
    "\n",
    "* data munging\n",
    "* feature engineering\n",
    "* inferential statistics\n",
    "* shallow learning algorithms (regression, tree-based ensemble learning, support vector machines,...)\n",
    "* model selection\n",
    "* hyper parameter tuning\n",
    "* model validation\n",
    "\n",
    "***\n",
    "\n",
    "\n",
    "\n",
    "\n"
   ]
  },
  {
   "cell_type": "code",
   "execution_count": null,
   "metadata": {
    "collapsed": true
   },
   "outputs": [],
   "source": []
  }
 ],
 "metadata": {
  "celltoolbar": "Slideshow",
  "kernelspec": {
   "display_name": "Python [default]",
   "language": "python",
   "name": "python3"
  },
  "language_info": {
   "codemirror_mode": {
    "name": "ipython",
    "version": 3
   },
   "file_extension": ".py",
   "mimetype": "text/x-python",
   "name": "python",
   "nbconvert_exporter": "python",
   "pygments_lexer": "ipython3",
   "version": "3.6.3"
  }
 },
 "nbformat": 4,
 "nbformat_minor": 2
}
