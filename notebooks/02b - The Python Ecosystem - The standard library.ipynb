{
 "cells": [
  {
   "cell_type": "markdown",
   "metadata": {
    "slideshow": {
     "slide_type": "-"
    }
   },
   "source": [
    "# The Python ecosystem - The standard library"
   ]
  },
  {
   "cell_type": "markdown",
   "metadata": {
    "slideshow": {
     "slide_type": "-"
    }
   },
   "source": [
    "***\n",
    "## The standard library"
   ]
  },
  {
   "cell_type": "markdown",
   "metadata": {
    "slideshow": {
     "slide_type": "-"
    }
   },
   "source": [
    "The **Python Standard Library** contains a huge number of useful modules and is part of every standard Python installation. \n",
    "Complete details for all of the modules in the Python Standard Library in found at the [Library Reference manual](https://docs.python.org/3/library/). \n",
    "In order to further explore the standard library check out Doug Hellmann's awesome [Python Module of the Week (PyMOTW)](https://pymotw.com/3/about.html) series.\n",
    "\n",
    "\n",
    "\n",
    "\n",
    "In this section we mention just two useful modules.\n",
    "\n",
    "\n",
    "* `glob` – Filename pattern matching\n",
    "* `os` – Portable access to operating system specific features¶"
   ]
  },
  {
   "cell_type": "markdown",
   "metadata": {
    "slideshow": {
     "slide_type": "-"
    }
   },
   "source": [
    "###  `glob` – Filename pattern matching \n",
    "\n",
    "Use Unix shell rules to fine filenames matching a pattern.\n",
    "\n",
    "The module is useful in any situation where your program needs to look for a list of files on the filesystem with names matching a pattern. If you need a list of filenames that all have a certain extension, prefix, or any common string in the middle, use `glob` instead of writing code to scan the directory contents yourself.Note that the pattern rules for `glob` are not regular expressions. Instead, they follow standard Unix path expansion rules. "
   ]
  },
  {
   "cell_type": "code",
   "execution_count": 9,
   "metadata": {
    "slideshow": {
     "slide_type": "-"
    }
   },
   "outputs": [
    {
     "name": "stdout",
     "output_type": "stream",
     "text": [
      ".\\00 - Schedule and set up.ipynb\n",
      ".\\00a Introduction to Jupyter Notebooks.ipynb\n",
      ".\\01 - Python for Data Science.ipynb\n",
      ".\\02 - The Python Ecosystem.ipynb\n",
      ".\\WWII_Attacks_Exploratory Data Analysis.ipynb\n",
      ".\\_img\n"
     ]
    }
   ],
   "source": [
    "import glob\n",
    "for name in glob.glob('./*'):\n",
    "    print(name)"
   ]
  },
  {
   "cell_type": "code",
   "execution_count": 10,
   "metadata": {
    "slideshow": {
     "slide_type": "-"
    }
   },
   "outputs": [
    {
     "name": "stdout",
     "output_type": "stream",
     "text": [
      ".\\00 - Schedule and set up.ipynb\n",
      ".\\00a Introduction to Jupyter Notebooks.ipynb\n",
      ".\\01 - Python for Data Science.ipynb\n",
      ".\\02 - The Python Ecosystem.ipynb\n",
      ".\\WWII_Attacks_Exploratory Data Analysis.ipynb\n"
     ]
    }
   ],
   "source": [
    "for name in glob.glob('./*.ipynb'):\n",
    "    print(name)"
   ]
  },
  {
   "cell_type": "markdown",
   "metadata": {
    "slideshow": {
     "slide_type": "-"
    }
   },
   "source": [
    "### `os` – Portable access to operating system specific features\n",
    "\n",
    "The `os` module provides a wrapper for platform specific modules. Not all functions are available on all platforms. \n"
   ]
  },
  {
   "cell_type": "code",
   "execution_count": 11,
   "metadata": {
    "slideshow": {
     "slide_type": "-"
    }
   },
   "outputs": [
    {
     "name": "stdout",
     "output_type": "stream",
     "text": [
      "Starting: C:\\Users\\josi\\Documents\\workshop-data-science\\notebooks\n",
      "Moving up one: ..\n",
      "After move: C:\\Users\\josi\\Documents\\workshop-data-science\n"
     ]
    }
   ],
   "source": [
    "import os\n",
    "\n",
    "cwd = os.getcwd()\n",
    "print('Starting: {}'.format(cwd))\n",
    "\n",
    "print('Moving up one: {}'.format(os.pardir))\n",
    "os.chdir(os.pardir)\n",
    "print('After move: {}'.format(os.getcwd()))\n",
    "\n",
    "# reset previous working directtory\n",
    "os.chdir(cwd)"
   ]
  }
 ],
 "metadata": {
  "kernelspec": {
   "display_name": "Python 3",
   "language": "python",
   "name": "python3"
  },
  "language_info": {
   "codemirror_mode": {
    "name": "ipython",
    "version": 3
   },
   "file_extension": ".py",
   "mimetype": "text/x-python",
   "name": "python",
   "nbconvert_exporter": "python",
   "pygments_lexer": "ipython3",
   "version": "3.6.4"
  },
  "livereveal": {
   "scroll": true,
   "start_slideshow_at": "selected"
  }
 },
 "nbformat": 4,
 "nbformat_minor": 2
}
