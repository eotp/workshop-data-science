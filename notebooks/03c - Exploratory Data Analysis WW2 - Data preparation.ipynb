{
 "cells": [
  {
   "cell_type": "markdown",
   "metadata": {},
   "source": [
    "# Exploratory Data Analysis in Action - Data preparation\n",
    "\n",
    "In this notebook we apply some usefull techniques for cleaning and organizing our data set.\n"
   ]
  },
  {
   "cell_type": "markdown",
   "metadata": {},
   "source": [
    "**Import statements**\n",
    "\n"
   ]
  },
  {
   "cell_type": "code",
   "execution_count": 1,
   "metadata": {},
   "outputs": [],
   "source": [
    "import numpy as np\n",
    "import pandas as pd\n",
    "import matplotlib.pyplot as plt\n",
    "%matplotlib inline"
   ]
  },
  {
   "cell_type": "markdown",
   "metadata": {},
   "source": [
    "**Global settings**"
   ]
  },
  {
   "cell_type": "code",
   "execution_count": 2,
   "metadata": {},
   "outputs": [],
   "source": [
    "pd.options.display.max_rows = 999\n",
    "pd.options.display.max_columns = 100\n",
    "#pd.set_option('display.max_colwidth', -1)\n",
    "plt.rcParams[\"figure.figsize\"] = [15,6]"
   ]
  },
  {
   "cell_type": "markdown",
   "metadata": {},
   "source": [
    "## Cleaning and organizing data"
   ]
  },
  {
   "cell_type": "markdown",
   "metadata": {},
   "source": [
    "![](./_img/Time_data_science.png)\n",
    "\n",
    "Source: [Gil Press (2016)](https://www.forbes.com/sites/gilpress/2016/03/23/data-preparation-most-time-consuming-least-enjoyable-data-science-task-survey-says/#55852a146f63)"
   ]
  },
  {
   "cell_type": "markdown",
   "metadata": {},
   "source": [
    "**Load data set**"
   ]
  },
  {
   "cell_type": "code",
   "execution_count": 3,
   "metadata": {},
   "outputs": [],
   "source": [
    "PATH = \"../datasets/\"\n",
    "df_raw = pd.read_csv(PATH + \"operations.csv\", low_memory=False)"
   ]
  },
  {
   "cell_type": "markdown",
   "metadata": {},
   "source": [
    "## Data cleaning\n",
    "\n",
    "[Data cleansing or data cleaning](https://en.wikipedia.org/wiki/Data_cleansing) is the process of **detecting and correcting (or removing) corrupt or inaccurate records** from a record set, table, or database and refers to **identifying incomplete, incorrect, inaccurate or irrelevant parts of the data and then replacing, modifying, or deleting the dirty or coarse data**."
   ]
  },
  {
   "cell_type": "code",
   "execution_count": 4,
   "metadata": {},
   "outputs": [],
   "source": [
    "df_clean = df_raw.copy()"
   ]
  },
  {
   "cell_type": "code",
   "execution_count": 5,
   "metadata": {},
   "outputs": [
    {
     "data": {
      "text/html": [
       "<div>\n",
       "<style scoped>\n",
       "    .dataframe tbody tr th:only-of-type {\n",
       "        vertical-align: middle;\n",
       "    }\n",
       "\n",
       "    .dataframe tbody tr th {\n",
       "        vertical-align: top;\n",
       "    }\n",
       "\n",
       "    .dataframe thead th {\n",
       "        text-align: right;\n",
       "    }\n",
       "</style>\n",
       "<table border=\"1\" class=\"dataframe\">\n",
       "  <thead>\n",
       "    <tr style=\"text-align: right;\">\n",
       "      <th></th>\n",
       "      <th>Mission ID</th>\n",
       "      <th>Mission Date</th>\n",
       "      <th>Theater of Operations</th>\n",
       "      <th>Country</th>\n",
       "      <th>Air Force</th>\n",
       "      <th>Unit ID</th>\n",
       "      <th>Aircraft Series</th>\n",
       "      <th>Callsign</th>\n",
       "      <th>Mission Type</th>\n",
       "      <th>Takeoff Base</th>\n",
       "      <th>Takeoff Location</th>\n",
       "      <th>Takeoff Latitude</th>\n",
       "      <th>Takeoff Longitude</th>\n",
       "      <th>Target ID</th>\n",
       "      <th>Target Country</th>\n",
       "      <th>Target City</th>\n",
       "      <th>Target Type</th>\n",
       "      <th>Target Industry</th>\n",
       "      <th>Target Priority</th>\n",
       "      <th>Target Latitude</th>\n",
       "      <th>Target Longitude</th>\n",
       "      <th>Altitude (Hundreds of Feet)</th>\n",
       "      <th>Airborne Aircraft</th>\n",
       "      <th>Attacking Aircraft</th>\n",
       "      <th>Bombing Aircraft</th>\n",
       "      <th>Aircraft Returned</th>\n",
       "      <th>Aircraft Failed</th>\n",
       "      <th>Aircraft Damaged</th>\n",
       "      <th>Aircraft Lost</th>\n",
       "      <th>High Explosives</th>\n",
       "      <th>High Explosives Type</th>\n",
       "      <th>High Explosives Weight (Pounds)</th>\n",
       "      <th>High Explosives Weight (Tons)</th>\n",
       "      <th>Incendiary Devices</th>\n",
       "      <th>Incendiary Devices Type</th>\n",
       "      <th>Incendiary Devices Weight (Pounds)</th>\n",
       "      <th>Incendiary Devices Weight (Tons)</th>\n",
       "      <th>Fragmentation Devices</th>\n",
       "      <th>Fragmentation Devices Type</th>\n",
       "      <th>Fragmentation Devices Weight (Pounds)</th>\n",
       "      <th>Fragmentation Devices Weight (Tons)</th>\n",
       "      <th>Total Weight (Pounds)</th>\n",
       "      <th>Total Weight (Tons)</th>\n",
       "      <th>Time Over Target</th>\n",
       "      <th>Bomb Damage Assessment</th>\n",
       "      <th>Source ID</th>\n",
       "    </tr>\n",
       "  </thead>\n",
       "  <tbody>\n",
       "    <tr>\n",
       "      <th>73857</th>\n",
       "      <td>74050</td>\n",
       "      <td>4/10/1945</td>\n",
       "      <td>ETO</td>\n",
       "      <td>USA</td>\n",
       "      <td>8 AF</td>\n",
       "      <td>NaN</td>\n",
       "      <td>A26</td>\n",
       "      <td>NaN</td>\n",
       "      <td>NaN</td>\n",
       "      <td>NaN</td>\n",
       "      <td>NaN</td>\n",
       "      <td>NaN</td>\n",
       "      <td>NaN</td>\n",
       "      <td>12094</td>\n",
       "      <td>CZECHOSLOVAKIA</td>\n",
       "      <td>EGER</td>\n",
       "      <td>MARSHALLING YARDS</td>\n",
       "      <td>\"RR INSTALLATIONS,  TRACKS,  MARSHALLING YARDS...</td>\n",
       "      <td>NaN</td>\n",
       "      <td>50.08</td>\n",
       "      <td>12.370000</td>\n",
       "      <td>80.0</td>\n",
       "      <td>NaN</td>\n",
       "      <td>NaN</td>\n",
       "      <td>NaN</td>\n",
       "      <td>NaN</td>\n",
       "      <td>NaN</td>\n",
       "      <td>NaN</td>\n",
       "      <td>NaN</td>\n",
       "      <td>NaN</td>\n",
       "      <td>NaN</td>\n",
       "      <td>NaN</td>\n",
       "      <td>43.0</td>\n",
       "      <td>NaN</td>\n",
       "      <td>NaN</td>\n",
       "      <td>NaN</td>\n",
       "      <td>NaN</td>\n",
       "      <td>NaN</td>\n",
       "      <td>NaN</td>\n",
       "      <td>NaN</td>\n",
       "      <td>NaN</td>\n",
       "      <td>NaN</td>\n",
       "      <td>43.0</td>\n",
       "      <td>NaN</td>\n",
       "      <td>NaN</td>\n",
       "      <td>221640.0</td>\n",
       "    </tr>\n",
       "    <tr>\n",
       "      <th>100845</th>\n",
       "      <td>101271</td>\n",
       "      <td>8/28/1941</td>\n",
       "      <td>ETO</td>\n",
       "      <td>GREAT BRITAIN</td>\n",
       "      <td>RAF</td>\n",
       "      <td>NaN</td>\n",
       "      <td>HALI</td>\n",
       "      <td>NaN</td>\n",
       "      <td>NaN</td>\n",
       "      <td>NaN</td>\n",
       "      <td>NaN</td>\n",
       "      <td>NaN</td>\n",
       "      <td>NaN</td>\n",
       "      <td>11602</td>\n",
       "      <td>GERMANY</td>\n",
       "      <td>DUISBURG</td>\n",
       "      <td>NaN</td>\n",
       "      <td>\"RR INSTALLATIONS,  TRACKS,  MARSHALLING YARDS...</td>\n",
       "      <td>NaN</td>\n",
       "      <td>51.43</td>\n",
       "      <td>6.750000</td>\n",
       "      <td>130.0</td>\n",
       "      <td>5.0</td>\n",
       "      <td>5.0</td>\n",
       "      <td>5.0</td>\n",
       "      <td>NaN</td>\n",
       "      <td>NaN</td>\n",
       "      <td>NaN</td>\n",
       "      <td>NaN</td>\n",
       "      <td>NaN</td>\n",
       "      <td>NaN</td>\n",
       "      <td>NaN</td>\n",
       "      <td>2.0</td>\n",
       "      <td>NaN</td>\n",
       "      <td>NaN</td>\n",
       "      <td>NaN</td>\n",
       "      <td>NaN</td>\n",
       "      <td>NaN</td>\n",
       "      <td>NaN</td>\n",
       "      <td>NaN</td>\n",
       "      <td>NaN</td>\n",
       "      <td>NaN</td>\n",
       "      <td>2.0</td>\n",
       "      <td>NaN</td>\n",
       "      <td>NaN</td>\n",
       "      <td>284790.0</td>\n",
       "    </tr>\n",
       "    <tr>\n",
       "      <th>146976</th>\n",
       "      <td>147437</td>\n",
       "      <td>7/29/1945</td>\n",
       "      <td>PTO</td>\n",
       "      <td>USA</td>\n",
       "      <td>20 AF</td>\n",
       "      <td>888</td>\n",
       "      <td>B29</td>\n",
       "      <td>NaN</td>\n",
       "      <td>99</td>\n",
       "      <td>NaN</td>\n",
       "      <td>NaN</td>\n",
       "      <td>NaN</td>\n",
       "      <td>NaN</td>\n",
       "      <td>NaN</td>\n",
       "      <td>JAPAN</td>\n",
       "      <td>UBE</td>\n",
       "      <td>NIPPON MOTOR OIL COO</td>\n",
       "      <td>NaN</td>\n",
       "      <td>1</td>\n",
       "      <td>33.95</td>\n",
       "      <td>131.233333</td>\n",
       "      <td>0.0</td>\n",
       "      <td>NaN</td>\n",
       "      <td>1.0</td>\n",
       "      <td>NaN</td>\n",
       "      <td>NaN</td>\n",
       "      <td>NaN</td>\n",
       "      <td>NaN</td>\n",
       "      <td>NaN</td>\n",
       "      <td>1.0</td>\n",
       "      <td>10000 LB PUMPKIN BOMB (ATOMIC BOMB TRAINING)</td>\n",
       "      <td>NaN</td>\n",
       "      <td>5.0</td>\n",
       "      <td>NaN</td>\n",
       "      <td>NaN</td>\n",
       "      <td>NaN</td>\n",
       "      <td>NaN</td>\n",
       "      <td>NaN</td>\n",
       "      <td>NaN</td>\n",
       "      <td>NaN</td>\n",
       "      <td>NaN</td>\n",
       "      <td>NaN</td>\n",
       "      <td>5.0</td>\n",
       "      <td>NaN</td>\n",
       "      <td>NaN</td>\n",
       "      <td>56193.0</td>\n",
       "    </tr>\n",
       "    <tr>\n",
       "      <th>76462</th>\n",
       "      <td>76722</td>\n",
       "      <td>4/16/1944</td>\n",
       "      <td>PTO</td>\n",
       "      <td>USA</td>\n",
       "      <td>5 AF</td>\n",
       "      <td>65 BS</td>\n",
       "      <td>B24</td>\n",
       "      <td>NaN</td>\n",
       "      <td>1</td>\n",
       "      <td>NaN</td>\n",
       "      <td>NaN</td>\n",
       "      <td>NaN</td>\n",
       "      <td>NaN</td>\n",
       "      <td>NaN</td>\n",
       "      <td>NEW GUINEA</td>\n",
       "      <td>HOLLANDIA</td>\n",
       "      <td>STORES AREA</td>\n",
       "      <td>NaN</td>\n",
       "      <td>1</td>\n",
       "      <td>-2.50</td>\n",
       "      <td>140.750000</td>\n",
       "      <td>120.0</td>\n",
       "      <td>NaN</td>\n",
       "      <td>6.0</td>\n",
       "      <td>NaN</td>\n",
       "      <td>NaN</td>\n",
       "      <td>NaN</td>\n",
       "      <td>NaN</td>\n",
       "      <td>NaN</td>\n",
       "      <td>48.0</td>\n",
       "      <td>1000 LB GP (GP-M44/M65)</td>\n",
       "      <td>NaN</td>\n",
       "      <td>24.0</td>\n",
       "      <td>NaN</td>\n",
       "      <td>NaN</td>\n",
       "      <td>NaN</td>\n",
       "      <td>NaN</td>\n",
       "      <td>NaN</td>\n",
       "      <td>NaN</td>\n",
       "      <td>NaN</td>\n",
       "      <td>NaN</td>\n",
       "      <td>NaN</td>\n",
       "      <td>24.0</td>\n",
       "      <td>NaN</td>\n",
       "      <td>NaN</td>\n",
       "      <td>8671.0</td>\n",
       "    </tr>\n",
       "    <tr>\n",
       "      <th>9202</th>\n",
       "      <td>9203</td>\n",
       "      <td>8/6/1944</td>\n",
       "      <td>ETO</td>\n",
       "      <td>NaN</td>\n",
       "      <td>NaN</td>\n",
       "      <td>NaN</td>\n",
       "      <td>B26</td>\n",
       "      <td>NaN</td>\n",
       "      <td>NaN</td>\n",
       "      <td>NaN</td>\n",
       "      <td>NaN</td>\n",
       "      <td>NaN</td>\n",
       "      <td>NaN</td>\n",
       "      <td>9749</td>\n",
       "      <td>FRANCE</td>\n",
       "      <td>COURTALAIN</td>\n",
       "      <td>NaN</td>\n",
       "      <td>BRIDGES</td>\n",
       "      <td>NaN</td>\n",
       "      <td>48.10</td>\n",
       "      <td>1.130000</td>\n",
       "      <td>126.0</td>\n",
       "      <td>NaN</td>\n",
       "      <td>NaN</td>\n",
       "      <td>NaN</td>\n",
       "      <td>NaN</td>\n",
       "      <td>NaN</td>\n",
       "      <td>NaN</td>\n",
       "      <td>NaN</td>\n",
       "      <td>NaN</td>\n",
       "      <td>NaN</td>\n",
       "      <td>NaN</td>\n",
       "      <td>72.0</td>\n",
       "      <td>NaN</td>\n",
       "      <td>NaN</td>\n",
       "      <td>NaN</td>\n",
       "      <td>NaN</td>\n",
       "      <td>NaN</td>\n",
       "      <td>NaN</td>\n",
       "      <td>NaN</td>\n",
       "      <td>NaN</td>\n",
       "      <td>NaN</td>\n",
       "      <td>72.0</td>\n",
       "      <td>NaN</td>\n",
       "      <td>NaN</td>\n",
       "      <td>210059.0</td>\n",
       "    </tr>\n",
       "    <tr>\n",
       "      <th>125592</th>\n",
       "      <td>126053</td>\n",
       "      <td>6/6/1944</td>\n",
       "      <td>ETO</td>\n",
       "      <td>USA</td>\n",
       "      <td>8 AF</td>\n",
       "      <td>NaN</td>\n",
       "      <td>GB24</td>\n",
       "      <td>NaN</td>\n",
       "      <td>NaN</td>\n",
       "      <td>NaN</td>\n",
       "      <td>NaN</td>\n",
       "      <td>NaN</td>\n",
       "      <td>NaN</td>\n",
       "      <td>6882</td>\n",
       "      <td>FRANCE</td>\n",
       "      <td>CAEN</td>\n",
       "      <td>TACTICAL TARGETS</td>\n",
       "      <td>TACTICAL TARGETS: (UNIDENTIFIED OR NOT LISTED ...</td>\n",
       "      <td>1</td>\n",
       "      <td>49.18</td>\n",
       "      <td>-0.370000</td>\n",
       "      <td>207.0</td>\n",
       "      <td>9.0</td>\n",
       "      <td>9.0</td>\n",
       "      <td>9.0</td>\n",
       "      <td>NaN</td>\n",
       "      <td>NaN</td>\n",
       "      <td>NaN</td>\n",
       "      <td>NaN</td>\n",
       "      <td>NaN</td>\n",
       "      <td>NaN</td>\n",
       "      <td>NaN</td>\n",
       "      <td>27.0</td>\n",
       "      <td>NaN</td>\n",
       "      <td>NaN</td>\n",
       "      <td>NaN</td>\n",
       "      <td>NaN</td>\n",
       "      <td>NaN</td>\n",
       "      <td>NaN</td>\n",
       "      <td>NaN</td>\n",
       "      <td>NaN</td>\n",
       "      <td>NaN</td>\n",
       "      <td>27.0</td>\n",
       "      <td>NaN</td>\n",
       "      <td>NaN</td>\n",
       "      <td>205669.0</td>\n",
       "    </tr>\n",
       "    <tr>\n",
       "      <th>38431</th>\n",
       "      <td>38432</td>\n",
       "      <td>3/21/1945</td>\n",
       "      <td>ETO</td>\n",
       "      <td>NaN</td>\n",
       "      <td>NaN</td>\n",
       "      <td>NaN</td>\n",
       "      <td>B17</td>\n",
       "      <td>NaN</td>\n",
       "      <td>NaN</td>\n",
       "      <td>NaN</td>\n",
       "      <td>NaN</td>\n",
       "      <td>NaN</td>\n",
       "      <td>NaN</td>\n",
       "      <td>32066</td>\n",
       "      <td>GERMANY</td>\n",
       "      <td>OLDENBURG</td>\n",
       "      <td>AIRDROME</td>\n",
       "      <td>AIR FIELDS AND AIRDROMES</td>\n",
       "      <td>1</td>\n",
       "      <td>53.95</td>\n",
       "      <td>13.560000</td>\n",
       "      <td>242.0</td>\n",
       "      <td>37.0</td>\n",
       "      <td>37.0</td>\n",
       "      <td>37.0</td>\n",
       "      <td>NaN</td>\n",
       "      <td>NaN</td>\n",
       "      <td>NaN</td>\n",
       "      <td>NaN</td>\n",
       "      <td>NaN</td>\n",
       "      <td>NaN</td>\n",
       "      <td>NaN</td>\n",
       "      <td>129.0</td>\n",
       "      <td>NaN</td>\n",
       "      <td>NaN</td>\n",
       "      <td>NaN</td>\n",
       "      <td>NaN</td>\n",
       "      <td>NaN</td>\n",
       "      <td>NaN</td>\n",
       "      <td>NaN</td>\n",
       "      <td>NaN</td>\n",
       "      <td>NaN</td>\n",
       "      <td>129.0</td>\n",
       "      <td>NaN</td>\n",
       "      <td>NaN</td>\n",
       "      <td>218712.0</td>\n",
       "    </tr>\n",
       "    <tr>\n",
       "      <th>46454</th>\n",
       "      <td>46512</td>\n",
       "      <td>2/21/1944</td>\n",
       "      <td>ETO</td>\n",
       "      <td>USA</td>\n",
       "      <td>9 AF</td>\n",
       "      <td>NaN</td>\n",
       "      <td>GB17</td>\n",
       "      <td>NaN</td>\n",
       "      <td>NaN</td>\n",
       "      <td>NaN</td>\n",
       "      <td>NaN</td>\n",
       "      <td>NaN</td>\n",
       "      <td>NaN</td>\n",
       "      <td>99997</td>\n",
       "      <td>GERMANY</td>\n",
       "      <td>CITY TOT UNDER 6 TON</td>\n",
       "      <td>UNIDENTIFIED TARGETS</td>\n",
       "      <td>UNIDENTIFIED TARGETS</td>\n",
       "      <td>1</td>\n",
       "      <td>NaN</td>\n",
       "      <td>NaN</td>\n",
       "      <td>225.0</td>\n",
       "      <td>NaN</td>\n",
       "      <td>NaN</td>\n",
       "      <td>NaN</td>\n",
       "      <td>NaN</td>\n",
       "      <td>NaN</td>\n",
       "      <td>NaN</td>\n",
       "      <td>NaN</td>\n",
       "      <td>NaN</td>\n",
       "      <td>NaN</td>\n",
       "      <td>NaN</td>\n",
       "      <td>1.0</td>\n",
       "      <td>NaN</td>\n",
       "      <td>NaN</td>\n",
       "      <td>NaN</td>\n",
       "      <td>NaN</td>\n",
       "      <td>NaN</td>\n",
       "      <td>NaN</td>\n",
       "      <td>NaN</td>\n",
       "      <td>NaN</td>\n",
       "      <td>NaN</td>\n",
       "      <td>1.0</td>\n",
       "      <td>NaN</td>\n",
       "      <td>NaN</td>\n",
       "      <td>162554.0</td>\n",
       "    </tr>\n",
       "    <tr>\n",
       "      <th>84815</th>\n",
       "      <td>85188</td>\n",
       "      <td>4/14/1945</td>\n",
       "      <td>MTO</td>\n",
       "      <td>USA</td>\n",
       "      <td>12 AF</td>\n",
       "      <td>NaN</td>\n",
       "      <td>A20</td>\n",
       "      <td>NaN</td>\n",
       "      <td>NaN</td>\n",
       "      <td>NaN</td>\n",
       "      <td>NaN</td>\n",
       "      <td>NaN</td>\n",
       "      <td>NaN</td>\n",
       "      <td>90599</td>\n",
       "      <td>ITALY</td>\n",
       "      <td>44 40 N 009 40 E</td>\n",
       "      <td>ROAD BLOCK</td>\n",
       "      <td>TACTICAL TARGETS: (UNIDENTIFIED OR NOT LISTED ...</td>\n",
       "      <td>1</td>\n",
       "      <td>44.67</td>\n",
       "      <td>9.670000</td>\n",
       "      <td>8.0</td>\n",
       "      <td>NaN</td>\n",
       "      <td>NaN</td>\n",
       "      <td>NaN</td>\n",
       "      <td>NaN</td>\n",
       "      <td>NaN</td>\n",
       "      <td>NaN</td>\n",
       "      <td>NaN</td>\n",
       "      <td>NaN</td>\n",
       "      <td>NaN</td>\n",
       "      <td>NaN</td>\n",
       "      <td>NaN</td>\n",
       "      <td>NaN</td>\n",
       "      <td>NaN</td>\n",
       "      <td>NaN</td>\n",
       "      <td>NaN</td>\n",
       "      <td>NaN</td>\n",
       "      <td>NaN</td>\n",
       "      <td>NaN</td>\n",
       "      <td>NaN</td>\n",
       "      <td>NaN</td>\n",
       "      <td>NaN</td>\n",
       "      <td>NaN</td>\n",
       "      <td>NaN</td>\n",
       "      <td>222550.0</td>\n",
       "    </tr>\n",
       "    <tr>\n",
       "      <th>68862</th>\n",
       "      <td>69029</td>\n",
       "      <td>4/8/1945</td>\n",
       "      <td>ETO</td>\n",
       "      <td>NaN</td>\n",
       "      <td>NaN</td>\n",
       "      <td>NaN</td>\n",
       "      <td>GB24</td>\n",
       "      <td>NaN</td>\n",
       "      <td>NaN</td>\n",
       "      <td>NaN</td>\n",
       "      <td>NaN</td>\n",
       "      <td>NaN</td>\n",
       "      <td>NaN</td>\n",
       "      <td>15192</td>\n",
       "      <td>GERMANY</td>\n",
       "      <td>FURTH</td>\n",
       "      <td>A C COMPONENTS</td>\n",
       "      <td>A/C COMPONENT PLANTS</td>\n",
       "      <td>1</td>\n",
       "      <td>48.92</td>\n",
       "      <td>12.670000</td>\n",
       "      <td>212.0</td>\n",
       "      <td>31.0</td>\n",
       "      <td>31.0</td>\n",
       "      <td>31.0</td>\n",
       "      <td>NaN</td>\n",
       "      <td>NaN</td>\n",
       "      <td>NaN</td>\n",
       "      <td>NaN</td>\n",
       "      <td>NaN</td>\n",
       "      <td>NaN</td>\n",
       "      <td>NaN</td>\n",
       "      <td>20.0</td>\n",
       "      <td>NaN</td>\n",
       "      <td>NaN</td>\n",
       "      <td>NaN</td>\n",
       "      <td>NaN</td>\n",
       "      <td>NaN</td>\n",
       "      <td>NaN</td>\n",
       "      <td>NaN</td>\n",
       "      <td>NaN</td>\n",
       "      <td>NaN</td>\n",
       "      <td>20.0</td>\n",
       "      <td>NaN</td>\n",
       "      <td>NaN</td>\n",
       "      <td>191000.0</td>\n",
       "    </tr>\n",
       "  </tbody>\n",
       "</table>\n",
       "</div>"
      ],
      "text/plain": [
       "        Mission ID Mission Date Theater of Operations        Country  \\\n",
       "73857        74050    4/10/1945                   ETO            USA   \n",
       "100845      101271    8/28/1941                   ETO  GREAT BRITAIN   \n",
       "146976      147437    7/29/1945                   PTO            USA   \n",
       "76462        76722    4/16/1944                   PTO            USA   \n",
       "9202          9203     8/6/1944                   ETO            NaN   \n",
       "125592      126053     6/6/1944                   ETO            USA   \n",
       "38431        38432    3/21/1945                   ETO            NaN   \n",
       "46454        46512    2/21/1944                   ETO            USA   \n",
       "84815        85188    4/14/1945                   MTO            USA   \n",
       "68862        69029     4/8/1945                   ETO            NaN   \n",
       "\n",
       "       Air Force Unit ID Aircraft Series Callsign Mission Type Takeoff Base  \\\n",
       "73857       8 AF     NaN             A26      NaN          NaN          NaN   \n",
       "100845       RAF     NaN            HALI      NaN          NaN          NaN   \n",
       "146976     20 AF     888             B29      NaN           99          NaN   \n",
       "76462       5 AF   65 BS             B24      NaN            1          NaN   \n",
       "9202         NaN     NaN             B26      NaN          NaN          NaN   \n",
       "125592      8 AF     NaN            GB24      NaN          NaN          NaN   \n",
       "38431        NaN     NaN             B17      NaN          NaN          NaN   \n",
       "46454       9 AF     NaN            GB17      NaN          NaN          NaN   \n",
       "84815      12 AF     NaN             A20      NaN          NaN          NaN   \n",
       "68862        NaN     NaN            GB24      NaN          NaN          NaN   \n",
       "\n",
       "       Takeoff Location Takeoff Latitude  Takeoff Longitude Target ID  \\\n",
       "73857               NaN              NaN                NaN     12094   \n",
       "100845              NaN              NaN                NaN     11602   \n",
       "146976              NaN              NaN                NaN       NaN   \n",
       "76462               NaN              NaN                NaN       NaN   \n",
       "9202                NaN              NaN                NaN      9749   \n",
       "125592              NaN              NaN                NaN      6882   \n",
       "38431               NaN              NaN                NaN     32066   \n",
       "46454               NaN              NaN                NaN     99997   \n",
       "84815               NaN              NaN                NaN     90599   \n",
       "68862               NaN              NaN                NaN     15192   \n",
       "\n",
       "        Target Country           Target City           Target Type  \\\n",
       "73857   CZECHOSLOVAKIA                  EGER     MARSHALLING YARDS   \n",
       "100845         GERMANY              DUISBURG                   NaN   \n",
       "146976           JAPAN                   UBE  NIPPON MOTOR OIL COO   \n",
       "76462       NEW GUINEA             HOLLANDIA           STORES AREA   \n",
       "9202            FRANCE            COURTALAIN                   NaN   \n",
       "125592          FRANCE                  CAEN      TACTICAL TARGETS   \n",
       "38431          GERMANY             OLDENBURG              AIRDROME   \n",
       "46454          GERMANY  CITY TOT UNDER 6 TON  UNIDENTIFIED TARGETS   \n",
       "84815            ITALY      44 40 N 009 40 E            ROAD BLOCK   \n",
       "68862          GERMANY                 FURTH        A C COMPONENTS   \n",
       "\n",
       "                                          Target Industry Target Priority  \\\n",
       "73857   \"RR INSTALLATIONS,  TRACKS,  MARSHALLING YARDS...             NaN   \n",
       "100845  \"RR INSTALLATIONS,  TRACKS,  MARSHALLING YARDS...             NaN   \n",
       "146976                                                NaN               1   \n",
       "76462                                                 NaN               1   \n",
       "9202                                              BRIDGES             NaN   \n",
       "125592  TACTICAL TARGETS: (UNIDENTIFIED OR NOT LISTED ...               1   \n",
       "38431                            AIR FIELDS AND AIRDROMES               1   \n",
       "46454                                UNIDENTIFIED TARGETS               1   \n",
       "84815   TACTICAL TARGETS: (UNIDENTIFIED OR NOT LISTED ...               1   \n",
       "68862                                A/C COMPONENT PLANTS               1   \n",
       "\n",
       "        Target Latitude  Target Longitude  Altitude (Hundreds of Feet)  \\\n",
       "73857             50.08         12.370000                         80.0   \n",
       "100845            51.43          6.750000                        130.0   \n",
       "146976            33.95        131.233333                          0.0   \n",
       "76462             -2.50        140.750000                        120.0   \n",
       "9202              48.10          1.130000                        126.0   \n",
       "125592            49.18         -0.370000                        207.0   \n",
       "38431             53.95         13.560000                        242.0   \n",
       "46454               NaN               NaN                        225.0   \n",
       "84815             44.67          9.670000                          8.0   \n",
       "68862             48.92         12.670000                        212.0   \n",
       "\n",
       "        Airborne Aircraft  Attacking Aircraft  Bombing Aircraft  \\\n",
       "73857                 NaN                 NaN               NaN   \n",
       "100845                5.0                 5.0               5.0   \n",
       "146976                NaN                 1.0               NaN   \n",
       "76462                 NaN                 6.0               NaN   \n",
       "9202                  NaN                 NaN               NaN   \n",
       "125592                9.0                 9.0               9.0   \n",
       "38431                37.0                37.0              37.0   \n",
       "46454                 NaN                 NaN               NaN   \n",
       "84815                 NaN                 NaN               NaN   \n",
       "68862                31.0                31.0              31.0   \n",
       "\n",
       "        Aircraft Returned  Aircraft Failed  Aircraft Damaged  Aircraft Lost  \\\n",
       "73857                 NaN              NaN               NaN            NaN   \n",
       "100845                NaN              NaN               NaN            NaN   \n",
       "146976                NaN              NaN               NaN            NaN   \n",
       "76462                 NaN              NaN               NaN            NaN   \n",
       "9202                  NaN              NaN               NaN            NaN   \n",
       "125592                NaN              NaN               NaN            NaN   \n",
       "38431                 NaN              NaN               NaN            NaN   \n",
       "46454                 NaN              NaN               NaN            NaN   \n",
       "84815                 NaN              NaN               NaN            NaN   \n",
       "68862                 NaN              NaN               NaN            NaN   \n",
       "\n",
       "        High Explosives                          High Explosives Type  \\\n",
       "73857               NaN                                           NaN   \n",
       "100845              NaN                                           NaN   \n",
       "146976              1.0  10000 LB PUMPKIN BOMB (ATOMIC BOMB TRAINING)   \n",
       "76462              48.0                       1000 LB GP (GP-M44/M65)   \n",
       "9202                NaN                                           NaN   \n",
       "125592              NaN                                           NaN   \n",
       "38431               NaN                                           NaN   \n",
       "46454               NaN                                           NaN   \n",
       "84815               NaN                                           NaN   \n",
       "68862               NaN                                           NaN   \n",
       "\n",
       "       High Explosives Weight (Pounds)  High Explosives Weight (Tons)  \\\n",
       "73857                              NaN                           43.0   \n",
       "100845                             NaN                            2.0   \n",
       "146976                             NaN                            5.0   \n",
       "76462                              NaN                           24.0   \n",
       "9202                               NaN                           72.0   \n",
       "125592                             NaN                           27.0   \n",
       "38431                              NaN                          129.0   \n",
       "46454                              NaN                            1.0   \n",
       "84815                              NaN                            NaN   \n",
       "68862                              NaN                           20.0   \n",
       "\n",
       "        Incendiary Devices Incendiary Devices Type  \\\n",
       "73857                  NaN                     NaN   \n",
       "100845                 NaN                     NaN   \n",
       "146976                 NaN                     NaN   \n",
       "76462                  NaN                     NaN   \n",
       "9202                   NaN                     NaN   \n",
       "125592                 NaN                     NaN   \n",
       "38431                  NaN                     NaN   \n",
       "46454                  NaN                     NaN   \n",
       "84815                  NaN                     NaN   \n",
       "68862                  NaN                     NaN   \n",
       "\n",
       "        Incendiary Devices Weight (Pounds)  Incendiary Devices Weight (Tons)  \\\n",
       "73857                                  NaN                               NaN   \n",
       "100845                                 NaN                               NaN   \n",
       "146976                                 NaN                               NaN   \n",
       "76462                                  NaN                               NaN   \n",
       "9202                                   NaN                               NaN   \n",
       "125592                                 NaN                               NaN   \n",
       "38431                                  NaN                               NaN   \n",
       "46454                                  NaN                               NaN   \n",
       "84815                                  NaN                               NaN   \n",
       "68862                                  NaN                               NaN   \n",
       "\n",
       "        Fragmentation Devices Fragmentation Devices Type  \\\n",
       "73857                     NaN                        NaN   \n",
       "100845                    NaN                        NaN   \n",
       "146976                    NaN                        NaN   \n",
       "76462                     NaN                        NaN   \n",
       "9202                      NaN                        NaN   \n",
       "125592                    NaN                        NaN   \n",
       "38431                     NaN                        NaN   \n",
       "46454                     NaN                        NaN   \n",
       "84815                     NaN                        NaN   \n",
       "68862                     NaN                        NaN   \n",
       "\n",
       "        Fragmentation Devices Weight (Pounds)  \\\n",
       "73857                                     NaN   \n",
       "100845                                    NaN   \n",
       "146976                                    NaN   \n",
       "76462                                     NaN   \n",
       "9202                                      NaN   \n",
       "125592                                    NaN   \n",
       "38431                                     NaN   \n",
       "46454                                     NaN   \n",
       "84815                                     NaN   \n",
       "68862                                     NaN   \n",
       "\n",
       "        Fragmentation Devices Weight (Tons)  Total Weight (Pounds)  \\\n",
       "73857                                   NaN                    NaN   \n",
       "100845                                  NaN                    NaN   \n",
       "146976                                  NaN                    NaN   \n",
       "76462                                   NaN                    NaN   \n",
       "9202                                    NaN                    NaN   \n",
       "125592                                  NaN                    NaN   \n",
       "38431                                   NaN                    NaN   \n",
       "46454                                   NaN                    NaN   \n",
       "84815                                   NaN                    NaN   \n",
       "68862                                   NaN                    NaN   \n",
       "\n",
       "        Total Weight (Tons) Time Over Target Bomb Damage Assessment  Source ID  \n",
       "73857                  43.0              NaN                    NaN   221640.0  \n",
       "100845                  2.0              NaN                    NaN   284790.0  \n",
       "146976                  5.0              NaN                    NaN    56193.0  \n",
       "76462                  24.0              NaN                    NaN     8671.0  \n",
       "9202                   72.0              NaN                    NaN   210059.0  \n",
       "125592                 27.0              NaN                    NaN   205669.0  \n",
       "38431                 129.0              NaN                    NaN   218712.0  \n",
       "46454                   1.0              NaN                    NaN   162554.0  \n",
       "84815                   NaN              NaN                    NaN   222550.0  \n",
       "68862                  20.0              NaN                    NaN   191000.0  "
      ]
     },
     "execution_count": 5,
     "metadata": {},
     "output_type": "execute_result"
    }
   ],
   "source": [
    "df_clean.sample(10)"
   ]
  },
  {
   "cell_type": "markdown",
   "metadata": {},
   "source": [
    "## Open issues\n",
    "\n",
    "-  Identify incomplete, incorrect, inaccurate or irrelevant parts of the data   \n",
    "-  Correct or remove incorrect, inaccurate or irrelevant parts of the data\n",
    "-  Subsetting the data set"
   ]
  },
  {
   "cell_type": "markdown",
   "metadata": {},
   "source": [
    "### Dealing with incomplete data (`NaN`)\n",
    "\n",
    "Missing values in data sets are a well-known problem as nearly everywhere, where data is measured and recorded, issues with missing values occur. Various reasons lead to missing values: values may not be measured, values may be measured but get lost or values may be measured but are considered unusable. Missing values can lead to problems, because often further data processing and analysis steps rely on complete data sets. Therefore missing values need to be replaced with reasonable values. In statistics this process is called **imputation**.\n",
    "\n",
    "When faced with the problem of missing values it is important to understand the mechanism that causes missing data. Such an understanding is useful, as it may be employed as background knowledge for selecting an appropriate imputation strategy. "
   ]
  },
  {
   "cell_type": "markdown",
   "metadata": {},
   "source": [
    "**Check for `NaN` **\n",
    "\n",
    "Note that in many cases missing values are assigned special characters, such as `-999`, `NA`, `k.A.` etc.; hence, you as a data analyst are responsible for taking appropriate action.    "
   ]
  },
  {
   "cell_type": "code",
   "execution_count": 6,
   "metadata": {},
   "outputs": [
    {
     "data": {
      "text/plain": [
       "178281"
      ]
     },
     "execution_count": 6,
     "metadata": {},
     "output_type": "execute_result"
    }
   ],
   "source": [
    "df_clean.shape[0]"
   ]
  },
  {
   "cell_type": "code",
   "execution_count": 7,
   "metadata": {},
   "outputs": [
    {
     "data": {
      "text/plain": [
       "Mission ID                                    0\n",
       "Mission Date                                  0\n",
       "Theater of Operations                      3158\n",
       "Country                                   51787\n",
       "Air Force                                 51837\n",
       "Unit ID                                  127368\n",
       "Aircraft Series                             116\n",
       "Callsign                                 178260\n",
       "Mission Type                             131095\n",
       "Takeoff Base                             174898\n",
       "Takeoff Location                         174943\n",
       "Takeoff Latitude                         175300\n",
       "Takeoff Longitude                        175301\n",
       "Target ID                                 50875\n",
       "Target Country                              599\n",
       "Target City                                2263\n",
       "Target Type                               31911\n",
       "Target Industry                           51802\n",
       "Target Priority                           43561\n",
       "Target Latitude                            8716\n",
       "Target Longitude                           8738\n",
       "Altitude (Hundreds of Feet)               57455\n",
       "Airborne Aircraft                         96039\n",
       "Attacking Aircraft                        53173\n",
       "Bombing Aircraft                          96669\n",
       "Aircraft Returned                        178148\n",
       "Aircraft Failed                          178034\n",
       "Aircraft Damaged                         178243\n",
       "Aircraft Lost                            178123\n",
       "High Explosives                          143544\n",
       "High Explosives Type                     136336\n",
       "High Explosives Weight (Pounds)          176260\n",
       "High Explosives Weight (Tons)             32080\n",
       "Incendiary Devices                       174998\n",
       "Incendiary Devices Type                  172762\n",
       "Incendiary Devices Weight (Pounds)       177925\n",
       "Incendiary Devices Weight (Tons)         152549\n",
       "Fragmentation Devices                    172513\n",
       "Fragmentation Devices Type               172516\n",
       "Fragmentation Devices Weight (Pounds)    178087\n",
       "Fragmentation Devices Weight (Tons)      161379\n",
       "Total Weight (Pounds)                    176162\n",
       "Total Weight (Tons)                       11773\n",
       "Time Over Target                         177592\n",
       "Bomb Damage Assessment                   178177\n",
       "Source ID                                  4045\n",
       "dtype: int64"
      ]
     },
     "execution_count": 7,
     "metadata": {},
     "output_type": "execute_result"
    }
   ],
   "source": [
    "df_clean.isnull().sum()"
   ]
  },
  {
   "cell_type": "code",
   "execution_count": 8,
   "metadata": {},
   "outputs": [
    {
     "data": {
      "text/plain": [
       "Mission ID                               178281\n",
       "Mission Date                             178281\n",
       "Theater of Operations                    175123\n",
       "Country                                  126494\n",
       "Air Force                                126444\n",
       "Unit ID                                   50913\n",
       "Aircraft Series                          178165\n",
       "Callsign                                     21\n",
       "Mission Type                              47186\n",
       "Takeoff Base                               3383\n",
       "Takeoff Location                           3338\n",
       "Takeoff Latitude                           2981\n",
       "Takeoff Longitude                          2980\n",
       "Target ID                                127406\n",
       "Target Country                           177682\n",
       "Target City                              176018\n",
       "Target Type                              146370\n",
       "Target Industry                          126479\n",
       "Target Priority                          134720\n",
       "Target Latitude                          169565\n",
       "Target Longitude                         169543\n",
       "Altitude (Hundreds of Feet)              120826\n",
       "Airborne Aircraft                         82242\n",
       "Attacking Aircraft                       125108\n",
       "Bombing Aircraft                          81612\n",
       "Aircraft Returned                           133\n",
       "Aircraft Failed                             247\n",
       "Aircraft Damaged                             38\n",
       "Aircraft Lost                               158\n",
       "High Explosives                           34737\n",
       "High Explosives Type                      41945\n",
       "High Explosives Weight (Pounds)            2021\n",
       "High Explosives Weight (Tons)            146201\n",
       "Incendiary Devices                         3283\n",
       "Incendiary Devices Type                    5519\n",
       "Incendiary Devices Weight (Pounds)          356\n",
       "Incendiary Devices Weight (Tons)          25732\n",
       "Fragmentation Devices                      5768\n",
       "Fragmentation Devices Type                 5765\n",
       "Fragmentation Devices Weight (Pounds)       194\n",
       "Fragmentation Devices Weight (Tons)       16902\n",
       "Total Weight (Pounds)                      2119\n",
       "Total Weight (Tons)                      166508\n",
       "Time Over Target                            689\n",
       "Bomb Damage Assessment                      104\n",
       "Source ID                                174236\n",
       "dtype: int64"
      ]
     },
     "execution_count": 8,
     "metadata": {},
     "output_type": "execute_result"
    }
   ],
   "source": [
    "df_clean.notnull().sum()"
   ]
  },
  {
   "cell_type": "markdown",
   "metadata": {},
   "source": [
    "**Strategies to deal with missing data in Python**\n",
    "\n",
    "In general there are many options to consider when imputing missing values, for example:\n",
    "* A constant value that has meaning within the domain, such as 0, distinct from all other values.\n",
    "* A value from another randomly selected record.\n",
    "* A mean, median or mode value for the column.\n",
    "* A value estimated by another predictive model.\n",
    "\n",
    "There are some libraries implementing more or less advanced missing value imputation strategies such as \n",
    "\n",
    "* [`statsmodels`](http://www.statsmodels.org/dev/imputation.html) (Multiple Imputation with Chained Equations (MICE))\n",
    "* [`fancyimpute`](https://github.com/iskandr/fancyimpute) (matrix completion and imputation algorithms)\n",
    "* [`scikit-learn`](http://scikit-learn.org/stable/modules/generated/sklearn.preprocessing.Imputer.html) (mean, median, most frequent)\n",
    "* [`pandas`](https://pandas.pydata.org/pandas-docs/stable/missing_data.html) (`fillna`, `interpolate` methods)\n"
   ]
  },
  {
   "cell_type": "markdown",
   "metadata": {},
   "source": [
    "**Our working strategy to deal with missing data**\n",
    "\n",
    "_Owing to the fact that the amount of missing values in our data set is considerble high and thet probably our domain knowledge with respect to World War II histroy is limited simply remove all features of the data set where more the 50% of the data is missing._  \n",
    "> **Challenge**: Write a function (or a script) which takes in our data set and a threshold value of 0.5 and which returns the column names of features that include more data than the given threshold. We then use the returned column names for subsetting our data set. "
   ]
  },
  {
   "cell_type": "code",
   "execution_count": 9,
   "metadata": {},
   "outputs": [],
   "source": [
    "def features_above_threshold(df, threshold=0.5):\n",
    "    ## your code here ...\n",
    "    pass"
   ]
  },
  {
   "cell_type": "code",
   "execution_count": 10,
   "metadata": {},
   "outputs": [],
   "source": [
    "def features_above_threshold(df, threshold=0.5):    \n",
    "    cols2keep = df.notnull().sum()/df.shape[0] > threshold \n",
    "    rv = df.columns[cols2keep.values]\n",
    "    return rv"
   ]
  },
  {
   "cell_type": "markdown",
   "metadata": {},
   "source": [
    "**Apply `features_above_threshold` on our data set**"
   ]
  },
  {
   "cell_type": "code",
   "execution_count": 11,
   "metadata": {},
   "outputs": [
    {
     "data": {
      "text/plain": [
       "Index(['Mission ID', 'Mission Date', 'Theater of Operations', 'Country',\n",
       "       'Air Force', 'Aircraft Series', 'Target ID', 'Target Country',\n",
       "       'Target City', 'Target Type', 'Target Industry', 'Target Priority',\n",
       "       'Target Latitude', 'Target Longitude', 'Altitude (Hundreds of Feet)',\n",
       "       'Attacking Aircraft', 'High Explosives Weight (Tons)',\n",
       "       'Total Weight (Tons)', 'Source ID'],\n",
       "      dtype='object')"
      ]
     },
     "execution_count": 11,
     "metadata": {},
     "output_type": "execute_result"
    }
   ],
   "source": [
    "cols2keep = features_above_threshold(df_clean, threshold=0.5)\n",
    "cols2keep"
   ]
  },
  {
   "cell_type": "markdown",
   "metadata": {},
   "source": [
    "**Reassign subsetted data set to the variable `df_clean`**"
   ]
  },
  {
   "cell_type": "code",
   "execution_count": 12,
   "metadata": {},
   "outputs": [
    {
     "data": {
      "text/plain": [
       "(178281, 19)"
      ]
     },
     "execution_count": 12,
     "metadata": {},
     "output_type": "execute_result"
    }
   ],
   "source": [
    "df_clean = df_clean[cols2keep]\n",
    "df_clean.shape"
   ]
  },
  {
   "cell_type": "code",
   "execution_count": 13,
   "metadata": {
    "scrolled": true
   },
   "outputs": [
    {
     "data": {
      "text/html": [
       "<div>\n",
       "<style scoped>\n",
       "    .dataframe tbody tr th:only-of-type {\n",
       "        vertical-align: middle;\n",
       "    }\n",
       "\n",
       "    .dataframe tbody tr th {\n",
       "        vertical-align: top;\n",
       "    }\n",
       "\n",
       "    .dataframe thead th {\n",
       "        text-align: right;\n",
       "    }\n",
       "</style>\n",
       "<table border=\"1\" class=\"dataframe\">\n",
       "  <thead>\n",
       "    <tr style=\"text-align: right;\">\n",
       "      <th></th>\n",
       "      <th>Mission ID</th>\n",
       "      <th>Mission Date</th>\n",
       "      <th>Theater of Operations</th>\n",
       "      <th>Country</th>\n",
       "      <th>Air Force</th>\n",
       "      <th>Aircraft Series</th>\n",
       "      <th>Target ID</th>\n",
       "      <th>Target Country</th>\n",
       "      <th>Target City</th>\n",
       "      <th>Target Type</th>\n",
       "      <th>Target Industry</th>\n",
       "      <th>Target Priority</th>\n",
       "      <th>Target Latitude</th>\n",
       "      <th>Target Longitude</th>\n",
       "      <th>Altitude (Hundreds of Feet)</th>\n",
       "      <th>Attacking Aircraft</th>\n",
       "      <th>High Explosives Weight (Tons)</th>\n",
       "      <th>Total Weight (Tons)</th>\n",
       "      <th>Source ID</th>\n",
       "    </tr>\n",
       "  </thead>\n",
       "  <tbody>\n",
       "    <tr>\n",
       "      <th>112489</th>\n",
       "      <td>112950</td>\n",
       "      <td>5/27/1944</td>\n",
       "      <td>ETO</td>\n",
       "      <td>NaN</td>\n",
       "      <td>NaN</td>\n",
       "      <td>B26</td>\n",
       "      <td>26192</td>\n",
       "      <td>FRANCE</td>\n",
       "      <td>MAISONS LAFFITTE</td>\n",
       "      <td>NaN</td>\n",
       "      <td>BRIDGES</td>\n",
       "      <td>NaN</td>\n",
       "      <td>48.95</td>\n",
       "      <td>2.13</td>\n",
       "      <td>115.0</td>\n",
       "      <td>NaN</td>\n",
       "      <td>56.0</td>\n",
       "      <td>56.0</td>\n",
       "      <td>204581.0</td>\n",
       "    </tr>\n",
       "    <tr>\n",
       "      <th>67855</th>\n",
       "      <td>68020</td>\n",
       "      <td>3/30/1944</td>\n",
       "      <td>ETO</td>\n",
       "      <td>GREAT BRITAIN</td>\n",
       "      <td>RAF</td>\n",
       "      <td>HVY</td>\n",
       "      <td>39406</td>\n",
       "      <td>GERMANY</td>\n",
       "      <td>SCHWEINFURT</td>\n",
       "      <td>CITY AREA</td>\n",
       "      <td>CITIES TOWNS AND URBAN AREAS</td>\n",
       "      <td>NaN</td>\n",
       "      <td>50.05</td>\n",
       "      <td>10.25</td>\n",
       "      <td>NaN</td>\n",
       "      <td>NaN</td>\n",
       "      <td>1.0</td>\n",
       "      <td>3.0</td>\n",
       "      <td>294395.0</td>\n",
       "    </tr>\n",
       "    <tr>\n",
       "      <th>106933</th>\n",
       "      <td>107365</td>\n",
       "      <td>11/25/1944</td>\n",
       "      <td>ETO</td>\n",
       "      <td>NaN</td>\n",
       "      <td>NaN</td>\n",
       "      <td>B17</td>\n",
       "      <td>27630</td>\n",
       "      <td>GERMANY</td>\n",
       "      <td>MERSEBURG</td>\n",
       "      <td>LEUNA SYN OIL PLANT</td>\n",
       "      <td>SYNTHETIC OIL REFINERIES</td>\n",
       "      <td>2</td>\n",
       "      <td>51.35</td>\n",
       "      <td>12.00</td>\n",
       "      <td>266.0</td>\n",
       "      <td>12.0</td>\n",
       "      <td>30.0</td>\n",
       "      <td>30.0</td>\n",
       "      <td>178403.0</td>\n",
       "    </tr>\n",
       "  </tbody>\n",
       "</table>\n",
       "</div>"
      ],
      "text/plain": [
       "        Mission ID Mission Date Theater of Operations        Country  \\\n",
       "112489      112950    5/27/1944                   ETO            NaN   \n",
       "67855        68020    3/30/1944                   ETO  GREAT BRITAIN   \n",
       "106933      107365   11/25/1944                   ETO            NaN   \n",
       "\n",
       "       Air Force Aircraft Series Target ID Target Country       Target City  \\\n",
       "112489       NaN             B26     26192         FRANCE  MAISONS LAFFITTE   \n",
       "67855        RAF             HVY     39406        GERMANY       SCHWEINFURT   \n",
       "106933       NaN             B17     27630        GERMANY         MERSEBURG   \n",
       "\n",
       "                Target Type               Target Industry Target Priority  \\\n",
       "112489                  NaN                       BRIDGES             NaN   \n",
       "67855             CITY AREA  CITIES TOWNS AND URBAN AREAS             NaN   \n",
       "106933  LEUNA SYN OIL PLANT      SYNTHETIC OIL REFINERIES               2   \n",
       "\n",
       "        Target Latitude  Target Longitude  Altitude (Hundreds of Feet)  \\\n",
       "112489            48.95              2.13                        115.0   \n",
       "67855             50.05             10.25                          NaN   \n",
       "106933            51.35             12.00                        266.0   \n",
       "\n",
       "        Attacking Aircraft  High Explosives Weight (Tons)  \\\n",
       "112489                 NaN                           56.0   \n",
       "67855                  NaN                            1.0   \n",
       "106933                12.0                           30.0   \n",
       "\n",
       "        Total Weight (Tons)  Source ID  \n",
       "112489                 56.0   204581.0  \n",
       "67855                   3.0   294395.0  \n",
       "106933                 30.0   178403.0  "
      ]
     },
     "execution_count": 13,
     "metadata": {},
     "output_type": "execute_result"
    }
   ],
   "source": [
    "df_clean.sample(3)"
   ]
  },
  {
   "cell_type": "code",
   "execution_count": 14,
   "metadata": {},
   "outputs": [
    {
     "data": {
      "text/plain": [
       "Mission ID                           0\n",
       "Mission Date                         0\n",
       "Theater of Operations             3158\n",
       "Country                          51787\n",
       "Air Force                        51837\n",
       "Aircraft Series                    116\n",
       "Target ID                        50875\n",
       "Target Country                     599\n",
       "Target City                       2263\n",
       "Target Type                      31911\n",
       "Target Industry                  51802\n",
       "Target Priority                  43561\n",
       "Target Latitude                   8716\n",
       "Target Longitude                  8738\n",
       "Altitude (Hundreds of Feet)      57455\n",
       "Attacking Aircraft               53173\n",
       "High Explosives Weight (Tons)    32080\n",
       "Total Weight (Tons)              11773\n",
       "Source ID                         4045\n",
       "dtype: int64"
      ]
     },
     "execution_count": 14,
     "metadata": {},
     "output_type": "execute_result"
    }
   ],
   "source": [
    "df_clean.isnull().sum()"
   ]
  },
  {
   "cell_type": "markdown",
   "metadata": {},
   "source": [
    "### Dealing with incorrect data (looking for outliers)"
   ]
  },
  {
   "cell_type": "markdown",
   "metadata": {},
   "source": [
    "* **Check that mission dates are bewteen 1939 and 1945**"
   ]
  },
  {
   "cell_type": "code",
   "execution_count": 15,
   "metadata": {},
   "outputs": [
    {
     "data": {
      "text/plain": [
       "dtype('O')"
      ]
     },
     "execution_count": 15,
     "metadata": {},
     "output_type": "execute_result"
    }
   ],
   "source": [
    "df_clean[\"Mission Date\"].dtype"
   ]
  },
  {
   "cell_type": "code",
   "execution_count": 16,
   "metadata": {},
   "outputs": [
    {
     "data": {
      "text/plain": [
       "0     8/15/1943\n",
       "1     8/15/1943\n",
       "2     8/15/1943\n",
       "3     8/15/1943\n",
       "4     8/15/1943\n",
       "5     8/15/1943\n",
       "6     8/15/1943\n",
       "7     8/15/1943\n",
       "8     8/15/1943\n",
       "9     8/15/1943\n",
       "10    8/15/1943\n",
       "11    8/15/1943\n",
       "12    8/15/1943\n",
       "13    8/15/1943\n",
       "14    8/15/1943\n",
       "15    8/15/1943\n",
       "Name: Mission Date, dtype: object"
      ]
     },
     "execution_count": 16,
     "metadata": {},
     "output_type": "execute_result"
    }
   ],
   "source": [
    "df_clean.loc[0:15, \"Mission Date\"]"
   ]
  },
  {
   "cell_type": "markdown",
   "metadata": {},
   "source": [
    "> **Challenge**: Reassign the `Mission Date` variable, a `string` object with o a time-aware `datetime` object.    \n",
    "_Hint: pandas comes with a_ `.to_datetime` _method_\n"
   ]
  },
  {
   "cell_type": "code",
   "execution_count": 17,
   "metadata": {},
   "outputs": [],
   "source": [
    "## your code here ..."
   ]
  },
  {
   "cell_type": "code",
   "execution_count": 18,
   "metadata": {},
   "outputs": [],
   "source": [
    "df_clean[\"Mission Date\"] = pd.to_datetime(df_clean[\"Mission Date\"], infer_datetime_format=True)"
   ]
  },
  {
   "cell_type": "code",
   "execution_count": 19,
   "metadata": {},
   "outputs": [
    {
     "data": {
      "text/plain": [
       "0   1943-08-15\n",
       "1   1943-08-15\n",
       "2   1943-08-15\n",
       "3   1943-08-15\n",
       "4   1943-08-15\n",
       "Name: Mission Date, dtype: datetime64[ns]"
      ]
     },
     "execution_count": 19,
     "metadata": {},
     "output_type": "execute_result"
    }
   ],
   "source": [
    "df_clean[\"Mission Date\"].head()"
   ]
  },
  {
   "cell_type": "markdown",
   "metadata": {},
   "source": [
    "Once we have a `datetime` object we can use it to extract the year, month and day assign those to a unique columns in out data set (`year`, `month` and `day`)"
   ]
  },
  {
   "cell_type": "code",
   "execution_count": 20,
   "metadata": {},
   "outputs": [],
   "source": [
    "df_clean[\"year\"] = df_clean[\"Mission Date\"].dt.year\n",
    "df_clean[\"month\"] = df_clean[\"Mission Date\"].dt.month\n",
    "df_clean[\"day\"] = df_clean[\"Mission Date\"].dt.day"
   ]
  },
  {
   "cell_type": "code",
   "execution_count": 21,
   "metadata": {},
   "outputs": [
    {
     "data": {
      "text/html": [
       "<div>\n",
       "<style scoped>\n",
       "    .dataframe tbody tr th:only-of-type {\n",
       "        vertical-align: middle;\n",
       "    }\n",
       "\n",
       "    .dataframe tbody tr th {\n",
       "        vertical-align: top;\n",
       "    }\n",
       "\n",
       "    .dataframe thead th {\n",
       "        text-align: right;\n",
       "    }\n",
       "</style>\n",
       "<table border=\"1\" class=\"dataframe\">\n",
       "  <thead>\n",
       "    <tr style=\"text-align: right;\">\n",
       "      <th></th>\n",
       "      <th>Mission Date</th>\n",
       "      <th>year</th>\n",
       "      <th>month</th>\n",
       "      <th>day</th>\n",
       "    </tr>\n",
       "  </thead>\n",
       "  <tbody>\n",
       "    <tr>\n",
       "      <th>66398</th>\n",
       "      <td>1945-04-06</td>\n",
       "      <td>1945</td>\n",
       "      <td>4</td>\n",
       "      <td>6</td>\n",
       "    </tr>\n",
       "    <tr>\n",
       "      <th>46346</th>\n",
       "      <td>1940-07-19</td>\n",
       "      <td>1940</td>\n",
       "      <td>7</td>\n",
       "      <td>19</td>\n",
       "    </tr>\n",
       "    <tr>\n",
       "      <th>109385</th>\n",
       "      <td>1944-11-27</td>\n",
       "      <td>1944</td>\n",
       "      <td>11</td>\n",
       "      <td>27</td>\n",
       "    </tr>\n",
       "    <tr>\n",
       "      <th>148945</th>\n",
       "      <td>1943-03-29</td>\n",
       "      <td>1943</td>\n",
       "      <td>3</td>\n",
       "      <td>29</td>\n",
       "    </tr>\n",
       "    <tr>\n",
       "      <th>173073</th>\n",
       "      <td>1943-07-25</td>\n",
       "      <td>1943</td>\n",
       "      <td>7</td>\n",
       "      <td>25</td>\n",
       "    </tr>\n",
       "    <tr>\n",
       "      <th>18174</th>\n",
       "      <td>1944-08-15</td>\n",
       "      <td>1944</td>\n",
       "      <td>8</td>\n",
       "      <td>15</td>\n",
       "    </tr>\n",
       "    <tr>\n",
       "      <th>164205</th>\n",
       "      <td>1943-06-16</td>\n",
       "      <td>1943</td>\n",
       "      <td>6</td>\n",
       "      <td>16</td>\n",
       "    </tr>\n",
       "    <tr>\n",
       "      <th>23850</th>\n",
       "      <td>1943-12-03</td>\n",
       "      <td>1943</td>\n",
       "      <td>12</td>\n",
       "      <td>3</td>\n",
       "    </tr>\n",
       "    <tr>\n",
       "      <th>160801</th>\n",
       "      <td>1944-07-07</td>\n",
       "      <td>1944</td>\n",
       "      <td>7</td>\n",
       "      <td>7</td>\n",
       "    </tr>\n",
       "    <tr>\n",
       "      <th>171859</th>\n",
       "      <td>1943-07-19</td>\n",
       "      <td>1943</td>\n",
       "      <td>7</td>\n",
       "      <td>19</td>\n",
       "    </tr>\n",
       "  </tbody>\n",
       "</table>\n",
       "</div>"
      ],
      "text/plain": [
       "       Mission Date  year  month  day\n",
       "66398    1945-04-06  1945      4    6\n",
       "46346    1940-07-19  1940      7   19\n",
       "109385   1944-11-27  1944     11   27\n",
       "148945   1943-03-29  1943      3   29\n",
       "173073   1943-07-25  1943      7   25\n",
       "18174    1944-08-15  1944      8   15\n",
       "164205   1943-06-16  1943      6   16\n",
       "23850    1943-12-03  1943     12    3\n",
       "160801   1944-07-07  1944      7    7\n",
       "171859   1943-07-19  1943      7   19"
      ]
     },
     "execution_count": 21,
     "metadata": {},
     "output_type": "execute_result"
    }
   ],
   "source": [
    "df_clean[[\"Mission Date\", \"year\", \"month\", \"day\"]].sample(10)"
   ]
  },
  {
   "cell_type": "markdown",
   "metadata": {},
   "source": [
    "Finally we ask for the minimum and the maximum value of the `year` column."
   ]
  },
  {
   "cell_type": "code",
   "execution_count": 22,
   "metadata": {},
   "outputs": [
    {
     "name": "stdout",
     "output_type": "stream",
     "text": [
      "1939\n",
      "1945\n"
     ]
    }
   ],
   "source": [
    "print(df_clean[\"year\"].min())\n",
    "print(df_clean[\"year\"].max())"
   ]
  },
  {
   "cell_type": "markdown",
   "metadata": {},
   "source": [
    "* __Check if the values in the altitude column (`Altitude (Hundreds of Feet)`) is within reasonable bounds__ "
   ]
  },
  {
   "cell_type": "markdown",
   "metadata": {},
   "source": [
    "> __Challenge__: Add a new column to the data set (`Altitude (meters)`) by transforming th values in the `Altitude (Hundreds of Feet)` from feet to meters.   \n",
    "_Hint: You may use the `apply` method._\n",
    "\n",
    "$$1\\;\\text{foot} =  0.3048\\; \\text{meter}$$"
   ]
  },
  {
   "cell_type": "code",
   "execution_count": 23,
   "metadata": {},
   "outputs": [],
   "source": [
    "## your code here ...\n",
    "df_clean[\"Altitude (meters)\"] = None "
   ]
  },
  {
   "cell_type": "code",
   "execution_count": 24,
   "metadata": {},
   "outputs": [],
   "source": [
    "df_clean[\"Altitude (meters)\"] = df_clean[\"Altitude (Hundreds of Feet)\"].apply(lambda x: x*100*0.3048)"
   ]
  },
  {
   "cell_type": "code",
   "execution_count": 25,
   "metadata": {},
   "outputs": [
    {
     "data": {
      "text/plain": [
       "count    1.208260e+05\n",
       "mean     4.237537e+03\n",
       "std      5.694221e+03\n",
       "min      0.000000e+00\n",
       "25%      2.133600e+03\n",
       "50%      3.718560e+03\n",
       "75%      6.797040e+03\n",
       "max      1.219200e+06\n",
       "Name: Altitude (meters), dtype: float64"
      ]
     },
     "execution_count": 25,
     "metadata": {},
     "output_type": "execute_result"
    }
   ],
   "source": [
    "df_clean[\"Altitude (meters)\"].describe()"
   ]
  },
  {
   "cell_type": "code",
   "execution_count": 26,
   "metadata": {},
   "outputs": [
    {
     "data": {
      "text/plain": [
       "1219200.0"
      ]
     },
     "execution_count": 26,
     "metadata": {},
     "output_type": "execute_result"
    }
   ],
   "source": [
    "df_clean[\"Altitude (meters)\"].max()"
   ]
  },
  {
   "cell_type": "markdown",
   "metadata": {},
   "source": [
    "Considering the output from above and answers to the question \"_At what altitude could WW2 planes fly?_\" on [Quora](https://www.quora.com/At-what-altitude-could-WW2-planes-fly-What-was-the-record-altitude-during-the-war-and-what-planes-could-fly-at-a-high-altitude-Could-they-fly-at-the-same-altitude-as-these-days-or-not), indicating that flight heights above 40,000 feet (approx. 12,000 m) occured rarely.\n",
    "\n",
    "> __Challenge__: Limit the reported altitudes to 15,000 m and replace  outliers with `np.nan`."
   ]
  },
  {
   "cell_type": "code",
   "execution_count": 27,
   "metadata": {},
   "outputs": [],
   "source": [
    "## your code here ..."
   ]
  },
  {
   "cell_type": "code",
   "execution_count": 28,
   "metadata": {},
   "outputs": [
    {
     "name": "stdout",
     "output_type": "stream",
     "text": [
      "26\n",
      "0\n"
     ]
    },
    {
     "data": {
      "text/plain": [
       "count    120800.000000\n",
       "mean       4193.066365\n",
       "std        2685.069721\n",
       "min           0.000000\n",
       "25%        2133.600000\n",
       "50%        3718.560000\n",
       "75%        6797.040000\n",
       "max       14173.200000\n",
       "Name: Altitude (meters), dtype: float64"
      ]
     },
     "execution_count": 28,
     "metadata": {},
     "output_type": "execute_result"
    }
   ],
   "source": [
    "max_height = 15000\n",
    "print((df_clean[\"Altitude (meters)\"] > max_height).sum())\n",
    "\n",
    "# replace values with np.nan\n",
    "df_clean.loc[df_clean[\"Altitude (meters)\"] > max_height, \"Altitude (meters)\"] = np.nan\n",
    "\n",
    "# check replacement\n",
    "print((df_clean[\"Altitude (meters)\"] > max_height).sum())\n",
    "\n",
    "df_clean[\"Altitude (meters)\"].describe()"
   ]
  },
  {
   "cell_type": "markdown",
   "metadata": {},
   "source": [
    "* __Check if the values in the target location columns (`Target Latitude` and `Target Longitude`) is within reasonable bounds__.\n",
    "\n",
    "Note that the loaction is given in geographic coordinates, hence, the values should be within -90 to 90 degree latitude and -180 to 180 degree longitude."
   ]
  },
  {
   "cell_type": "code",
   "execution_count": 29,
   "metadata": {},
   "outputs": [
    {
     "data": {
      "text/html": [
       "<div>\n",
       "<style scoped>\n",
       "    .dataframe tbody tr th:only-of-type {\n",
       "        vertical-align: middle;\n",
       "    }\n",
       "\n",
       "    .dataframe tbody tr th {\n",
       "        vertical-align: top;\n",
       "    }\n",
       "\n",
       "    .dataframe thead th {\n",
       "        text-align: right;\n",
       "    }\n",
       "</style>\n",
       "<table border=\"1\" class=\"dataframe\">\n",
       "  <thead>\n",
       "    <tr style=\"text-align: right;\">\n",
       "      <th></th>\n",
       "      <th>Target Latitude</th>\n",
       "      <th>Target Longitude</th>\n",
       "    </tr>\n",
       "  </thead>\n",
       "  <tbody>\n",
       "    <tr>\n",
       "      <th>count</th>\n",
       "      <td>169565.000000</td>\n",
       "      <td>169543.000000</td>\n",
       "    </tr>\n",
       "    <tr>\n",
       "      <th>mean</th>\n",
       "      <td>38.067793</td>\n",
       "      <td>43.340213</td>\n",
       "    </tr>\n",
       "    <tr>\n",
       "      <th>std</th>\n",
       "      <td>18.711405</td>\n",
       "      <td>59.681160</td>\n",
       "    </tr>\n",
       "    <tr>\n",
       "      <th>min</th>\n",
       "      <td>-37.416667</td>\n",
       "      <td>-179.451285</td>\n",
       "    </tr>\n",
       "    <tr>\n",
       "      <th>25%</th>\n",
       "      <td>26.250000</td>\n",
       "      <td>7.620000</td>\n",
       "    </tr>\n",
       "    <tr>\n",
       "      <th>50%</th>\n",
       "      <td>47.500000</td>\n",
       "      <td>11.330000</td>\n",
       "    </tr>\n",
       "    <tr>\n",
       "      <th>75%</th>\n",
       "      <td>50.930000</td>\n",
       "      <td>97.400000</td>\n",
       "    </tr>\n",
       "    <tr>\n",
       "      <th>max</th>\n",
       "      <td>1108.000000</td>\n",
       "      <td>1000.650000</td>\n",
       "    </tr>\n",
       "  </tbody>\n",
       "</table>\n",
       "</div>"
      ],
      "text/plain": [
       "       Target Latitude  Target Longitude\n",
       "count    169565.000000     169543.000000\n",
       "mean         38.067793         43.340213\n",
       "std          18.711405         59.681160\n",
       "min         -37.416667       -179.451285\n",
       "25%          26.250000          7.620000\n",
       "50%          47.500000         11.330000\n",
       "75%          50.930000         97.400000\n",
       "max        1108.000000       1000.650000"
      ]
     },
     "execution_count": 29,
     "metadata": {},
     "output_type": "execute_result"
    }
   ],
   "source": [
    "df_clean[['Target Latitude', 'Target Longitude']].describe()"
   ]
  },
  {
   "cell_type": "code",
   "execution_count": 30,
   "metadata": {},
   "outputs": [
    {
     "data": {
      "image/png": "[encoded data removed]",
      "text/plain": [
       "<matplotlib.figure.Figure at 0x8944128>"
      ]
     },
     "metadata": {},
     "output_type": "display_data"
    }
   ],
   "source": [
    "df_clean.plot.scatter( x='Target Longitude', y='Target Latitude');"
   ]
  },
  {
   "cell_type": "markdown",
   "metadata": {},
   "source": [
    "Considering the table and the plot above there are some deviations from the expected values."
   ]
  },
  {
   "cell_type": "markdown",
   "metadata": {},
   "source": [
    "> __Challenge__: Replace geographical coordinates ouside the natural limits [-90, 90] degrees latitude and [-180, 180] degrees longitude with `np.nan`."
   ]
  },
  {
   "cell_type": "code",
   "execution_count": 31,
   "metadata": {},
   "outputs": [],
   "source": [
    "## your code here ..."
   ]
  },
  {
   "cell_type": "code",
   "execution_count": 32,
   "metadata": {},
   "outputs": [
    {
     "name": "stdout",
     "output_type": "stream",
     "text": [
      "Target Longitude    120\n",
      "Target Latitude     120\n",
      "dtype: int64\n"
     ]
    },
    {
     "data": {
      "image/png": "[encoded data removed]",
      "text/plain": [
       "<matplotlib.figure.Figure at 0x9311da0>"
      ]
     },
     "metadata": {},
     "output_type": "display_data"
    }
   ],
   "source": [
    "print(df_clean.loc[((df_clean['Target Longitude'] > 180) |\n",
    "                    (df_clean['Target Longitude'] < -180) | \n",
    "                    (df_clean['Target Latitude'] > 90 )| \n",
    "                    (df_clean['Target Latitude'] < -90)), \n",
    "                   ['Target Longitude', 'Target Latitude']].count())\n",
    "\n",
    "df_clean.loc[((df_clean['Target Longitude'] > 180) |\n",
    "                    (df_clean['Target Longitude'] < -180) | \n",
    "                    (df_clean['Target Latitude'] > 90 )| \n",
    "                    (df_clean['Target Latitude'] < -90)), \n",
    "                   ['Target Longitude', 'Target Latitude']] = np.nan\n",
    "\n",
    "df_clean.plot.scatter( x='Target Longitude', y='Target Latitude');"
   ]
  },
  {
   "cell_type": "markdown",
   "metadata": {},
   "source": [
    "### Dealing with irrelavant data\n",
    "\n",
    "Our data set, as well as other data sets we encounter, sometimes come with features which are irrelevant for the purpose our research question. Hence, to reduce the data set size for the purpose of better readability as well as memory issues, amomg other, we may drop data columns. However, once again domain knowledge helps to deceide which columns are of interest or not.   "
   ]
  },
  {
   "cell_type": "code",
   "execution_count": 33,
   "metadata": {},
   "outputs": [
    {
     "data": {
      "text/plain": [
       "Index(['Mission ID', 'Mission Date', 'Theater of Operations', 'Country',\n",
       "       'Air Force', 'Aircraft Series', 'Target ID', 'Target Country',\n",
       "       'Target City', 'Target Type', 'Target Industry', 'Target Priority',\n",
       "       'Target Latitude', 'Target Longitude', 'Altitude (Hundreds of Feet)',\n",
       "       'Attacking Aircraft', 'High Explosives Weight (Tons)',\n",
       "       'Total Weight (Tons)', 'Source ID', 'year', 'month', 'day',\n",
       "       'Altitude (meters)'],\n",
       "      dtype='object')"
      ]
     },
     "execution_count": 33,
     "metadata": {},
     "output_type": "execute_result"
    }
   ],
   "source": [
    "df_clean.columns"
   ]
  },
  {
   "cell_type": "code",
   "execution_count": 34,
   "metadata": {},
   "outputs": [
    {
     "data": {
      "text/html": [
       "<div>\n",
       "<style scoped>\n",
       "    .dataframe tbody tr th:only-of-type {\n",
       "        vertical-align: middle;\n",
       "    }\n",
       "\n",
       "    .dataframe tbody tr th {\n",
       "        vertical-align: top;\n",
       "    }\n",
       "\n",
       "    .dataframe thead th {\n",
       "        text-align: right;\n",
       "    }\n",
       "</style>\n",
       "<table border=\"1\" class=\"dataframe\">\n",
       "  <thead>\n",
       "    <tr style=\"text-align: right;\">\n",
       "      <th></th>\n",
       "      <th>Mission ID</th>\n",
       "      <th>Mission Date</th>\n",
       "      <th>Theater of Operations</th>\n",
       "      <th>Country</th>\n",
       "      <th>Air Force</th>\n",
       "      <th>Aircraft Series</th>\n",
       "      <th>Target ID</th>\n",
       "      <th>Target Country</th>\n",
       "      <th>Target City</th>\n",
       "      <th>Target Type</th>\n",
       "      <th>Target Industry</th>\n",
       "      <th>Target Priority</th>\n",
       "      <th>Target Latitude</th>\n",
       "      <th>Target Longitude</th>\n",
       "      <th>Altitude (Hundreds of Feet)</th>\n",
       "      <th>Attacking Aircraft</th>\n",
       "      <th>High Explosives Weight (Tons)</th>\n",
       "      <th>Total Weight (Tons)</th>\n",
       "      <th>Source ID</th>\n",
       "      <th>year</th>\n",
       "      <th>month</th>\n",
       "      <th>day</th>\n",
       "      <th>Altitude (meters)</th>\n",
       "    </tr>\n",
       "  </thead>\n",
       "  <tbody>\n",
       "    <tr>\n",
       "      <th>0</th>\n",
       "      <td>1</td>\n",
       "      <td>1943-08-15</td>\n",
       "      <td>MTO</td>\n",
       "      <td>USA</td>\n",
       "      <td>12 AF</td>\n",
       "      <td>A36</td>\n",
       "      <td>40675</td>\n",
       "      <td>ITALY</td>\n",
       "      <td>SPADAFORA</td>\n",
       "      <td>NaN</td>\n",
       "      <td>NaN</td>\n",
       "      <td>NaN</td>\n",
       "      <td>38.220000</td>\n",
       "      <td>15.370000</td>\n",
       "      <td>NaN</td>\n",
       "      <td>NaN</td>\n",
       "      <td>10.0</td>\n",
       "      <td>10.0</td>\n",
       "      <td>NaN</td>\n",
       "      <td>1943</td>\n",
       "      <td>8</td>\n",
       "      <td>15</td>\n",
       "      <td>NaN</td>\n",
       "    </tr>\n",
       "    <tr>\n",
       "      <th>1</th>\n",
       "      <td>2</td>\n",
       "      <td>1943-08-15</td>\n",
       "      <td>PTO</td>\n",
       "      <td>USA</td>\n",
       "      <td>5 AF</td>\n",
       "      <td>B24</td>\n",
       "      <td>NaN</td>\n",
       "      <td>NEW GUINEA</td>\n",
       "      <td>KOMIATUM</td>\n",
       "      <td>RIDGE</td>\n",
       "      <td>NaN</td>\n",
       "      <td>1</td>\n",
       "      <td>-7.166667</td>\n",
       "      <td>147.000000</td>\n",
       "      <td>44.0</td>\n",
       "      <td>6.0</td>\n",
       "      <td>20.0</td>\n",
       "      <td>20.0</td>\n",
       "      <td>9366.0</td>\n",
       "      <td>1943</td>\n",
       "      <td>8</td>\n",
       "      <td>15</td>\n",
       "      <td>1341.12</td>\n",
       "    </tr>\n",
       "    <tr>\n",
       "      <th>2</th>\n",
       "      <td>3</td>\n",
       "      <td>1943-08-15</td>\n",
       "      <td>MTO</td>\n",
       "      <td>USA</td>\n",
       "      <td>12 AF</td>\n",
       "      <td>A36</td>\n",
       "      <td>9630</td>\n",
       "      <td>ITALY</td>\n",
       "      <td>COSENZA</td>\n",
       "      <td>NaN</td>\n",
       "      <td>NaN</td>\n",
       "      <td>NaN</td>\n",
       "      <td>39.270000</td>\n",
       "      <td>16.250000</td>\n",
       "      <td>NaN</td>\n",
       "      <td>NaN</td>\n",
       "      <td>9.0</td>\n",
       "      <td>9.0</td>\n",
       "      <td>NaN</td>\n",
       "      <td>1943</td>\n",
       "      <td>8</td>\n",
       "      <td>15</td>\n",
       "      <td>NaN</td>\n",
       "    </tr>\n",
       "    <tr>\n",
       "      <th>3</th>\n",
       "      <td>4</td>\n",
       "      <td>1943-08-15</td>\n",
       "      <td>MTO</td>\n",
       "      <td>USA</td>\n",
       "      <td>12 AF</td>\n",
       "      <td>A36</td>\n",
       "      <td>16140</td>\n",
       "      <td>ITALY</td>\n",
       "      <td>GIOJA TAURO</td>\n",
       "      <td>NaN</td>\n",
       "      <td>NaN</td>\n",
       "      <td>NaN</td>\n",
       "      <td>38.430000</td>\n",
       "      <td>15.900000</td>\n",
       "      <td>NaN</td>\n",
       "      <td>NaN</td>\n",
       "      <td>7.5</td>\n",
       "      <td>7.5</td>\n",
       "      <td>NaN</td>\n",
       "      <td>1943</td>\n",
       "      <td>8</td>\n",
       "      <td>15</td>\n",
       "      <td>NaN</td>\n",
       "    </tr>\n",
       "    <tr>\n",
       "      <th>4</th>\n",
       "      <td>5</td>\n",
       "      <td>1943-08-15</td>\n",
       "      <td>PTO</td>\n",
       "      <td>USA</td>\n",
       "      <td>5 AF</td>\n",
       "      <td>B24</td>\n",
       "      <td>NaN</td>\n",
       "      <td>SUMATRA</td>\n",
       "      <td>KILA</td>\n",
       "      <td>VILLAGE</td>\n",
       "      <td>NaN</td>\n",
       "      <td>1</td>\n",
       "      <td>-1.116667</td>\n",
       "      <td>103.883333</td>\n",
       "      <td>60.0</td>\n",
       "      <td>6.0</td>\n",
       "      <td>8.0</td>\n",
       "      <td>8.0</td>\n",
       "      <td>22585.0</td>\n",
       "      <td>1943</td>\n",
       "      <td>8</td>\n",
       "      <td>15</td>\n",
       "      <td>1828.80</td>\n",
       "    </tr>\n",
       "  </tbody>\n",
       "</table>\n",
       "</div>"
      ],
      "text/plain": [
       "   Mission ID Mission Date Theater of Operations Country Air Force  \\\n",
       "0           1   1943-08-15                   MTO     USA     12 AF   \n",
       "1           2   1943-08-15                   PTO     USA      5 AF   \n",
       "2           3   1943-08-15                   MTO     USA     12 AF   \n",
       "3           4   1943-08-15                   MTO     USA     12 AF   \n",
       "4           5   1943-08-15                   PTO     USA      5 AF   \n",
       "\n",
       "  Aircraft Series Target ID Target Country  Target City Target Type  \\\n",
       "0             A36     40675          ITALY    SPADAFORA         NaN   \n",
       "1             B24       NaN     NEW GUINEA     KOMIATUM       RIDGE   \n",
       "2             A36      9630          ITALY      COSENZA         NaN   \n",
       "3             A36     16140          ITALY  GIOJA TAURO         NaN   \n",
       "4             B24       NaN        SUMATRA         KILA     VILLAGE   \n",
       "\n",
       "  Target Industry Target Priority  Target Latitude  Target Longitude  \\\n",
       "0             NaN             NaN        38.220000         15.370000   \n",
       "1             NaN               1        -7.166667        147.000000   \n",
       "2             NaN             NaN        39.270000         16.250000   \n",
       "3             NaN             NaN        38.430000         15.900000   \n",
       "4             NaN               1        -1.116667        103.883333   \n",
       "\n",
       "   Altitude (Hundreds of Feet)  Attacking Aircraft  \\\n",
       "0                          NaN                 NaN   \n",
       "1                         44.0                 6.0   \n",
       "2                          NaN                 NaN   \n",
       "3                          NaN                 NaN   \n",
       "4                         60.0                 6.0   \n",
       "\n",
       "   High Explosives Weight (Tons)  Total Weight (Tons)  Source ID  year  month  \\\n",
       "0                           10.0                 10.0        NaN  1943      8   \n",
       "1                           20.0                 20.0     9366.0  1943      8   \n",
       "2                            9.0                  9.0        NaN  1943      8   \n",
       "3                            7.5                  7.5        NaN  1943      8   \n",
       "4                            8.0                  8.0    22585.0  1943      8   \n",
       "\n",
       "   day  Altitude (meters)  \n",
       "0   15                NaN  \n",
       "1   15            1341.12  \n",
       "2   15                NaN  \n",
       "3   15                NaN  \n",
       "4   15            1828.80  "
      ]
     },
     "execution_count": 34,
     "metadata": {},
     "output_type": "execute_result"
    }
   ],
   "source": [
    "df_clean.head()"
   ]
  },
  {
   "cell_type": "markdown",
   "metadata": {},
   "source": [
    "Exploring the data set above we deceide to drop the columns `Air Force`, `Target ID`, `Target Priority`, `Altitude (Hundreds of Feet)`, `Source ID`. \n",
    "\n",
    "One way to achieve this task with Python is to use the powerful [list comprehension](https://docs.python.org/3/tutorial/datastructures.html#list-comprehensions).  "
   ]
  },
  {
   "cell_type": "code",
   "execution_count": 35,
   "metadata": {},
   "outputs": [],
   "source": [
    "cols2exlude = ['Theater of Operations', 'Air Force', 'Target ID', \n",
    "               'Target Priority', 'Altitude (Hundreds of Feet)', 'Source ID']"
   ]
  },
  {
   "cell_type": "code",
   "execution_count": 36,
   "metadata": {},
   "outputs": [
    {
     "data": {
      "text/plain": [
       "Index(['Mission ID', 'Mission Date', 'Country', 'Aircraft Series',\n",
       "       'Target Country', 'Target City', 'Target Type', 'Target Industry',\n",
       "       'Target Latitude', 'Target Longitude', 'Attacking Aircraft',\n",
       "       'High Explosives Weight (Tons)', 'Total Weight (Tons)', 'year', 'month',\n",
       "       'day', 'Altitude (meters)'],\n",
       "      dtype='object')"
      ]
     },
     "execution_count": 36,
     "metadata": {},
     "output_type": "execute_result"
    }
   ],
   "source": [
    "df_clean = df_clean[[c for c in df_clean.columns if c not in cols2exlude]] \n",
    "# check operation\n",
    "df_clean.columns"
   ]
  },
  {
   "cell_type": "markdown",
   "metadata": {},
   "source": [
    "### Spatial subsetting the data set"
   ]
  },
  {
   "cell_type": "code",
   "execution_count": 37,
   "metadata": {},
   "outputs": [],
   "source": [
    "df_subset = df_clean.copy()"
   ]
  },
  {
   "cell_type": "markdown",
   "metadata": {},
   "source": [
    "***\n",
    "### Spatial Data"
   ]
  },
  {
   "cell_type": "code",
   "execution_count": null,
   "metadata": {},
   "outputs": [],
   "source": [
    "import geopandas as gpd\n",
    "from shapely.geometry import Point"
   ]
  },
  {
   "cell_type": "code",
   "execution_count": null,
   "metadata": {},
   "outputs": [],
   "source": [
    "df.columns"
   ]
  },
  {
   "cell_type": "code",
   "execution_count": null,
   "metadata": {},
   "outputs": [],
   "source": [
    "df[['Target Latitude', 'Target Longitude']].head()"
   ]
  },
  {
   "cell_type": "code",
   "execution_count": null,
   "metadata": {},
   "outputs": [],
   "source": [
    "geometry = [Point(xy) for xy in zip(df['Target Longitude'], df['Target Latitude'])]\n",
    "gdf = gpd.GeoDataFrame(df, geometry=geometry)\n",
    "gdf.head()"
   ]
  },
  {
   "cell_type": "code",
   "execution_count": null,
   "metadata": {},
   "outputs": [],
   "source": [
    "gdf.plot()"
   ]
  },
  {
   "cell_type": "code",
   "execution_count": null,
   "metadata": {},
   "outputs": [],
   "source": [
    "_ = gdf.loc[((gdf['Target Longitude'] > 180) | \n",
    "             (gdf['Target Longitude'] < -180) | \n",
    "             (df['Target Latitude'] > 90 )| \n",
    "             (df['Target Latitude'] < -90)), ['Target Longitude', 'Target Latitude']]\n",
    "print(_.shape)\n",
    "_.sample(15)"
   ]
  },
  {
   "cell_type": "code",
   "execution_count": null,
   "metadata": {},
   "outputs": [],
   "source": [
    "gdf = gdf.loc[~(\n",
    "    (gdf['Target Longitude'] > 180) |\n",
    "    (gdf['Target Longitude'] < -180) |                \n",
    "    (df['Target Latitude'] > 90)| \n",
    "    (df['Target Latitude'] < -90)\n",
    "               )\n",
    "             ]\n",
    "print(gdf.shape)"
   ]
  },
  {
   "cell_type": "code",
   "execution_count": null,
   "metadata": {},
   "outputs": [],
   "source": [
    "gdf[['Target Longitude', 'Target Latitude']].isnull().sum()"
   ]
  },
  {
   "cell_type": "code",
   "execution_count": null,
   "metadata": {},
   "outputs": [],
   "source": [
    "gdf = gdf.loc[gdf[['Target Longitude', 'Target Latitude']].notnull().all(axis = 1)]\n",
    "print(gdf.shape)"
   ]
  },
  {
   "cell_type": "code",
   "execution_count": null,
   "metadata": {},
   "outputs": [],
   "source": [
    "gdf.plot()"
   ]
  },
  {
   "cell_type": "code",
   "execution_count": null,
   "metadata": {},
   "outputs": [],
   "source": [
    "gdf.crs =  {'init' :'epsg:4326'}"
   ]
  },
  {
   "cell_type": "markdown",
   "metadata": {},
   "source": [
    "### Load “Natural Earth” countries dataset, bundled with GeoPandas\n",
    "\n",
    "“[Natural Earth](http://www.naturalearthdata.com/) is a public domain map dataset available at 1:10m, 1:50m, and 1:110 million scales. Featuring tightly integrated vector and raster data, with Natural Earth you can make a variety of visually pleasing, well-crafted maps with cartography or GIS software.” A subset comes bundled with GeoPandas and is accessible from the gpd.datasets module. We’ll use it as a helpful global base layer map.\n",
    "\n"
   ]
  },
  {
   "cell_type": "code",
   "execution_count": null,
   "metadata": {},
   "outputs": [],
   "source": [
    "world = gpd.read_file(gpd.datasets.get_path('naturalearth_lowres'))\n",
    "world.head(2)"
   ]
  },
  {
   "cell_type": "code",
   "execution_count": null,
   "metadata": {},
   "outputs": [],
   "source": [
    "world.crs"
   ]
  },
  {
   "cell_type": "code",
   "execution_count": null,
   "metadata": {},
   "outputs": [],
   "source": [
    "world.plot(facecolor='lightgray')"
   ]
  },
  {
   "cell_type": "code",
   "execution_count": null,
   "metadata": {},
   "outputs": [],
   "source": [
    "base=world.plot(facecolor='lightgray')\n",
    "gdf.plot(ax=base, marker='o', color='red', markersize=10, alpha=0.01)"
   ]
  },
  {
   "cell_type": "code",
   "execution_count": null,
   "metadata": {},
   "outputs": [],
   "source": [
    "gdf[\"Target Country\"].isin([\"GERMANY\", \"FRANCE\", \"ITALY\"]).sum()/gdf.shape[0]"
   ]
  },
  {
   "cell_type": "markdown",
   "metadata": {},
   "source": [
    "Area: 73.5°N 27.0°W 33.0°N 45.0°E"
   ]
  },
  {
   "cell_type": "code",
   "execution_count": null,
   "metadata": {},
   "outputs": [],
   "source": [
    "from shapely.geometry import Polygon\n",
    "poly_europe = gpd.GeoSeries([Polygon([(-27,33), (45,33), (45,73.5), (-27,73.5)])])\n",
    "bb_europe = gpd.GeoDataFrame({'geometry': poly_europe})\n",
    "bb_europe.crs = {'init' :'epsg:4326'}"
   ]
  },
  {
   "cell_type": "code",
   "execution_count": null,
   "metadata": {},
   "outputs": [],
   "source": [
    "base=world.plot(facecolor='lightgray')\n",
    "bb_europe.plot(ax=base,alpha=0.5)"
   ]
  },
  {
   "cell_type": "code",
   "execution_count": null,
   "metadata": {},
   "outputs": [],
   "source": [
    "gdf_europe = gpd.sjoin(gdf, bb_europe, how=\"inner\", op='intersects')\n",
    "print(gdf_europe.shape)"
   ]
  },
  {
   "cell_type": "code",
   "execution_count": null,
   "metadata": {},
   "outputs": [],
   "source": [
    "gdf_europe.plot()"
   ]
  },
  {
   "cell_type": "code",
   "execution_count": null,
   "metadata": {},
   "outputs": [],
   "source": [
    "europe = gpd.overlay(world, bb_europe, how='intersection')"
   ]
  },
  {
   "cell_type": "code",
   "execution_count": null,
   "metadata": {
    "scrolled": false
   },
   "outputs": [],
   "source": [
    "base=europe.plot(facecolor='lightgray')\n",
    "gdf_europe.plot(ax=base, marker='o', color='red', markersize=5, alpha=0.01)"
   ]
  },
  {
   "cell_type": "markdown",
   "metadata": {},
   "source": [
    "***\n",
    "## Exploratory data analysis"
   ]
  },
  {
   "cell_type": "code",
   "execution_count": null,
   "metadata": {},
   "outputs": [],
   "source": [
    "df = df_eng.copy()\n",
    "df.shape"
   ]
  },
  {
   "cell_type": "code",
   "execution_count": null,
   "metadata": {},
   "outputs": [],
   "source": [
    "df.columns"
   ]
  },
  {
   "cell_type": "code",
   "execution_count": null,
   "metadata": {},
   "outputs": [],
   "source": [
    "df.head()"
   ]
  },
  {
   "cell_type": "code",
   "execution_count": null,
   "metadata": {},
   "outputs": [],
   "source": [
    "df.reset_index().groupby(\"Mission Date\").count()[\"Mission ID\"].plot()"
   ]
  },
  {
   "cell_type": "code",
   "execution_count": null,
   "metadata": {},
   "outputs": [],
   "source": [
    "df.Country.unique()"
   ]
  },
  {
   "cell_type": "code",
   "execution_count": null,
   "metadata": {},
   "outputs": [],
   "source": [
    "df.reset_index().groupby(\"Country\").count()[\"Mission ID\"].plot.bar()"
   ]
  },
  {
   "cell_type": "code",
   "execution_count": null,
   "metadata": {},
   "outputs": [],
   "source": [
    "df.reset_index().groupby([\"year\",  \"Country\"]).count()[\"Mission ID\"].unstack().plot.bar(rot=0)"
   ]
  },
  {
   "cell_type": "code",
   "execution_count": null,
   "metadata": {},
   "outputs": [],
   "source": [
    "df.reset_index().groupby([\"month\",  \"Country\"]).count()[\"Mission ID\"].unstack().plot.bar(rot=0)"
   ]
  },
  {
   "cell_type": "code",
   "execution_count": null,
   "metadata": {},
   "outputs": [],
   "source": [
    "df.groupby([\"year\",  \"Country\"]).mean()['Altitude (meters)'].unstack().plot.bar()"
   ]
  },
  {
   "cell_type": "code",
   "execution_count": null,
   "metadata": {},
   "outputs": [],
   "source": [
    "df.groupby([\"Country\"]).agg([\"max\", \"median\"])['Altitude (meters)'].plot.bar()"
   ]
  },
  {
   "cell_type": "code",
   "execution_count": null,
   "metadata": {},
   "outputs": [],
   "source": [
    "df['High Explosives Weight (Tons)'].plot.hist(bins=100)"
   ]
  },
  {
   "cell_type": "code",
   "execution_count": null,
   "metadata": {},
   "outputs": [],
   "source": [
    "df.groupby([\"Country\"]).agg([\"mean\", \"median\"])['High Explosives Weight (Tons)'].plot.bar()"
   ]
  },
  {
   "cell_type": "code",
   "execution_count": null,
   "metadata": {},
   "outputs": [],
   "source": [
    "df.groupby([\"year\",  \"Country\"]).median()['High Explosives Weight (Tons)'].unstack().plot.bar()   "
   ]
  },
  {
   "cell_type": "code",
   "execution_count": null,
   "metadata": {},
   "outputs": [],
   "source": [
    "_ = df.groupby(\"Target Country\")[\"Target Country\"].value_counts()\n",
    "_[_ > 2000].plot.pie()"
   ]
  },
  {
   "cell_type": "code",
   "execution_count": null,
   "metadata": {},
   "outputs": [],
   "source": [
    "df.reset_index().groupby([\"year\",  \"Target Country\"])[\"Mission ID\"].count().sort_values(ascending=False)#.unstack().plot.bar()   "
   ]
  },
  {
   "cell_type": "code",
   "execution_count": null,
   "metadata": {},
   "outputs": [],
   "source": []
  },
  {
   "cell_type": "code",
   "execution_count": null,
   "metadata": {},
   "outputs": [],
   "source": [
    "len(df[\"Target Type\"].unique())"
   ]
  },
  {
   "cell_type": "code",
   "execution_count": null,
   "metadata": {},
   "outputs": [],
   "source": [
    "len(df[\"Target Industry\"].unique())"
   ]
  },
  {
   "cell_type": "code",
   "execution_count": null,
   "metadata": {},
   "outputs": [],
   "source": [
    "df.reset_index().groupby(\"Target Industry\").count()[\"Mission ID\"].sort_values(ascending=False).plot.bar(figsize=(16,4))"
   ]
  },
  {
   "cell_type": "code",
   "execution_count": null,
   "metadata": {},
   "outputs": [],
   "source": [
    "df['Target Country'].unique()"
   ]
  },
  {
   "cell_type": "code",
   "execution_count": null,
   "metadata": {},
   "outputs": [],
   "source": [
    "df.reset_index().groupby(\"Target Country\").count()[\"Mission ID\"].sort_values(ascending=False).plot.bar(figsize=(16,4))"
   ]
  },
  {
   "cell_type": "code",
   "execution_count": null,
   "metadata": {},
   "outputs": [],
   "source": [
    "df.groupby(\"Target Country\").sum()[\"High Explosives Weight (Tons)\"].sort_values(ascending=False).plot.bar(figsize=(16,4))"
   ]
  },
  {
   "cell_type": "markdown",
   "metadata": {},
   "source": [
    "#### Kernel density plot"
   ]
  },
  {
   "cell_type": "code",
   "execution_count": null,
   "metadata": {},
   "outputs": [],
   "source": [
    "import seaborn as sns"
   ]
  },
  {
   "cell_type": "code",
   "execution_count": null,
   "metadata": {},
   "outputs": [],
   "source": [
    "#fig, ax = plt.subplots(224)\n",
    "fig = plt.figure(figsize=(16,12))\n",
    "# set aspect to equal. This is done automatically\n",
    "# when using *geopandas* plot on it's own, but not when\n",
    "# working with pyplot directly.\n",
    "bws = [0.2, 0.4, 0.6, 0.8]\n",
    "for e in range(4):\n",
    "    ax = plt.subplot(2,2,e+1)\n",
    "    ax.set_aspect('equal')\n",
    "    europe.plot(ax=ax, facecolor='lightgray')\n",
    "    sns.kdeplot(gdf_europe['Target Longitude'], gdf_europe['Target Latitude'],\n",
    "                cmap=\"viridis\", shade=True, shade_lowest=False, ax=ax, bw=bws[e])\n",
    "    ax.set_title(\"Bandwith: \" + str(bws[e]), size=16)\n",
    "plt.tight_layout()\n",
    "plt.suptitle(\"KDE for different bandwith parameters\", size=22);"
   ]
  },
  {
   "cell_type": "code",
   "execution_count": null,
   "metadata": {},
   "outputs": [],
   "source": [
    "gdf_europe.Country.unique()"
   ]
  },
  {
   "cell_type": "code",
   "execution_count": null,
   "metadata": {},
   "outputs": [],
   "source": [
    "gdf_europe.Country.replace(np.nan, \"unknown\", inplace=True)"
   ]
  },
  {
   "cell_type": "code",
   "execution_count": null,
   "metadata": {},
   "outputs": [],
   "source": [
    "fig = plt.figure(figsize=(16,12))\n",
    "years = [1940, 1941 ,1942, 1943, 1944, 1945]\n",
    "for e in range(len(years)):\n",
    "    ax = plt.subplot(3,2,e+1)\n",
    "    ax.set_aspect('equal')\n",
    "    europe.plot(ax=ax, facecolor='lightgray')\n",
    "    _ = gdf_europe.loc[gdf_europe.year == years[e]]\n",
    "    _.plot(ax=ax, marker='o', cmap='Set1',           \n",
    "           column='Country', legend=True, \n",
    "           markersize=5, alpha=1)\n",
    "    ax.set_title(\"Year: \" + str(years[e]), size=16)    \n",
    "plt.tight_layout()\n",
    "plt.suptitle(\"Attacks for different years\", size=22)\n",
    "plt.subplots_adjust(top=0.92)"
   ]
  },
  {
   "cell_type": "code",
   "execution_count": null,
   "metadata": {},
   "outputs": [],
   "source": []
  }
 ],
 "metadata": {
  "hide_input": false,
  "kernelspec": {
   "display_name": "Python 3",
   "language": "python",
   "name": "python3"
  },
  "language_info": {
   "codemirror_mode": {
    "name": "ipython",
    "version": 3
   },
   "file_extension": ".py",
   "mimetype": "text/x-python",
   "name": "python",
   "nbconvert_exporter": "python",
   "pygments_lexer": "ipython3",
   "version": "3.6.4"
  }
 },
 "nbformat": 4,
 "nbformat_minor": 2
}
