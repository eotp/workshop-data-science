{
 "cells": [
  {
   "cell_type": "markdown",
   "metadata": {
    "slideshow": {
     "slide_type": "-"
    }
   },
   "source": [
    "# The Python ecosystem"
   ]
  },
  {
   "cell_type": "markdown",
   "metadata": {},
   "source": [
    "In the next section we provide a whirlwind tour through some popular Python libraries for data science, somtimes refered to as **_scientific computing_** or **_data science stack_**.\n",
    "\n",
    "\n",
    "> _If you are interested in other domain specific stacks consider [Awesome Python](https://awesome-python.com/), a curated list of Python frameworks, libraries, software and resources._"
   ]
  },
  {
   "cell_type": "markdown",
   "metadata": {},
   "source": [
    "***\n",
    "__The Python ecosystem (data science stack)__\n",
    "<img src=\"./_img/python_ecosystem3.png\"  style=\"height: 350px;\">"
   ]
  },
  {
   "cell_type": "markdown",
   "metadata": {},
   "source": [
    "## __Table of content__\n",
    "\n",
    "\n",
    "* ### [Ten minutes of Python](02a - The Python Ecosystem - Ten minutes of Python.ipynb) (Jonas?)\n",
    "* ### [The standard library](02b - The Python Ecosystem - The standard library.ipynb)\n",
    "* ### [The NumPy library](02c - The Python Ecosystem - The NumPy library.ipynb) (work in progress)\n",
    "* ### [Plotting with Python](02d - The Python Ecosystem - Plotting with Python.ipynb) \n",
    "* ### [The SciPy library](02e - The Python Ecosystem - The SciPy library.ipynb)\n",
    "* ### [The statsmodels library](02f - The Python Ecosystem - The statsmodels library.ipynb) \n",
    "* ### [The pandas library](02g - The Python Ecosystem - The pandas library.ipynb) \n",
    "* ### [The scikit-learn library](02h - The Python Ecosystem - The scikit-learn library.ipynb) (March 19, 2018) (work in progress)"
   ]
  },
  {
   "cell_type": "code",
   "execution_count": null,
   "metadata": {},
   "outputs": [],
   "source": []
  }
 ],
 "metadata": {
  "kernelspec": {
   "display_name": "Python 3",
   "language": "python",
   "name": "python3"
  },
  "language_info": {
   "codemirror_mode": {
    "name": "ipython",
    "version": 3
   },
   "file_extension": ".py",
   "mimetype": "text/x-python",
   "name": "python",
   "nbconvert_exporter": "python",
   "pygments_lexer": "ipython3",
   "version": "3.6.4"
  },
  "livereveal": {
   "scroll": true,
   "start_slideshow_at": "selected"
  }
 },
 "nbformat": 4,
 "nbformat_minor": 2
}
